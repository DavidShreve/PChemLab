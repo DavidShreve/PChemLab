{
 "cells": [
  {
   "attachments": {},
   "cell_type": "markdown",
   "metadata": {},
   "source": [
    "Student's Name and Email Address\n",
    "\n",
    "Boise State University, Department of Chemistry and Biochemistry"
   ]
  },
  {
   "attachments": {},
   "cell_type": "markdown",
   "metadata": {},
   "source": [
    "## CHEM 324: PChem Lab {-}\n",
    "# Worksheet 3: Bomb Calorimetry {-}"
   ]
  },
  {
   "cell_type": "code",
   "metadata": {
    "ExecuteTime": {
     "end_time": "2025-04-21T03:04:58.474033Z",
     "start_time": "2025-04-21T03:04:58.463897Z"
    }
   },
   "source": [
    "# @title Notebook Setup { display-mode: \"form\" }\n",
    "# Import the main modules used in this worksheet\n",
    "import numpy as np\n",
    "import matplotlib.pyplot as plt\n",
    "import pandas as pd\n",
    "from sklearn.linear_model import LinearRegression\n",
    "from scipy.stats import sem, t, norm\n",
    "\n",
    "base_path = '/Users/School/PycharmProjects/PChemLab/Bomb_Data/Bomb Cal'"
   ],
   "outputs": [],
   "execution_count": 23
  },
  {
   "cell_type": "code",
   "metadata": {
    "ExecuteTime": {
     "end_time": "2025-04-21T03:04:58.495268Z",
     "start_time": "2025-04-21T03:04:58.478117Z"
    }
   },
   "source": [
    "# @title Utilities { display-mode: \"form\" }\n",
    "# Functions designed for loading, analyzing, and fitting the bomb calorimetry data\n",
    "def get_sec(time_str):\n",
    "    \"\"\"\n",
    "    Convert a time string in HH:MM:SS format into an integer number of seconds\n",
    "\n",
    "    Input variables:\n",
    "        time_str : a string with a time in HH:MM:SS format\n",
    "\n",
    "    Output:\n",
    "        time : the integer number of seconds corresponding to the input time_str\n",
    "    \"\"\"\n",
    "    h, m, s = time_str.split(':')\n",
    "    return int(h) * 3600 + int(m) * 60 + int(s)\n",
    "\n",
    "def load_data_to_file_dict(file_dict):\n",
    "    \"\"\"\n",
    "    Load a bomb calorimetry .csv file.\n",
    "    The format of the file should have the first column with time in HH:MM:SS format and\n",
    "    the second column with the recorded temperature. Any additional column is discarded\n",
    "\n",
    "    Input variables:\n",
    "        file_dict : a dictionary with 'path' and 'name' keys corresponding to the file to be loaded\n",
    "\n",
    "    Action:\n",
    "        Add to file_dict a Pandas DataFrame with two columns: time (in seconds) and temperature (in input units)\n",
    "    \"\"\"\n",
    "    data = pd.read_csv(file_dict['path']+file_dict['name'],usecols=(0,2),names=['hh:mm:ss','temperature'])\n",
    "    data['time'] = data['hh:mm:ss'].apply(get_sec)\n",
    "    data = data.drop(columns=['hh:mm:ss'])\n",
    "    file_dict['data'] = data\n",
    "    return\n",
    "\n",
    "def load_data_to_file_list(file_list):\n",
    "    \"\"\"\n",
    "    Given a list of dictionary files, recursively use load_data_to_file_dict to load the data into each of the dictionaries\n",
    "\n",
    "    Input variables:\n",
    "        file_list : a list of dictionary files, each with 'path' and 'name' keys corresponding to the file to be loaded\n",
    "\n",
    "    Action:\n",
    "        Add to each file_dict a Pandas DataFrame with two columns: time (in seconds) and temperature (in input units)\n",
    "    \"\"\"\n",
    "    for f in file_list :\n",
    "        if not ('data' in f): load_data_to_file_dict(f)\n",
    "    return\n",
    "\n",
    "def plot_file_dict(file_dict):\n",
    "    \"\"\"\n",
    "    Given a dictionary file of a bomb calorimetry experiment, plot temperature vs. time.\n",
    "\n",
    "    Input variables:\n",
    "        file_dict : a dictionary file with 'path' and 'name' keys corresponding to the file to be loaded\n",
    "\n",
    "    Action:\n",
    "        Plot temperature vs. time for the selected file\n",
    "    \"\"\"\n",
    "    fig, ax = plt.subplots()\n",
    "    if not ('data' in file_dict):\n",
    "        load_data_to_file_dict(f)\n",
    "    file_dict['data'].plot('time','temperature',label=file_dict['name'],ax=ax)\n",
    "    plt.xlabel('Time (s)')\n",
    "    plt.ylabel('Temperature ($^{\\circ}$C)')\n",
    "    plt.show()\n",
    "\n",
    "def plot_by_key(file_list,key='',value=['']):\n",
    "    \"\"\"\n",
    "    Given a list of dictionary files, plot temperature vs. time for each file into the same plot.\n",
    "    If key/value are specified, only plot the files for which the key has the specified value.\n",
    "\n",
    "    Input variables:\n",
    "        file_list : a list of dictionary files, each with 'path' and 'name' keys corresponding to the file to be loaded\n",
    "        key: a string with the name of the key to shortlist the files\n",
    "        value: the value of the key used to select the shortlist of files\n",
    "\n",
    "    Action:\n",
    "        Plot temperature vs. time for the selected files\n",
    "    \"\"\"\n",
    "    if value == '' or key == '':\n",
    "        file_shortlist = file_list\n",
    "    else :\n",
    "        file_shortlist = [f for f in file_list if f[key] in value ]\n",
    "    fig, ax = plt.subplots()\n",
    "    for f in file_shortlist :\n",
    "        if not ('data' in f):\n",
    "            load_data_to_file_dict(f)\n",
    "        f['data'].plot('time','temperature',label=f['name'],ax=ax)\n",
    "    plt.xlabel('Time (s)')\n",
    "    plt.ylabel('Temperature ($^{\\circ}$C)')\n",
    "    plt.show()\n",
    "\n",
    "def get_time_skip(file_dict,recursive = False):\n",
    "    if not ('data' in file_dict) :\n",
    "        load_data_to_file_dict(file_dict)\n",
    "    if file_dict['time_skip'] == 0 :\n",
    "        time_skip = 0\n",
    "    else:\n",
    "        time_skip = file_dict['time_skip']\n",
    "    data = file_dict['data']\n",
    "    clean_data = data[data['time']>time_skip]\n",
    "    if recursive :\n",
    "        return time_skip, clean_data\n",
    "    else :\n",
    "        return time_skip\n",
    "\n",
    "def get_time_ignition(file_dict,recursive = False):\n",
    "    time_skip, data = get_time_skip(file_dict,True)\n",
    "    if file_dict['time_ignition'] == 0:\n",
    "        temperatures=data['temperature'].values\n",
    "        times=data['time'].values\n",
    "        derivatives = np.zeros(temperatures.shape)\n",
    "        derivatives[1:-1] = np.convolve(temperatures,[1,-2,1],'same')[1:-1]\n",
    "        ignition_index = np.argmax(derivatives)\n",
    "        time_ignition = times[ignition_index-1]\n",
    "    else :\n",
    "        time_ignition = file_dict['time_ignition']\n",
    "    if recursive :\n",
    "        return time_skip, time_ignition, data\n",
    "    else :\n",
    "        return time_ignition\n",
    "\n",
    "def get_time_exponential(file_dict,recursive = False):\n",
    "    time_skip, time_ignition, data = get_time_ignition(file_dict, True)\n",
    "    if file_dict['time_exponential'] == 0:\n",
    "        times = data['time'].values\n",
    "        temperatures = data['temperature'].values\n",
    "        time_exponential = times[np.argmax(temperatures)]\n",
    "    else :\n",
    "        time_exponential = file_dict['time_exponential']\n",
    "    if recursive :\n",
    "        return time_skip, time_ignition, time_exponential, data\n",
    "    else :\n",
    "        return time_exponential\n",
    "\n",
    "def get_time_post(file_dict, recursive = False):\n",
    "    time_skip, time_ignition, time_exponential, data = get_time_exponential(file_dict, True)\n",
    "    if file_dict['time_post'] == 0 :\n",
    "        temperatures = data['temperature'].values\n",
    "        exponential_data = data.query('time > {} and time < {}'.format(time_ignition,time_exponential))\n",
    "        exponential_lr = LinearRegression()\n",
    "        exp_x = exponential_data['time'].values.reshape(-1,1)\n",
    "        exp_y = np.log(np.max(temperatures) - exponential_data['temperature'].values)\n",
    "        exponential_lr.fit(exp_x,exp_y)\n",
    "        rate = -exponential_lr.coef_[0]\n",
    "        time_post = time_ignition + 6/rate\n",
    "        if time_post > data['time'].iloc[-1] :\n",
    "            # if we overshoot time_post, just choose six points to fit the postignition linear drift\n",
    "            time_post = data['time'].iloc[-6]\n",
    "    else :\n",
    "        time_post = file_dict['time_post']\n",
    "    if recursive :\n",
    "        return time_skip, time_ignition, time_exponential, time_post, data\n",
    "    else :\n",
    "        return time_post\n",
    "\n",
    "def get_deltaT(file_dict,verbose=False,plot=False):\n",
    "\n",
    "    time_skip, time_ignition, time_exponential, time_post, data = get_time_post(file_dict,True)\n",
    "\n",
    "    times = data['time'].values\n",
    "    temperatures = data['temperature'].values\n",
    "    if plot :\n",
    "        plt.plot(times,temperatures)\n",
    "        plt.ylabel('Temperature ($^{\\circ}$C)')\n",
    "        plt.xlabel('Time (s)')\n",
    "\n",
    "    preignition_data = data[ data['time'] < time_ignition ]\n",
    "    preignition_lr = LinearRegression()\n",
    "    pre_x = preignition_data['time'].values.reshape(-1,1)\n",
    "    pre_y = preignition_data['temperature'].values\n",
    "    preignition_lr.fit(pre_x,pre_y)\n",
    "    Ti = preignition_lr.predict([[time_ignition]])[0]\n",
    "    temperatures_preignition = preignition_lr.predict(times.reshape(-1,1))\n",
    "    if plot : plt.plot(times,temperatures_preignition,':',color='k')\n",
    "\n",
    "    exponential_data = data.query('time >= {} and time < {}'.format(time_ignition,time_exponential))\n",
    "    Te = np.max(data['temperature'])\n",
    "    exponential_lr = LinearRegression()\n",
    "    exp_x = exponential_data['time'].values.reshape(-1,1)\n",
    "    exp_y = np.log(Te - exponential_data['temperature'].values)\n",
    "    exponential_lr.fit(exp_x,exp_y)\n",
    "    rate = -exponential_lr.coef_[0]\n",
    "    time_determination = time_ignition + 1/rate\n",
    "    temperatures_exponential = Te - np.exp(exponential_lr.predict(exp_x))\n",
    "    if plot : plt.plot(exp_x,temperatures_exponential,':',color='k')\n",
    "\n",
    "    postignition_data = data[ data['time'] > time_post ]\n",
    "    postignition_lr = LinearRegression()\n",
    "    post_x = postignition_data['time'].values.reshape(-1,1)\n",
    "    post_y = postignition_data['temperature'].values\n",
    "    postignition_lr.fit(post_x,post_y)\n",
    "    Tf = postignition_lr.predict([[time_post]])[0]\n",
    "    temperatures_postignition = postignition_lr.predict(times.reshape(-1,1))\n",
    "    if plot : plt.plot(times,temperatures_postignition,':',color='k')\n",
    "\n",
    "    Tmax = np.max(temperatures)\n",
    "    tmax = times[np.argmax(temperatures)]\n",
    "    Tmin = np.min(temperatures)\n",
    "    tmin = times[np.argmin(temperatures)]\n",
    "    deltaT_max = Tmax - Tmin\n",
    "    if verbose and plot :\n",
    "        plt.plot([tmax,tmin],[Tmax,Tmin],'o',color = 'C3')\n",
    "        plt.plot([tmin,tmax],[Tmin,Tmin],':',color = 'C3')\n",
    "        plt.plot([tmax,tmax],[Tmin,Tmax],color = 'C3')\n",
    "\n",
    "    deltaT = Tf - Ti\n",
    "    if verbose and plot :\n",
    "        plt.plot([time_ignition,time_post],[Ti,Tf],'o',color='C1')\n",
    "        plt.plot([time_ignition,time_post],[Ti,Ti],':',color='C1')\n",
    "        plt.plot([time_post,time_post],[Ti,Tf],color='C1')\n",
    "\n",
    "    Ti_corrected = preignition_lr.predict(np.array([[time_determination]]))[0]\n",
    "    Tf_corrected = postignition_lr.predict(np.array([[time_determination]]))[0]\n",
    "    deltaT_corrected = Tf_corrected - Ti_corrected\n",
    "    if plot : plt.plot(np.ones(2)*time_determination,[Ti_corrected,Tf_corrected],'o-',color='k')\n",
    "    if verbose :\n",
    "        print(\"The corrected deltaT is {:7.4f}\\nThe uncorrected deltaT is {:7.4f}\\nThe maximum deltaT from the data is {:7.4f}\".format(deltaT_corrected, deltaT, deltaT_max))\n",
    "        return\n",
    "    else :\n",
    "        return deltaT_corrected"
   ],
   "outputs": [
    {
     "name": "stderr",
     "output_type": "stream",
     "text": [
      "<>:63: SyntaxWarning: invalid escape sequence '\\c'\n",
      "<>:89: SyntaxWarning: invalid escape sequence '\\c'\n",
      "<>:164: SyntaxWarning: invalid escape sequence '\\c'\n",
      "<>:63: SyntaxWarning: invalid escape sequence '\\c'\n",
      "<>:89: SyntaxWarning: invalid escape sequence '\\c'\n",
      "<>:164: SyntaxWarning: invalid escape sequence '\\c'\n",
      "/var/folders/5z/b4d9cm852hzgsg3w_2h1vqnc0000gp/T/ipykernel_30827/3389530967.py:63: SyntaxWarning: invalid escape sequence '\\c'\n",
      "  plt.ylabel('Temperature ($^{\\circ}$C)')\n",
      "/var/folders/5z/b4d9cm852hzgsg3w_2h1vqnc0000gp/T/ipykernel_30827/3389530967.py:89: SyntaxWarning: invalid escape sequence '\\c'\n",
      "  plt.ylabel('Temperature ($^{\\circ}$C)')\n",
      "/var/folders/5z/b4d9cm852hzgsg3w_2h1vqnc0000gp/T/ipykernel_30827/3389530967.py:164: SyntaxWarning: invalid escape sequence '\\c'\n",
      "  plt.ylabel('Temperature ($^{\\circ}$C)')\n"
     ]
    }
   ],
   "execution_count": 24
  },
  {
   "cell_type": "code",
   "metadata": {
    "ExecuteTime": {
     "end_time": "2025-04-21T03:04:58.510482Z",
     "start_time": "2025-04-21T03:04:58.508583Z"
    }
   },
   "source": [
    "\n",
    "path = '/Users/School/PycharmProjects/PChemLab/Bomb_Data/Bomb Cal/'"
   ],
   "outputs": [],
   "execution_count": 25
  },
  {
   "attachments": {},
   "cell_type": "markdown",
   "metadata": {},
   "source": [
    "## Task 1: Calibration {-}"
   ]
  },
  {
   "attachments": {},
   "cell_type": "markdown",
   "metadata": {},
   "source": [
    "In the lab you performed a series of experiments with a known compound for which you know the enthalpy of combustion. You should have analyzed at least three samples of the benzoic acid standard (abbreviated to BA in the following) to determine the standard deviation in your calorimeter constant."
   ]
  },
  {
   "cell_type": "markdown",
   "metadata": {},
   "source": [
    "* Visually inspect each of your calibration curves, one by one. For each curve establish the time from which to start the fit of the data (`time_skip`), the time at which the ignition occurs (`time_ignition`), a good time to fit the exponential decay (`time_exponential`), and the time at which the cuve becomes linear again (`time_post`)."
   ]
  },
  {
   "cell_type": "code",
   "metadata": {
    "ExecuteTime": {
     "end_time": "2025-04-21T03:04:58.545243Z",
     "start_time": "2025-04-21T03:04:58.537011Z"
    }
   },
   "source": [
    "# make sure to put the names of your actual files and the correct numbers as obtained from visual inspection of your data\n",
    "ba_file1 = {'path':path, 'name':'BA1.txt', 'set':'calibration', 'mass':1.0119, 'time_skip':220, 'time_ignition': 240, 'time_exponential': 260, 'time_post': 590}\n",
    "ba_file2 = {'path':path, 'name':'BA2.txt', 'set':'calibration', 'mass':1.0172, 'time_skip':130, 'time_ignition': 150, 'time_exponential': 165, 'time_post': 520}\n",
    "ba_file3 = {'path':path, 'name':'BA3.txt', 'set':'calibration', 'mass':1.0002, 'time_skip':35, 'time_ignition': 50, 'time_exponential': 70, 'time_post': 390}\n",
    "#\n",
    "calibration_files=[ba_file1,ba_file2,ba_file3] # if you have more  than three calibration runs, add the other files in here as well!\n",
    "load_data_to_file_list(calibration_files)"
   ],
   "outputs": [],
   "execution_count": 26
  },
  {
   "cell_type": "code",
   "metadata": {
    "ExecuteTime": {
     "end_time": "2025-04-21T03:04:58.628922Z",
     "start_time": "2025-04-21T03:04:58.554099Z"
    }
   },
   "source": "plot_by_key(calibration_files)",
   "outputs": [
    {
     "data": {
      "text/plain": [
       "<Figure size 640x480 with 1 Axes>"
      ],
      "image/png": "[encoded data removed]"
     },
     "metadata": {},
     "output_type": "display_data"
    }
   ],
   "execution_count": 27
  },
  {
   "attachments": {},
   "cell_type": "markdown",
   "metadata": {},
   "source": [
    "* Fit the calorimetry curves for the calibration runs and collect the corresponding temperature jumps. "
   ]
  },
  {
   "cell_type": "code",
   "metadata": {
    "ExecuteTime": {
     "end_time": "2025-04-21T03:04:58.730818Z",
     "start_time": "2025-04-21T03:04:58.643119Z"
    }
   },
   "source": [
    "for file_dict in calibration_files:\n",
    "    # this computes the deltaT for each run\n",
    "    file_dict['deltaT'] = get_deltaT(file_dict,plot=True)"
   ],
   "outputs": [
    {
     "data": {
      "text/plain": [
       "<Figure size 640x480 with 1 Axes>"
      ],
      "image/png": "[encoded data removed]"
     },
     "metadata": {},
     "output_type": "display_data"
    }
   ],
   "execution_count": 28
  },
  {
   "cell_type": "markdown",
   "metadata": {},
   "source": [
    "* Use the measured weights and the molar weight of BA to convert the temperature jumps into estimated calorimeter constants. Use error propagation to estimate the error in each computed constant. "
   ]
  },
  {
   "cell_type": "code",
   "metadata": {
    "ExecuteTime": {
     "end_time": "2025-04-21T03:04:58.755550Z",
     "start_time": "2025-04-21T03:04:58.743238Z"
    }
   },
   "source": [
    "# You can now convert your list of dictionaries into a Pandas DataFrame, so you can perform math operations on each experiment at once\n",
    "calibration_data=pd.DataFrame(calibration_files)\n",
    "calibration_data.head()"
   ],
   "outputs": [
    {
     "data": {
      "text/plain": [
       "                                                path     name          set  \\\n",
       "0  /Users/School/PycharmProjects/PChemLab/Bomb_Da...  BA1.txt  calibration   \n",
       "1  /Users/School/PycharmProjects/PChemLab/Bomb_Da...  BA2.txt  calibration   \n",
       "2  /Users/School/PycharmProjects/PChemLab/Bomb_Da...  BA3.txt  calibration   \n",
       "\n",
       "     mass  time_skip  time_ignition  time_exponential  time_post  \\\n",
       "0  1.0119        220            240               260        590   \n",
       "1  1.0172        130            150               165        520   \n",
       "2  1.0002         35             50                70        390   \n",
       "\n",
       "                                                data    deltaT  \n",
       "0      temperature  time\n",
       "0        23.203     0\n",
       "1 ...  2.557326  \n",
       "1      temperature  time\n",
       "0        23.863     0\n",
       "1 ...  2.632000  \n",
       "2      temperature  time\n",
       "0        24.304     0\n",
       "1 ...  2.546174  "
      ],
      "text/html": [
       "<div>\n",
       "<style scoped>\n",
       "    .dataframe tbody tr th:only-of-type {\n",
       "        vertical-align: middle;\n",
       "    }\n",
       "\n",
       "    .dataframe tbody tr th {\n",
       "        vertical-align: top;\n",
       "    }\n",
       "\n",
       "    .dataframe thead th {\n",
       "        text-align: right;\n",
       "    }\n",
       "</style>\n",
       "<table border=\"1\" class=\"dataframe\">\n",
       "  <thead>\n",
       "    <tr style=\"text-align: right;\">\n",
       "      <th></th>\n",
       "      <th>path</th>\n",
       "      <th>name</th>\n",
       "      <th>set</th>\n",
       "      <th>mass</th>\n",
       "      <th>time_skip</th>\n",
       "      <th>time_ignition</th>\n",
       "      <th>time_exponential</th>\n",
       "      <th>time_post</th>\n",
       "      <th>data</th>\n",
       "      <th>deltaT</th>\n",
       "    </tr>\n",
       "  </thead>\n",
       "  <tbody>\n",
       "    <tr>\n",
       "      <th>0</th>\n",
       "      <td>/Users/School/PycharmProjects/PChemLab/Bomb_Da...</td>\n",
       "      <td>BA1.txt</td>\n",
       "      <td>calibration</td>\n",
       "      <td>1.0119</td>\n",
       "      <td>220</td>\n",
       "      <td>240</td>\n",
       "      <td>260</td>\n",
       "      <td>590</td>\n",
       "      <td>temperature  time\n",
       "0        23.203     0\n",
       "1 ...</td>\n",
       "      <td>2.557326</td>\n",
       "    </tr>\n",
       "    <tr>\n",
       "      <th>1</th>\n",
       "      <td>/Users/School/PycharmProjects/PChemLab/Bomb_Da...</td>\n",
       "      <td>BA2.txt</td>\n",
       "      <td>calibration</td>\n",
       "      <td>1.0172</td>\n",
       "      <td>130</td>\n",
       "      <td>150</td>\n",
       "      <td>165</td>\n",
       "      <td>520</td>\n",
       "      <td>temperature  time\n",
       "0        23.863     0\n",
       "1 ...</td>\n",
       "      <td>2.632000</td>\n",
       "    </tr>\n",
       "    <tr>\n",
       "      <th>2</th>\n",
       "      <td>/Users/School/PycharmProjects/PChemLab/Bomb_Da...</td>\n",
       "      <td>BA3.txt</td>\n",
       "      <td>calibration</td>\n",
       "      <td>1.0002</td>\n",
       "      <td>35</td>\n",
       "      <td>50</td>\n",
       "      <td>70</td>\n",
       "      <td>390</td>\n",
       "      <td>temperature  time\n",
       "0        24.304     0\n",
       "1 ...</td>\n",
       "      <td>2.546174</td>\n",
       "    </tr>\n",
       "  </tbody>\n",
       "</table>\n",
       "</div>"
      ]
     },
     "execution_count": 29,
     "metadata": {},
     "output_type": "execute_result"
    }
   ],
   "execution_count": 29
  },
  {
   "cell_type": "code",
   "metadata": {
    "ExecuteTime": {
     "end_time": "2025-04-21T03:04:58.786509Z",
     "start_time": "2025-04-21T03:04:58.784612Z"
    }
   },
   "source": [
    "cs = 0. # This should be the correct value of the specific heat capacity of your benzoic acid standard, in the correct units"
   ],
   "outputs": [],
   "execution_count": 30
  },
  {
   "cell_type": "code",
   "metadata": {
    "ExecuteTime": {
     "end_time": "2025-04-21T03:04:58.801220Z",
     "start_time": "2025-04-21T03:04:58.798880Z"
    }
   },
   "source": [
    "# this is an example on how to perform math in Pandas with the same formula applied to each of your experiments\n",
    "# NOTE: this may NOT be the correct formula to use for your data\n",
    "calibration_data['Calorimetry Constant']=cs*calibration_data['mass']/calibration_data['deltaT']"
   ],
   "outputs": [],
   "execution_count": 31
  },
  {
   "cell_type": "markdown",
   "metadata": {},
   "source": [
    "* Report the masses of the samples, the corresponding temperature jumps, calorimetry constants, and estimated errors into a table with the correct units. "
   ]
  },
  {
   "cell_type": "code",
   "metadata": {
    "ExecuteTime": {
     "end_time": "2025-04-21T03:04:58.834625Z",
     "start_time": "2025-04-21T03:04:58.825821Z"
    }
   },
   "source": [
    "# you can use the DataFrame.to_markdown() function to first generate a markdown table\n",
    "print(calibration_data[['mass','deltaT','Calorimetry Constant']].to_markdown())"
   ],
   "outputs": [
    {
     "name": "stdout",
     "output_type": "stream",
     "text": [
      "|    |   mass |   deltaT |   Calorimetry Constant |\n",
      "|---:|-------:|---------:|-----------------------:|\n",
      "|  0 | 1.0119 |  2.55733 |                      0 |\n",
      "|  1 | 1.0172 |  2.632   |                      0 |\n",
      "|  2 | 1.0002 |  2.54617 |                      0 |\n"
     ]
    }
   ],
   "execution_count": 32
  },
  {
   "cell_type": "markdown",
   "metadata": {},
   "source": [
    "That you can cut and paste into a markdown cell. NOTE: you can manually change some parts of the table to make it more pretty, add units, or to adjust the number of significant figures.\n",
    "\n",
    "| Sample |   Mass (g) |   $\\Delta T$ (&deg;C) |   C |\n",
    "|---:|-------:|---------:|----:|\n",
    "|  1 |      0 |  2.72093 |  -0 |\n",
    "|  2 |      0 |  2.63378 |  -0 |\n",
    "|  3 |      0 |  2.63627 |  -0 |"
   ]
  },
  {
   "attachments": {},
   "cell_type": "markdown",
   "metadata": {},
   "source": [
    "* Determine the best estimate of the calorimeter constant for your instrument, with error using t-stats and a 95% confidence level."
   ]
  },
  {
   "cell_type": "code",
   "metadata": {
    "ExecuteTime": {
     "end_time": "2025-04-21T03:04:58.859593Z",
     "start_time": "2025-04-21T03:04:58.857520Z"
    }
   },
   "source": [
    "C=0.\n",
    "C_error_ci95=0.\n",
    "print(f\"The calorimeter constant is {C} \\u00B1 {C_error_ci95}\")"
   ],
   "outputs": [
    {
     "name": "stdout",
     "output_type": "stream",
     "text": [
      "The calorimeter constant is 0.0 ± 0.0\n"
     ]
    }
   ],
   "execution_count": 33
  },
  {
   "attachments": {},
   "cell_type": "markdown",
   "metadata": {},
   "source": [
    "## Task 2: Internal Energy of Combustion of 1,4-Cyclohexane Dicarboxylic Acid {-}"
   ]
  },
  {
   "attachments": {},
   "cell_type": "markdown",
   "metadata": {},
   "source": [
    "Your second set of experiments was aimed at collecting the internal energy of combustion of 1,4-Cyclohexane Dicarboxylic Acid (abbreviated to CHex in the following). "
   ]
  },
  {
   "attachments": {},
   "cell_type": "markdown",
   "metadata": {},
   "source": [
    "* Fit the calorimetry curves to determine the temperature jumps in the experiments."
   ]
  },
  {
   "cell_type": "code",
   "metadata": {
    "ExecuteTime": {
     "end_time": "2025-04-21T03:04:58.959656Z",
     "start_time": "2025-04-21T03:04:58.881649Z"
    }
   },
   "source": [
    "# make sure to put the names of your actual files and the correct numbers as obtained from visual inspection of your data\n",
    "chex_file1 = {'path':path, 'name':'Gel1.csv', 'set':'calibration', 'mass':0., 'time_skip':0, 'time_ignition': 0, 'time_exponential': 0, 'time_post': 0}\n",
    "chex_file2 = {'path':path, 'name':'Gel2.csv', 'set':'calibration', 'mass':0., 'time_skip':0, 'time_ignition': 0, 'time_exponential': 0, 'time_post': 0}\n",
    "chex_file3 = {'path':path, 'name':'Gel3.csv', 'set':'calibration', 'mass':0., 'time_skip':0, 'time_ignition': 0, 'time_exponential': 0, 'time_post': 0}\n",
    "#\n",
    "chex_files=[chex_file1,chex_file2,chex_file3] # if you have more than three CHex runs, add the other files in here as well!\n",
    "load_data_to_file_list(chex_files)\n",
    "#\n",
    "for file_dict in chex_files:\n",
    "    # this computes the deltaT for each run\n",
    "    file_dict['deltaT'] = get_deltaT(file_dict,plot=True)"
   ],
   "outputs": [
    {
     "name": "stderr",
     "output_type": "stream",
     "text": [
      "/var/folders/5z/b4d9cm852hzgsg3w_2h1vqnc0000gp/T/ipykernel_30827/3389530967.py:63: SyntaxWarning: invalid escape sequence '\\c'\n",
      "  plt.ylabel('Temperature ($^{\\circ}$C)')\n",
      "/var/folders/5z/b4d9cm852hzgsg3w_2h1vqnc0000gp/T/ipykernel_30827/3389530967.py:89: SyntaxWarning: invalid escape sequence '\\c'\n",
      "  plt.ylabel('Temperature ($^{\\circ}$C)')\n",
      "/var/folders/5z/b4d9cm852hzgsg3w_2h1vqnc0000gp/T/ipykernel_30827/3389530967.py:164: SyntaxWarning: invalid escape sequence '\\c'\n",
      "  plt.ylabel('Temperature ($^{\\circ}$C)')\n"
     ]
    },
    {
     "ename": "FileNotFoundError",
     "evalue": "[Errno 2] No such file or directory: '/Users/School/PycharmProjects/PChemLab/Bomb_Data/Bomb Cal/Gel1.csv'",
     "output_type": "error",
     "traceback": [
      "\u001B[0;31m---------------------------------------------------------------------------\u001B[0m",
      "\u001B[0;31mFileNotFoundError\u001B[0m                         Traceback (most recent call last)",
      "Cell \u001B[0;32mIn[34], line 7\u001B[0m\n\u001B[1;32m      5\u001B[0m \u001B[38;5;66;03m#\u001B[39;00m\n\u001B[1;32m      6\u001B[0m chex_files\u001B[38;5;241m=\u001B[39m[chex_file1,chex_file2,chex_file3] \u001B[38;5;66;03m# if you have more than three CHex runs, add the other files in here as well!\u001B[39;00m\n\u001B[0;32m----> 7\u001B[0m load_data_to_file_list(chex_files)\n\u001B[1;32m      8\u001B[0m \u001B[38;5;66;03m#\u001B[39;00m\n\u001B[1;32m      9\u001B[0m \u001B[38;5;28;01mfor\u001B[39;00m file_dict \u001B[38;5;129;01min\u001B[39;00m chex_files:\n\u001B[1;32m     10\u001B[0m     \u001B[38;5;66;03m# this computes the deltaT for each run\u001B[39;00m\n",
      "Cell \u001B[0;32mIn[24], line 45\u001B[0m, in \u001B[0;36mload_data_to_file_list\u001B[0;34m(file_list)\u001B[0m\n\u001B[1;32m     35\u001B[0m \u001B[38;5;250m\u001B[39m\u001B[38;5;124;03m\"\"\"\u001B[39;00m\n\u001B[1;32m     36\u001B[0m \u001B[38;5;124;03mGiven a list of dictionary files, recursively use load_data_to_file_dict to load the data into each of the dictionaries\u001B[39;00m\n\u001B[1;32m     37\u001B[0m \n\u001B[0;32m   (...)\u001B[0m\n\u001B[1;32m     42\u001B[0m \u001B[38;5;124;03m    Add to each file_dict a Pandas DataFrame with two columns: time (in seconds) and temperature (in input units)\u001B[39;00m\n\u001B[1;32m     43\u001B[0m \u001B[38;5;124;03m\"\"\"\u001B[39;00m\n\u001B[1;32m     44\u001B[0m \u001B[38;5;28;01mfor\u001B[39;00m f \u001B[38;5;129;01min\u001B[39;00m file_list :\n\u001B[0;32m---> 45\u001B[0m     \u001B[38;5;28;01mif\u001B[39;00m \u001B[38;5;129;01mnot\u001B[39;00m (\u001B[38;5;124m'\u001B[39m\u001B[38;5;124mdata\u001B[39m\u001B[38;5;124m'\u001B[39m \u001B[38;5;129;01min\u001B[39;00m f): load_data_to_file_dict(f)\n\u001B[1;32m     46\u001B[0m \u001B[38;5;28;01mreturn\u001B[39;00m\n",
      "Cell \u001B[0;32mIn[24], line 28\u001B[0m, in \u001B[0;36mload_data_to_file_dict\u001B[0;34m(file_dict)\u001B[0m\n\u001B[1;32m     16\u001B[0m \u001B[38;5;28;01mdef\u001B[39;00m \u001B[38;5;21mload_data_to_file_dict\u001B[39m(file_dict):\n\u001B[1;32m     17\u001B[0m \u001B[38;5;250m    \u001B[39m\u001B[38;5;124;03m\"\"\"\u001B[39;00m\n\u001B[1;32m     18\u001B[0m \u001B[38;5;124;03m    Load a bomb calorimetry .csv file.\u001B[39;00m\n\u001B[1;32m     19\u001B[0m \u001B[38;5;124;03m    The format of the file should have the first column with time in HH:MM:SS format and\u001B[39;00m\n\u001B[0;32m   (...)\u001B[0m\n\u001B[1;32m     26\u001B[0m \u001B[38;5;124;03m        Add to file_dict a Pandas DataFrame with two columns: time (in seconds) and temperature (in input units)\u001B[39;00m\n\u001B[1;32m     27\u001B[0m \u001B[38;5;124;03m    \"\"\"\u001B[39;00m\n\u001B[0;32m---> 28\u001B[0m     data \u001B[38;5;241m=\u001B[39m pd\u001B[38;5;241m.\u001B[39mread_csv(file_dict[\u001B[38;5;124m'\u001B[39m\u001B[38;5;124mpath\u001B[39m\u001B[38;5;124m'\u001B[39m]\u001B[38;5;241m+\u001B[39mfile_dict[\u001B[38;5;124m'\u001B[39m\u001B[38;5;124mname\u001B[39m\u001B[38;5;124m'\u001B[39m],usecols\u001B[38;5;241m=\u001B[39m(\u001B[38;5;241m0\u001B[39m,\u001B[38;5;241m2\u001B[39m),names\u001B[38;5;241m=\u001B[39m[\u001B[38;5;124m'\u001B[39m\u001B[38;5;124mhh:mm:ss\u001B[39m\u001B[38;5;124m'\u001B[39m,\u001B[38;5;124m'\u001B[39m\u001B[38;5;124mtemperature\u001B[39m\u001B[38;5;124m'\u001B[39m])\n\u001B[1;32m     29\u001B[0m     data[\u001B[38;5;124m'\u001B[39m\u001B[38;5;124mtime\u001B[39m\u001B[38;5;124m'\u001B[39m] \u001B[38;5;241m=\u001B[39m data[\u001B[38;5;124m'\u001B[39m\u001B[38;5;124mhh:mm:ss\u001B[39m\u001B[38;5;124m'\u001B[39m]\u001B[38;5;241m.\u001B[39mapply(get_sec)\n\u001B[1;32m     30\u001B[0m     data \u001B[38;5;241m=\u001B[39m data\u001B[38;5;241m.\u001B[39mdrop(columns\u001B[38;5;241m=\u001B[39m[\u001B[38;5;124m'\u001B[39m\u001B[38;5;124mhh:mm:ss\u001B[39m\u001B[38;5;124m'\u001B[39m])\n",
      "File \u001B[0;32m/opt/anaconda3/lib/python3.12/site-packages/pandas/io/parsers/readers.py:1026\u001B[0m, in \u001B[0;36mread_csv\u001B[0;34m(filepath_or_buffer, sep, delimiter, header, names, index_col, usecols, dtype, engine, converters, true_values, false_values, skipinitialspace, skiprows, skipfooter, nrows, na_values, keep_default_na, na_filter, verbose, skip_blank_lines, parse_dates, infer_datetime_format, keep_date_col, date_parser, date_format, dayfirst, cache_dates, iterator, chunksize, compression, thousands, decimal, lineterminator, quotechar, quoting, doublequote, escapechar, comment, encoding, encoding_errors, dialect, on_bad_lines, delim_whitespace, low_memory, memory_map, float_precision, storage_options, dtype_backend)\u001B[0m\n\u001B[1;32m   1013\u001B[0m kwds_defaults \u001B[38;5;241m=\u001B[39m _refine_defaults_read(\n\u001B[1;32m   1014\u001B[0m     dialect,\n\u001B[1;32m   1015\u001B[0m     delimiter,\n\u001B[0;32m   (...)\u001B[0m\n\u001B[1;32m   1022\u001B[0m     dtype_backend\u001B[38;5;241m=\u001B[39mdtype_backend,\n\u001B[1;32m   1023\u001B[0m )\n\u001B[1;32m   1024\u001B[0m kwds\u001B[38;5;241m.\u001B[39mupdate(kwds_defaults)\n\u001B[0;32m-> 1026\u001B[0m \u001B[38;5;28;01mreturn\u001B[39;00m _read(filepath_or_buffer, kwds)\n",
      "File \u001B[0;32m/opt/anaconda3/lib/python3.12/site-packages/pandas/io/parsers/readers.py:620\u001B[0m, in \u001B[0;36m_read\u001B[0;34m(filepath_or_buffer, kwds)\u001B[0m\n\u001B[1;32m    617\u001B[0m _validate_names(kwds\u001B[38;5;241m.\u001B[39mget(\u001B[38;5;124m\"\u001B[39m\u001B[38;5;124mnames\u001B[39m\u001B[38;5;124m\"\u001B[39m, \u001B[38;5;28;01mNone\u001B[39;00m))\n\u001B[1;32m    619\u001B[0m \u001B[38;5;66;03m# Create the parser.\u001B[39;00m\n\u001B[0;32m--> 620\u001B[0m parser \u001B[38;5;241m=\u001B[39m TextFileReader(filepath_or_buffer, \u001B[38;5;241m*\u001B[39m\u001B[38;5;241m*\u001B[39mkwds)\n\u001B[1;32m    622\u001B[0m \u001B[38;5;28;01mif\u001B[39;00m chunksize \u001B[38;5;129;01mor\u001B[39;00m iterator:\n\u001B[1;32m    623\u001B[0m     \u001B[38;5;28;01mreturn\u001B[39;00m parser\n",
      "File \u001B[0;32m/opt/anaconda3/lib/python3.12/site-packages/pandas/io/parsers/readers.py:1620\u001B[0m, in \u001B[0;36mTextFileReader.__init__\u001B[0;34m(self, f, engine, **kwds)\u001B[0m\n\u001B[1;32m   1617\u001B[0m     \u001B[38;5;28mself\u001B[39m\u001B[38;5;241m.\u001B[39moptions[\u001B[38;5;124m\"\u001B[39m\u001B[38;5;124mhas_index_names\u001B[39m\u001B[38;5;124m\"\u001B[39m] \u001B[38;5;241m=\u001B[39m kwds[\u001B[38;5;124m\"\u001B[39m\u001B[38;5;124mhas_index_names\u001B[39m\u001B[38;5;124m\"\u001B[39m]\n\u001B[1;32m   1619\u001B[0m \u001B[38;5;28mself\u001B[39m\u001B[38;5;241m.\u001B[39mhandles: IOHandles \u001B[38;5;241m|\u001B[39m \u001B[38;5;28;01mNone\u001B[39;00m \u001B[38;5;241m=\u001B[39m \u001B[38;5;28;01mNone\u001B[39;00m\n\u001B[0;32m-> 1620\u001B[0m \u001B[38;5;28mself\u001B[39m\u001B[38;5;241m.\u001B[39m_engine \u001B[38;5;241m=\u001B[39m \u001B[38;5;28mself\u001B[39m\u001B[38;5;241m.\u001B[39m_make_engine(f, \u001B[38;5;28mself\u001B[39m\u001B[38;5;241m.\u001B[39mengine)\n",
      "File \u001B[0;32m/opt/anaconda3/lib/python3.12/site-packages/pandas/io/parsers/readers.py:1880\u001B[0m, in \u001B[0;36mTextFileReader._make_engine\u001B[0;34m(self, f, engine)\u001B[0m\n\u001B[1;32m   1878\u001B[0m     \u001B[38;5;28;01mif\u001B[39;00m \u001B[38;5;124m\"\u001B[39m\u001B[38;5;124mb\u001B[39m\u001B[38;5;124m\"\u001B[39m \u001B[38;5;129;01mnot\u001B[39;00m \u001B[38;5;129;01min\u001B[39;00m mode:\n\u001B[1;32m   1879\u001B[0m         mode \u001B[38;5;241m+\u001B[39m\u001B[38;5;241m=\u001B[39m \u001B[38;5;124m\"\u001B[39m\u001B[38;5;124mb\u001B[39m\u001B[38;5;124m\"\u001B[39m\n\u001B[0;32m-> 1880\u001B[0m \u001B[38;5;28mself\u001B[39m\u001B[38;5;241m.\u001B[39mhandles \u001B[38;5;241m=\u001B[39m get_handle(\n\u001B[1;32m   1881\u001B[0m     f,\n\u001B[1;32m   1882\u001B[0m     mode,\n\u001B[1;32m   1883\u001B[0m     encoding\u001B[38;5;241m=\u001B[39m\u001B[38;5;28mself\u001B[39m\u001B[38;5;241m.\u001B[39moptions\u001B[38;5;241m.\u001B[39mget(\u001B[38;5;124m\"\u001B[39m\u001B[38;5;124mencoding\u001B[39m\u001B[38;5;124m\"\u001B[39m, \u001B[38;5;28;01mNone\u001B[39;00m),\n\u001B[1;32m   1884\u001B[0m     compression\u001B[38;5;241m=\u001B[39m\u001B[38;5;28mself\u001B[39m\u001B[38;5;241m.\u001B[39moptions\u001B[38;5;241m.\u001B[39mget(\u001B[38;5;124m\"\u001B[39m\u001B[38;5;124mcompression\u001B[39m\u001B[38;5;124m\"\u001B[39m, \u001B[38;5;28;01mNone\u001B[39;00m),\n\u001B[1;32m   1885\u001B[0m     memory_map\u001B[38;5;241m=\u001B[39m\u001B[38;5;28mself\u001B[39m\u001B[38;5;241m.\u001B[39moptions\u001B[38;5;241m.\u001B[39mget(\u001B[38;5;124m\"\u001B[39m\u001B[38;5;124mmemory_map\u001B[39m\u001B[38;5;124m\"\u001B[39m, \u001B[38;5;28;01mFalse\u001B[39;00m),\n\u001B[1;32m   1886\u001B[0m     is_text\u001B[38;5;241m=\u001B[39mis_text,\n\u001B[1;32m   1887\u001B[0m     errors\u001B[38;5;241m=\u001B[39m\u001B[38;5;28mself\u001B[39m\u001B[38;5;241m.\u001B[39moptions\u001B[38;5;241m.\u001B[39mget(\u001B[38;5;124m\"\u001B[39m\u001B[38;5;124mencoding_errors\u001B[39m\u001B[38;5;124m\"\u001B[39m, \u001B[38;5;124m\"\u001B[39m\u001B[38;5;124mstrict\u001B[39m\u001B[38;5;124m\"\u001B[39m),\n\u001B[1;32m   1888\u001B[0m     storage_options\u001B[38;5;241m=\u001B[39m\u001B[38;5;28mself\u001B[39m\u001B[38;5;241m.\u001B[39moptions\u001B[38;5;241m.\u001B[39mget(\u001B[38;5;124m\"\u001B[39m\u001B[38;5;124mstorage_options\u001B[39m\u001B[38;5;124m\"\u001B[39m, \u001B[38;5;28;01mNone\u001B[39;00m),\n\u001B[1;32m   1889\u001B[0m )\n\u001B[1;32m   1890\u001B[0m \u001B[38;5;28;01massert\u001B[39;00m \u001B[38;5;28mself\u001B[39m\u001B[38;5;241m.\u001B[39mhandles \u001B[38;5;129;01mis\u001B[39;00m \u001B[38;5;129;01mnot\u001B[39;00m \u001B[38;5;28;01mNone\u001B[39;00m\n\u001B[1;32m   1891\u001B[0m f \u001B[38;5;241m=\u001B[39m \u001B[38;5;28mself\u001B[39m\u001B[38;5;241m.\u001B[39mhandles\u001B[38;5;241m.\u001B[39mhandle\n",
      "File \u001B[0;32m/opt/anaconda3/lib/python3.12/site-packages/pandas/io/common.py:873\u001B[0m, in \u001B[0;36mget_handle\u001B[0;34m(path_or_buf, mode, encoding, compression, memory_map, is_text, errors, storage_options)\u001B[0m\n\u001B[1;32m    868\u001B[0m \u001B[38;5;28;01melif\u001B[39;00m \u001B[38;5;28misinstance\u001B[39m(handle, \u001B[38;5;28mstr\u001B[39m):\n\u001B[1;32m    869\u001B[0m     \u001B[38;5;66;03m# Check whether the filename is to be opened in binary mode.\u001B[39;00m\n\u001B[1;32m    870\u001B[0m     \u001B[38;5;66;03m# Binary mode does not support 'encoding' and 'newline'.\u001B[39;00m\n\u001B[1;32m    871\u001B[0m     \u001B[38;5;28;01mif\u001B[39;00m ioargs\u001B[38;5;241m.\u001B[39mencoding \u001B[38;5;129;01mand\u001B[39;00m \u001B[38;5;124m\"\u001B[39m\u001B[38;5;124mb\u001B[39m\u001B[38;5;124m\"\u001B[39m \u001B[38;5;129;01mnot\u001B[39;00m \u001B[38;5;129;01min\u001B[39;00m ioargs\u001B[38;5;241m.\u001B[39mmode:\n\u001B[1;32m    872\u001B[0m         \u001B[38;5;66;03m# Encoding\u001B[39;00m\n\u001B[0;32m--> 873\u001B[0m         handle \u001B[38;5;241m=\u001B[39m \u001B[38;5;28mopen\u001B[39m(\n\u001B[1;32m    874\u001B[0m             handle,\n\u001B[1;32m    875\u001B[0m             ioargs\u001B[38;5;241m.\u001B[39mmode,\n\u001B[1;32m    876\u001B[0m             encoding\u001B[38;5;241m=\u001B[39mioargs\u001B[38;5;241m.\u001B[39mencoding,\n\u001B[1;32m    877\u001B[0m             errors\u001B[38;5;241m=\u001B[39merrors,\n\u001B[1;32m    878\u001B[0m             newline\u001B[38;5;241m=\u001B[39m\u001B[38;5;124m\"\u001B[39m\u001B[38;5;124m\"\u001B[39m,\n\u001B[1;32m    879\u001B[0m         )\n\u001B[1;32m    880\u001B[0m     \u001B[38;5;28;01melse\u001B[39;00m:\n\u001B[1;32m    881\u001B[0m         \u001B[38;5;66;03m# Binary mode\u001B[39;00m\n\u001B[1;32m    882\u001B[0m         handle \u001B[38;5;241m=\u001B[39m \u001B[38;5;28mopen\u001B[39m(handle, ioargs\u001B[38;5;241m.\u001B[39mmode)\n",
      "\u001B[0;31mFileNotFoundError\u001B[0m: [Errno 2] No such file or directory: '/Users/School/PycharmProjects/PChemLab/Bomb_Data/Bomb Cal/Gel1.csv'"
     ]
    }
   ],
   "execution_count": 34
  },
  {
   "cell_type": "markdown",
   "metadata": {},
   "source": [
    "* Using the calorimetry constant computed in the previous task, calculate the heat of the reaction for the three samples."
   ]
  },
  {
   "cell_type": "code",
   "execution_count": null,
   "metadata": {},
   "outputs": [],
   "source": [
    "# write your math here"
   ]
  },
  {
   "cell_type": "markdown",
   "metadata": {},
   "source": [
    "* Using the masses of the samples and the molar weight of CHex, compute the change in internal energy per mole of reaction for each sample. Report the masses, temperature jumps, heat of rection and internal energy change in a table with the appropriate units.  "
   ]
  },
  {
   "cell_type": "code",
   "execution_count": null,
   "metadata": {},
   "outputs": [],
   "source": [
    "# write your math here"
   ]
  },
  {
   "cell_type": "markdown",
   "metadata": {},
   "source": [
    "* Determine the best estimate of the internal energy change per mole of reaction, with error using t-stats and a 95% confidence level."
   ]
  },
  {
   "cell_type": "code",
   "execution_count": null,
   "metadata": {},
   "outputs": [],
   "source": [
    "UCHex=0.\n",
    "UCHex_error_ci95=0.\n",
    "print(f\"The internal energy of combustion of CHex is {UCHex} \\u00B1 {UCHex_error_ci95}\")"
   ]
  },
  {
   "attachments": {},
   "cell_type": "markdown",
   "metadata": {},
   "source": [
    "## Task 3: Enthalpy of Combustion of Cyclopropane Carboxylic Acid {-}"
   ]
  },
  {
   "attachments": {},
   "cell_type": "markdown",
   "metadata": {},
   "source": [
    "Your last set of experiments was aimed at collecting the internal energy of combustion of Cyclopropane Carboxylic Acid (abbreviated to CPro in the following). "
   ]
  },
  {
   "attachments": {},
   "cell_type": "markdown",
   "metadata": {},
   "source": [
    "* Using the weights of your samples and the molar weight of CPro, together with the calorimetry constant in the previous step, convert your measures into changes of internal energy."
   ]
  },
  {
   "cell_type": "code",
   "execution_count": null,
   "metadata": {},
   "outputs": [],
   "source": [
    "# make sure to put the names of your actual files and the correct numbers as obtained from visual inspection of your data\n",
    "cpro_file1 = {'path':path, 'name':'CP1.csv', 'set':'calibration', 'mass':0., 'time_skip':0, 'time_ignition': 0, 'time_exponential': 0, 'time_post': 0}\n",
    "cpro_file2 = {'path':path, 'name':'CP2.csv', 'set':'calibration', 'mass':0., 'time_skip':0, 'time_ignition': 0, 'time_exponential': 0, 'time_post': 0}\n",
    "cpro_file3 = {'path':path, 'name':'CP3.csv', 'set':'calibration', 'mass':0., 'time_skip':0, 'time_ignition': 0, 'time_exponential': 0, 'time_post': 0}\n",
    "#\n",
    "cpro_files=[cpro_file1,cpro_file2,cpro_file3] # if you have more than three CPro runs, add the other files in here as well!\n",
    "load_data_to_file_list(cpro_files)\n",
    "#\n",
    "for file_dict in cpro_files:\n",
    "    # this computes the deltaT for each run\n",
    "    file_dict['deltaT'] = get_deltaT(file_dict,plot=True)"
   ]
  },
  {
   "cell_type": "markdown",
   "metadata": {},
   "source": [
    "* Using the calorimetry constant computed in the previous task, calculate the heat of the reaction for the three samples."
   ]
  },
  {
   "cell_type": "code",
   "execution_count": null,
   "metadata": {},
   "outputs": [],
   "source": [
    "# write your math here"
   ]
  },
  {
   "cell_type": "markdown",
   "metadata": {},
   "source": [
    "* Using the masses of the samples and the molar weight of CPro, compute the change in internal energy per mole of reaction for each sample. Report the masses, temperature jumps, heat of rection and internal energy change in a table with the appropriate units.  "
   ]
  },
  {
   "cell_type": "code",
   "execution_count": null,
   "metadata": {},
   "outputs": [],
   "source": [
    "# write your math here"
   ]
  },
  {
   "attachments": {},
   "cell_type": "markdown",
   "metadata": {},
   "source": [
    "* Determine the best estimate of the internal energy change per mole of reaction, with error using t-stats."
   ]
  },
  {
   "cell_type": "code",
   "execution_count": null,
   "metadata": {},
   "outputs": [],
   "source": [
    "UCPro=0.\n",
    "UCPro_error_ci95=0.\n",
    "print(f\"The internal energy of combustion of CPro is {UCPro} \\u00B1 {UCPro_error_ci95}\")"
   ]
  },
  {
   "attachments": {},
   "cell_type": "markdown",
   "metadata": {},
   "source": [
    "## Task 4: Enthalpies of Combustion and Ring Strain Energy {-}"
   ]
  },
  {
   "attachments": {},
   "cell_type": "markdown",
   "metadata": {},
   "source": [
    "By comparing the two sets of experiments you should be able to estimate how much energy is involved in the formation of small rings. The following questions will only require you to compare results from the steps above."
   ]
  },
  {
   "attachments": {},
   "cell_type": "markdown",
   "metadata": {},
   "source": [
    "* Convert the internal energy change into enthalpy using the equation provided in the handouts: \n",
    "$\\Delta H = \\Delta U + \\Delta n RT$\n",
    "and report the best estimate of the combustion enthalpy at $25^{\\circ}$ C for CHex and CPro, with their associated errors.\n",
    "* Compare your resultd with the literature values, comment on your percent error and on the possible sources of deviation from the literature."
   ]
  },
  {
   "cell_type": "code",
   "execution_count": null,
   "metadata": {},
   "outputs": [],
   "source": [
    "# your math here"
   ]
  },
  {
   "attachments": {},
   "cell_type": "markdown",
   "metadata": {},
   "source": [
    "We can define the ring strain energy based on the chemical equation for conversion of CHex into CPro. \n",
    "* Do you expect this conversion to be endothermic or exothermic? Comment on the sign of the ring strain energy you expect for this reaction. \n",
    "* Compute your best estimate of the ring strain energy and its associated error."
   ]
  },
  {
   "cell_type": "code",
   "execution_count": null,
   "metadata": {},
   "outputs": [],
   "source": [
    "RingStrain = 0.\n",
    "RingStrain_error = 0.\n",
    "print(\"The best estimate for the ring strain energy is {}\".format(RingStrain))\n",
    "print(\"The standard error associated with this estimate is {}\".format(RingStrain_error))"
   ]
  },
  {
   "attachments": {},
   "cell_type": "markdown",
   "metadata": {},
   "source": [
    "* Report a graph for at least one combustion run for both CHex and CPro. These should be placed in the same graph with axes properly labeled. "
   ]
  },
  {
   "cell_type": "code",
   "execution_count": null,
   "metadata": {},
   "outputs": [],
   "source": [
    "# Be creative in your graphs! "
   ]
  },
  {
   "cell_type": "code",
   "execution_count": null,
   "metadata": {},
   "outputs": [],
   "source": [
    "# This cell is used to allow Google Colab to install the tools to convert the notebook to a pdf file\n",
    "# Un-comment the following lines when you are ready to export the pdf \n",
    "#!apt-get install texlive texlive-xetex texlive-latex-extra pandoc\n",
    "#!pip install pypandoc"
   ]
  },
  {
   "cell_type": "code",
   "execution_count": null,
   "metadata": {},
   "outputs": [],
   "source": [
    "# Use this command to convert the finished worksheet into a pdf \n",
    "# NOTE : you may want to change the path of the file, if you are working in a different folder of the Google Drive\n",
    "#!jupyter nbconvert --no-input --to PDF \"/content/drive/MyDrive/Colab Notebooks/Bomb_Worksheet.ipynb\""
   ]
  }
 ],
 "metadata": {
  "kernelspec": {
   "display_name": "Python 3",
   "language": "python",
   "name": "python3"
  },
  "language_info": {
   "codemirror_mode": {
    "name": "ipython",
    "version": 3
   },
   "file_extension": ".py",
   "mimetype": "text/x-python",
   "name": "python",
   "nbconvert_exporter": "python",
   "pygments_lexer": "ipython3"
  },
  "vscode": {
   "interpreter": {
    "hash": "949777d72b0d2535278d3dc13498b2535136f6dfe0678499012e853ee9abcab1"
   }
  }
 },
 "nbformat": 4,
 "nbformat_minor": 2
}
