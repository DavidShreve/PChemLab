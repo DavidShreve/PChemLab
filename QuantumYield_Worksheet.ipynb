{
 "cells": [
  {
   "attachments": {},
   "cell_type": "markdown",
   "metadata": {},
   "source": [
    "Student's Name and Email Address\n",
    "\n",
    "Boise State University, Department of Chemistry and Biochemistry"
   ]
  },
  {
   "attachments": {},
   "cell_type": "markdown",
   "metadata": {},
   "source": [
    "## CHEM 324: PChem Lab {-}\n",
    "# Worksheet 2: Fluorescence Quantum Yield {-}"
   ]
  },
  {
   "cell_type": "code",
   "metadata": {
    "jupyter": {
     "is_executing": true
    }
   },
   "source": [
    "# @title Notebook Setup { display-mode: \"form\" }\n",
    "# Import the main modules used in this worksheet\n",
    "import numpy as np\n",
    "import matplotlib.pyplot as plt\n",
    "import pandas as pd\n",
    "from sklearn.linear_model import LinearRegression\n",
    "import. \n",
    "\n"
   ],
   "outputs": [],
   "execution_count": null
  },
  {
   "attachments": {},
   "cell_type": "markdown",
   "metadata": {},
   "source": [
    "## Task 1: Emission Spectra of Standard and Unknown {-}"
   ]
  },
  {
   "attachments": {},
   "cell_type": "markdown",
   "metadata": {},
   "source": [
    "* Visualize the chemical structures of quinine sulfate (CAS 6119-70-6) and fluorescein (CAS 2321-07-5) and comment on why these molecules are fluorophores/dyes.\n",
    "* Plot the emission and absorption spectra for the standard (quinine) in a single figure. Do a separate plot for then emission and absorption spectra of the unknown (fluorescein). NOTE: the two spectra will probably have different arbitrary units. In order to compare their featuers you may want to normalize the two spectra, e.g. dividing by the intensity of the highest peaks. \n",
    "* Report the integrated areas for the spectra of each molecule, and for each concentration of fluoresceine.\n",
    "* Explicitly report all the other constants and/or known experimental values that you will need to compute the quantum yield at infinite dilution of fluorescein. "
   ]
  },
  {
   "metadata": {
    "jupyter": {
     "is_executing": true
    }
   },
   "cell_type": "code",
   "source": [
    "#@title The Composition of Fluorescein is as follows:\n",
    "#!pip install rdkit\n",
    "from rdkit import Chem\n",
    "from rdkit.Chem import Draw\n",
    "#!pip install cirpy\n",
    "import cirpy\n",
    "quinine=cirpy.resolve('6119-70-6', 'smiles')\n",
    "fluorescein=cirpy.resolve('2321-07-5', 'smiles')\n",
    "Draw.MolToImage(Chem.MolFromSmiles(fluorescein))\n"
   ],
   "outputs": [],
   "execution_count": null
  },
  {
   "attachments": {},
   "cell_type": "markdown",
   "metadata": {},
   "source": [
    "## Task 2: Quantum Yield of the Standard {-}"
   ]
  },
  {
   "attachments": {},
   "cell_type": "markdown",
   "metadata": {},
   "source": [
    "The Stern-Volmer equation for self-quenching of solutions allows you to compute the quantum yield of fluorescence from the molar concentration of the dye, $C$, as  \n",
    "\n",
    "$\\frac{\\phi^0_s}{\\phi_s}=1+14.5\\cdot C$\n",
    "\n",
    "where $\\phi^0_s$ is the quantum yield at infinite dilution for the quinine standard ($s$), and the slope of the curve ($14.5\\ M^{-1}$) is specific to quinine.\n",
    "\n",
    "* Use absorbance data at $349.5\\ nm$, molar absorption coefficient of quinine (provided in the handsout), cuvette path length of $1\\ cm$, and Beers law to find the concentration of quinine in your sample.\n",
    "* Given that for quinine you know $\\phi^0_s=0.545$, use the Stern-Volmer equation to compute the quantum yield of quinine, $\\phi_s$, at the concentration used in the experiments. "
   ]
  },
  {
   "attachments": {},
   "cell_type": "markdown",
   "metadata": {},
   "source": [
    "## Task 3: Quantum yield of the Unknown {-}"
   ]
  },
  {
   "attachments": {},
   "cell_type": "markdown",
   "metadata": {},
   "source": [
    "Although the absolute incident intensity of the radiation is unkonwn, the relative incident intensity between an unknown sample and a standard sample will be the same. The quantum yield of the analyte, fluorescein, can thus be determined by comparing the intesity of fluorescence with the one of quinine. \n",
    "\n",
    "$\\frac{\\phi_u}{\\phi_s}=\\frac{I_u\\cdot(1-10^{-A_s})}{I_s\\cdot(1-10^{-A_u})}$\n",
    "\n",
    "where $I_{u/s}$ is the area under the emission spectrum of the unknown/standard (i.e. fluorescein/quinine), while $A_{s/u}$ is the absorbance if the standard/unknown measured at the excitation wavelength. \n",
    "\n",
    "* Use the formula above and the results from the previous tasks (see below) to compute the fluorescence quantum yield of fluorescein at the concentrations used in the experiments.\n",
    "\n",
    "You will need:\n",
    "* The absorption of quinine $A_s$ at $323\\ nm$\n",
    "* The quantum yeld of quinine from the previous task\n",
    "* The integrated fluorescence intensity $I_s$ for quinine\n",
    "* Absorption of fluoresceine $A_u$ at $323\\ nm$ for each sample\n",
    "* Integrated fluorescence intensity $I_u$ for fluoresceine for each sample "
   ]
  },
  {
   "attachments": {},
   "cell_type": "markdown",
   "metadata": {},
   "source": [
    "## Task 4: Stern-Volmer Curve for Fluorescein {-}"
   ]
  },
  {
   "attachments": {},
   "cell_type": "markdown",
   "metadata": {},
   "source": [
    "* Use absorbance data at $485\\ nm$, molar absorption coefficient of fluorescein (provided in the handsout), cuvette path length of $1\\ cm$, and Beers law to find the concentration of fluoresceins' samples. You may not be able to use Beers law for the high concentration samples, but you can use the dilution factors to determine these concentrations from the low-concentration samples. \n",
    "* Plot the inverse of the fluorescence quantum yield of fluorescein (previous task) as a function of concentration. \n",
    "* Perform a linear fit of the inverse of the fluorescence quantum yield of fluorescein vs. concentration:\n",
    "    * From the y-intercept of your linear fit you should obtain the inverse of the fluorescence quantum yield at infinite dilution for fluorescein, $\\phi^0_u$.\n",
    "    * From the slope of your linear fit you should be able to obtain the quenching constant for fluorescein, i.e., the slope of the S-V curve. \n"
   ]
  },
  {
   "cell_type": "markdown",
   "metadata": {},
   "source": [
    "## Discussion {-}"
   ]
  },
  {
   "cell_type": "markdown",
   "metadata": {},
   "source": [
    "In the final submission, make sure to address the following points:\n",
    "* Comment on the coupling between the excited state and ground state for both fluorescein and quinine. What measurement allows you to compare the coupling?\n",
    "* Looking at the molecular structures, can you propose a reasonable explanation for the difference in the infinite dilution fluorescence quantum yields for quinine and fluorescein? Which one couples more strongly to the solvent?\n",
    "* Which molecule shows a stronger ability to self-quench?  What part of the Stern-Volmer plots provide this information? Can you provide an explanation for the difference between the two molecules?"
   ]
  },
  {
   "cell_type": "code",
   "metadata": {
    "jupyter": {
     "is_executing": true
    }
   },
   "source": [
    "# This cell is used to allow Google Colab to install the tools to convert the notebook to a pdf file\n",
    "# Un-comment the following lines when you are ready to export the pdf \n",
    "#!apt-get install texlive texlive-xetex texlive-latex-extra pandoc\n",
    "#!pip install pypandoc"
   ],
   "outputs": [],
   "execution_count": null
  },
  {
   "cell_type": "code",
   "metadata": {
    "jupyter": {
     "is_executing": true
    }
   },
   "source": [
    "# Use this command to convert the finished worksheet into a pdf \n",
    "# NOTE : you may want to change the path of the file, if you are working in a different folder of the Google Drive\n",
    "#!jupyter nbconvert --no-input --to PDF \"/content/drive/MyDrive/Colab Notebooks/QuantumYield_Worksheet.ipynb\""
   ],
   "outputs": [],
   "execution_count": null
  }
 ],
 "metadata": {
  "kernelspec": {
   "display_name": "Python 3",
   "language": "python",
   "name": "python3"
  },
  "language_info": {
   "codemirror_mode": {
    "name": "ipython",
    "version": 3
   },
   "file_extension": ".py",
   "mimetype": "text/x-python",
   "name": "python",
   "nbconvert_exporter": "python",
   "pygments_lexer": "ipython3"
  },
  "vscode": {
   "interpreter": {
    "hash": "20bf69066c0dd38d51965b69d5e1b6e387082e3198ba56e97997ac55f4e50ad0"
   }
  }
 },
 "nbformat": 4,
 "nbformat_minor": 2
}
