{
 "cells": [
  {
   "cell_type": "markdown",
   "metadata": {},
   "source": [
    "Student's Name and Email Address\n",
    "\n",
    "Boise State University, Department of Chemistry and Biochemistry"
   ]
  },
  {
   "attachments": {},
   "cell_type": "markdown",
   "metadata": {},
   "source": [
    "## CHEM 324: PChem Lab {-}\n",
    "# Worksheet 4: UV-Vis Spectroscopy of Conjugated Dyes {-}"
   ]
  },
  {
   "cell_type": "code",
   "metadata": {
    "ExecuteTime": {
     "end_time": "2025-03-02T01:57:50.271079Z",
     "start_time": "2025-03-02T01:57:50.258873Z"
    }
   },
   "source": "",
   "outputs": [],
   "execution_count": 5
  },
  {
   "cell_type": "markdown",
   "metadata": {},
   "source": [
    "Set the local path, even though we will not need to read files"
   ]
  },
  {
   "cell_type": "code",
   "metadata": {
    "ExecuteTime": {
     "end_time": "2025-03-02T02:08:15.896580Z",
     "start_time": "2025-03-02T02:08:15.886170Z"
    }
   },
   "source": "",
   "outputs": [],
   "execution_count": 6
  },
  {
   "metadata": {
    "ExecuteTime": {
     "end_time": "2025-03-01T17:24:18.584896Z",
     "start_time": "2025-03-01T17:24:18.583166Z"
    }
   },
   "cell_type": "code",
   "source": "",
   "outputs": [],
   "execution_count": null
  },
  {
   "attachments": {},
   "cell_type": "markdown",
   "metadata": {},
   "source": [
    "## Task 1: A Particle in a Box Model with no Parameters {-}"
   ]
  },
  {
   "attachments": {},
   "cell_type": "markdown",
   "metadata": {},
   "source": [
    "For the first task, we will consider the hypothesis that for all the molecules in the experiment, the electrons in $\\pi$ orbitals behave as free electrons in a one-dimensional box. The energy levels of particles in a box only depend on basic physical constants and the length of the box $L$ according to the formula $E_n=\\frac{h^2n^2}{8mL}$, where $n$ is a quantum number that identifies the step in the ladder of single-electron states. The absorption maximum will correspond to the highest occupied state being excited to the lowest unoccupied state. For a system with $N$ $\\pi$ electrons, the difference in energy between the two states is $\\Delta E = \\frac{h^2}{8mL}(N+1)$, which corresponds to an absorption wavelength of $\\lambda^{FE}=\\frac{8mc}{h}\\frac{L^2}{N+1}$. For the conjugated systems in our experiments, the number of electrons is $N=p+3$ and the length of the box can be assumed to be $L=(p+3)l$, where $p$ is the number of carbon atoms in between the two nitrogens, while $l=0.139$ nm is the typical C-C bond length in aromatic systems. Accounting for all the constants, the free electrons (particle in a box) prediction for the absorption maximum is $\\lambda^{FE}(\\textrm{in nm})=63.7\\frac{(p+3)^2}{p+4}$.\n",
    "\n",
    "* For each molecule, compute the expected absorption maximum in the free electron (particle in a box) picture using the formula above in terms of $p$. Compute the deviation from the experiments of this model in terms of the sum of errors squared, i.e. $RSS=\\sum_i(\\lambda^{exp}_i-\\lambda^{FE}_i)^2$\n",
    "* Make a scatter plot of the experimental absorption maximum for all the molecules together with your prediction. Compute the coefficient of determination $R^2=1-RSS/TSS$ from the residual sum of square and the total sum of squares, $TSS=\\sum_i(\\lambda^{exp}_i-\\bar{\\lambda}^{exp})^2$."
   ]
  },
  {
   "metadata": {
    "ExecuteTime": {
     "end_time": "2025-03-02T02:46:32.503782Z",
     "start_time": "2025-03-02T02:46:32.420013Z"
    }
   },
   "cell_type": "code",
   "source": [
    "import numpy as np\n",
    "import pandas as pd\n",
    "import matplotlib.pyplot as plt\n",
    "\n",
    "# Define the formula to compute predicted absorption wavelength\n",
    "def lambda_FE(p):\n",
    "    return 63.7 * (p + 3)**2 / (p + 4)\n",
    "\n",
    "# Define the dictionary for the molecules\n",
    "dyes = [\n",
    "    {'cas': '977-96-8', 'p': 3, 'hasO': 0, 'hasS': 0, 'label': 'C3', 'group': 'C', 'lambda_exp': 522.991943},\n",
    "    {'cas': '605-91-4', 'p': 5, 'hasO': 0, 'hasS': 0, 'label': 'C5', 'group': 'C', 'lambda_exp': 604.003479},\n",
    "    {'cas': '4727-49-5', 'p': 7, 'hasO': 0, 'hasS': 0, 'label': 'N7', 'group': 'N', 'lambda_exp': 590.018250},\n",
    "    {'cas': '14187-31-6', 'p': 7, 'hasO': 0, 'hasS': 0, 'label': 'C7', 'group': 'C', 'lambda_exp': 707.012146},\n",
    "    {'cas': '4727-50-8', 'p': 9, 'hasO': 0, 'hasS': 0, 'label': 'N9', 'group': 'N', 'lambda_exp': 705.008301},\n",
    "    {'cas': '18300-31-7', 'p': 11, 'hasO': 0, 'hasS': 0, 'label': 'N11', 'group': 'N', 'lambda_exp': 814.993225},\n",
    "    {'cas': '2197-01-5', 'p': 3, 'hasO': 0, 'hasS': 1, 'label': 'S3', 'group': 'S', 'lambda_exp': 423.012695},\n",
    "    {'cas': '905-97-5', 'p': 5, 'hasO': 0, 'hasS': 1, 'label': 'S5', 'group': 'S', 'lambda_exp': 557.017883},\n",
    "    {'cas': '514-73-8', 'p': 7, 'hasO': 0, 'hasS': 1, 'label': 'S7', 'group': 'S', 'lambda_exp': 650.993408},\n",
    "    {'cas': '3071-70-3', 'p': 9, 'hasO': 0, 'hasS': 1, 'label': 'S9', 'group': 'S', 'lambda_exp': 762.000000},\n",
    "    {'cas': '905-96-4', 'p': 5, 'hasO': 1, 'hasS': 0, 'label': 'O5', 'group': 'O', 'lambda_exp': 479.995789},\n",
    "    {'cas': '14806-50-9', 'p': 7, 'hasO': 1, 'hasS': 0, 'label': 'O7', 'group': 'O', 'lambda_exp': 579.984802}\n",
    "]\n",
    "\n",
    "# Convert the list of dictionaries into a DataFrame\n",
    "dyes_data = pd.DataFrame(dyes)\n",
    "\n",
    "# Compute the expected lambda_FE for each molecule using the formula\n",
    "dyes_data['lambda_FE'] = dyes_data['p'].apply(lambda_FE)\n",
    "\n",
    "# Compute the deviation (difference between observed and predicted values)\n",
    "dyes_data['deviation'] = dyes_data['lambda_exp'] - dyes_data['lambda_FE']\n",
    "\n",
    "# Calculate RSS\n",
    "RSS = np.sum((dyes_data['lambda_exp'] - dyes_data['lambda_FE'])**2)\n",
    "\n",
    "# Calculate TSS (Total Sum of Squares)\n",
    "TSS = np.sum((dyes_data['lambda_exp'] - dyes_data['lambda_exp'].mean())**2)\n",
    "\n",
    "# Calculate R^2 (Coefficient of Determination)\n",
    "R2 = 1 - (RSS / TSS)\n",
    "\n",
    "# Print out the individual deviations and the overall metrics\n",
    "for index, row in dyes_data.iterrows():\n",
    "    print(f\"CAS: {row['cas']}, Label: {row['label']}\")\n",
    "    print(f\"Observed Absorption: {row['lambda_exp']} nm\")\n",
    "    print(f\"Predicted Absorption: {row['lambda_FE']} nm\")\n",
    "    print(f\"Deviation: {row['deviation']} nm\")\n",
    "    print(\"-\" * 40)\n",
    "\n",
    "# Print the overall metrics (RSS, TSS, R^2)\n",
    "print(f\"RSS: {RSS:.4f}\")\n",
    "print(f\"TSS: {TSS:.4f}\")\n",
    "print(f\"R^2: {R2:.4f}\")\n",
    "\n",
    "# Plotting the data\n",
    "plt.scatter(dyes_data['p'], dyes_data['lambda_exp'], label='Observed')\n",
    "plt.plot(dyes_data['p'], dyes_data['lambda_FE'], color='red', label='Predicted')\n",
    "plt.xlabel('p')\n",
    "plt.ylabel('Wavelength (nm)')\n",
    "plt.legend()\n",
    "plt.title('Observed vs Predicted Absorption Wavelengths')\n",
    "plt.show()"
   ],
   "outputs": [
    {
     "name": "stdout",
     "output_type": "stream",
     "text": [
      "CAS: 977-96-8, Label: C3\n",
      "Observed Absorption: 522.991943 nm\n",
      "Predicted Absorption: 327.6 nm\n",
      "Deviation: 195.39194299999997 nm\n",
      "----------------------------------------\n",
      "CAS: 605-91-4, Label: C5\n",
      "Observed Absorption: 604.003479 nm\n",
      "Predicted Absorption: 452.9777777777778 nm\n",
      "Deviation: 151.02570122222215 nm\n",
      "----------------------------------------\n",
      "CAS: 4727-49-5, Label: N7\n",
      "Observed Absorption: 590.01825 nm\n",
      "Predicted Absorption: 579.0909090909091 nm\n",
      "Deviation: 10.927340909090844 nm\n",
      "----------------------------------------\n",
      "CAS: 14187-31-6, Label: C7\n",
      "Observed Absorption: 707.012146 nm\n",
      "Predicted Absorption: 579.0909090909091 nm\n",
      "Deviation: 127.92123690909091 nm\n",
      "----------------------------------------\n",
      "CAS: 4727-50-8, Label: N9\n",
      "Observed Absorption: 705.008301 nm\n",
      "Predicted Absorption: 705.6000000000001 nm\n",
      "Deviation: -0.5916990000001761 nm\n",
      "----------------------------------------\n",
      "CAS: 18300-31-7, Label: N11\n",
      "Observed Absorption: 814.993225 nm\n",
      "Predicted Absorption: 832.3466666666667 nm\n",
      "Deviation: -17.35344166666664 nm\n",
      "----------------------------------------\n",
      "CAS: 2197-01-5, Label: S3\n",
      "Observed Absorption: 423.012695 nm\n",
      "Predicted Absorption: 327.6 nm\n",
      "Deviation: 95.41269499999999 nm\n",
      "----------------------------------------\n",
      "CAS: 905-97-5, Label: S5\n",
      "Observed Absorption: 557.017883 nm\n",
      "Predicted Absorption: 452.9777777777778 nm\n",
      "Deviation: 104.04010522222217 nm\n",
      "----------------------------------------\n",
      "CAS: 514-73-8, Label: S7\n",
      "Observed Absorption: 650.993408 nm\n",
      "Predicted Absorption: 579.0909090909091 nm\n",
      "Deviation: 71.90249890909092 nm\n",
      "----------------------------------------\n",
      "CAS: 3071-70-3, Label: S9\n",
      "Observed Absorption: 762.0 nm\n",
      "Predicted Absorption: 705.6000000000001 nm\n",
      "Deviation: 56.399999999999864 nm\n",
      "----------------------------------------\n",
      "CAS: 905-96-4, Label: O5\n",
      "Observed Absorption: 479.995789 nm\n",
      "Predicted Absorption: 452.9777777777778 nm\n",
      "Deviation: 27.018011222222185 nm\n",
      "----------------------------------------\n",
      "CAS: 14806-50-9, Label: O7\n",
      "Observed Absorption: 579.984802 nm\n",
      "Predicted Absorption: 579.0909090909091 nm\n",
      "Deviation: 0.8938929090908232 nm\n",
      "----------------------------------------\n",
      "RSS: 106781.1427\n",
      "TSS: 148329.1170\n",
      "R^2: 0.2801\n"
     ]
    },
    {
     "data": {
      "text/plain": [
       "<Figure size 640x480 with 1 Axes>"
      ],
      "image/png": "[encoded data removed]"
     },
     "metadata": {},
     "output_type": "display_data"
    }
   ],
   "execution_count": 11
  },
  {
   "attachments": {},
   "cell_type": "markdown",
   "metadata": {},
   "source": [
    "## Task 2: A Single-Parameter Model {-}"
   ]
  },
  {
   "attachments": {},
   "cell_type": "markdown",
   "metadata": {},
   "source": [
    "The model described above is clearly simplified. We could try to improve it by including the effect of the aromatic rings on the potential of the box. For example, we could assume that the presence of the aromatic rings soften the box, so that the effective lenght is a bit larger than the one used above. This could be achieved by introducing an empirical parameter $\\alpha$ in the equation, as follows $\\lambda^{FE}(\\textrm{in nm})=63.7\\frac{(p+3+\\alpha)^2}{p+4}$.\n",
    "The parameter $\\alpha$ needs to be determined from the experimental results (fit). Similar to standard least-squares fit, we want to identify the value of the parameter that minimizes the sum of errors squared, i.e. the $RSS$. This can be done in a few alternative ways: \n",
    "\n",
    "* Given the experimental values of $\\lambda$, we could compute the optimal alpha for each molecule and than take the average over all the molecules.\n",
    "* More accurately, we could generate a range of values of $\\alpha$ and for each of them compute the $RSS$. The best fit is the one for which the $RSS$ is the lowest. \n",
    "* We could linearize the dependence on $p$ in the formula above and use linear regression to fit the experimental data. From the slope and/or intercept we could estimate $\\alpha$. \n",
    "\n",
    "Choose one of the approaches above and determine the value of $\\alpha$ the best reproduces the experiments. Plot the experimental points together with the fitted model and compute the $R^2$ of the fit. "
   ]
  },
  {
   "attachments": {},
   "cell_type": "markdown",
   "metadata": {},
   "source": [
    "## Task 3: Fitting Different Series {-}"
   ]
  },
  {
   "attachments": {},
   "cell_type": "markdown",
   "metadata": {},
   "source": [
    "We could extend the idea above by introducing more empirical parameters in the model. In particular, the size and shape of the one-dimensional box may be affected by the presence of sulfur or oxygen atoms at the two edges. For this reason, we want to investigate the possibility to improve our particle in a box model by individually fitting the three different series of molecules: the ones with no S nor O, the ones containing S, and the ones containing O. The dataset contains two additional variables ('hasS' and 'hasO') that you can use to filter the entries. \n",
    "\n",
    "* Repeat the calculations above to individually fit the particle-in-a-box model for the three series of molecules and compute the relative $R^2$ values. \n",
    "* Make a scatter plot in which the three series of molecules are reported with different colors and markers. Add the three fits to the plot.\n",
    "* For each series of molecules, plot the measured UV-Vis spectra showing the changes in electronic excitations as the conjugation increases. You can use Python (recommended) or any other tool to prepare these Figures. \n",
    "* Comment on your results (2-3 sentences). Is the improvement in the models significant enough to justify adding more parameter? Do the fitted parameters have a chemical/physical meaning? "
   ]
  },
  {
   "attachments": {},
   "cell_type": "markdown",
   "metadata": {},
   "source": [
    "YOUR COMMENTS HERE"
   ]
  },
  {
   "attachments": {},
   "cell_type": "markdown",
   "metadata": {},
   "source": [
    "## Task 4: Multivariate Fits {-}"
   ]
  },
  {
   "attachments": {},
   "cell_type": "markdown",
   "metadata": {},
   "source": [
    "While the particle-in-a-box fitting is motivated by physical reasons, we could try to fit all our data with a linear model but using a multivariate regression, i.e. by using multiple independent variables (features) for our fit. In particular, we could use both the number of carbon atoms and the two categorical variables 'hasS' and 'hasO' as independent variables for our linear regression algorithm. \n",
    "\n",
    "* Perform a linear regression using 'p', 'hasS', ans 'hasO' as features to predict 'lamba'. How many parameters are we fitting in this model? What is the resulting $R^2$? \n",
    "* Make a scatter plot of the experimental data and of the predicted data from the model.  \n"
   ]
  },
  {
   "attachments": {},
   "cell_type": "markdown",
   "metadata": {},
   "source": [
    "Using features related to the molecular structure to predict molecular properties is becoming a common strategy in machine-learning for chemical applications. The two features that we used above have obvious reasons to be linked to the absorption maximum, as we have seen when discussing the particle-in-a-box physics-based models. However, it is possible that other characteristics of the molecules have some strong connection with their excitation energies. Is there a single variable or a combination of variables that can predict the experimental absorption maximumum with higher accuracy? \n",
    "\n",
    "* Explore different variables that could be linked to the absorption maximum. For example, you may consider the total number of aromatic C, the total number of heteroatoms, the first two digits of the CAS code, etc. \n",
    "* Plot your best results and comment on this approach."
   ]
  },
  {
   "attachments": {},
   "cell_type": "markdown",
   "metadata": {},
   "source": [
    "YOUR COMMENTS HERE"
   ]
  },
  {
   "cell_type": "code",
   "metadata": {
    "ExecuteTime": {
     "end_time": "2025-03-01T04:09:21.525256Z",
     "start_time": "2025-03-01T04:09:21.523878Z"
    }
   },
   "source": [
    "# This cell is used to allow Google Colab to install the tools to convert the notebook to a pdf file\n",
    "# Un-comment the following lines when you are ready to export the pdf \n",
    "#!apt-get install texlive texlive-xetex texlive-latex-extra pandoc\n",
    "#!pip install pypandoc"
   ],
   "outputs": [],
   "execution_count": 3
  },
  {
   "cell_type": "code",
   "metadata": {
    "ExecuteTime": {
     "end_time": "2025-03-01T04:09:21.533909Z",
     "start_time": "2025-03-01T04:09:21.532400Z"
    }
   },
   "source": [
    "# Use this command to convert the finished worksheet into a pdf \n",
    "# NOTE : you may want to change the path of the file, if you are working in a different folder of the Google Drive\n",
    "#!jupyter nbconvert --no-input --to PDF \"/content/drive/MyDrive/Colab Notebooks/ParticleBox_Worksheet.ipynb\""
   ],
   "outputs": [],
   "execution_count": 4
  }
 ],
 "metadata": {
  "kernelspec": {
   "display_name": "Python 3",
   "language": "python",
   "name": "python3"
  },
  "language_info": {
   "codemirror_mode": {
    "name": "ipython",
    "version": 3
   },
   "file_extension": ".py",
   "mimetype": "text/x-python",
   "name": "python",
   "nbconvert_exporter": "python",
   "pygments_lexer": "ipython3",
   "version": "3.9.6"
  },
  "vscode": {
   "interpreter": {
    "hash": "949777d72b0d2535278d3dc13498b2535136f6dfe0678499012e853ee9abcab1"
   }
  }
 },
 "nbformat": 4,
 "nbformat_minor": 2
}
