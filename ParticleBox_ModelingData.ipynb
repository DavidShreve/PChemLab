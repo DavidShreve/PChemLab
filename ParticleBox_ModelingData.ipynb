{
 "cells": [
  {
   "attachments": {},
   "cell_type": "markdown",
   "metadata": {},
   "source": [
    "Dr Oliviero Andreussi, olivieroandreuss@boisestate.edu\n",
    "\n",
    "Boise State University, Department of Chemistry and Biochemistry"
   ]
  },
  {
   "attachments": {},
   "cell_type": "markdown",
   "metadata": {},
   "source": [
    "# Fitting and Data Analysis for the UV-Vis Particle in a Box Experiment {-}"
   ]
  },
  {
   "attachments": {},
   "cell_type": "markdown",
   "metadata": {},
   "source": [
    "Before we start, let us import the main modules that we will need for this lecture. You may see some new modules in the list below, we will add more details in the right sections."
   ]
  },
  {
   "cell_type": "code",
   "metadata": {
    "ExecuteTime": {
     "end_time": "2025-03-01T05:01:52.723942Z",
     "start_time": "2025-03-01T05:01:52.720856Z"
    }
   },
   "source": [
    "# @title Notebook Setup { display-mode: \"form\" }\n",
    "# Import the main modules used in this worksheet\n",
    "import numpy as np\n",
    "import matplotlib.pyplot as plt\n",
    "import pandas as pd\n",
    "from sklearn.linear_model import LinearRegression\n",
    "# The following needs to be the path of the folder with all your datafile in .csv format\n",
    "base_path = '/Users/School/PycharmProjects/PChemLab/ParticleBox_Data/PIB/'"
   ],
   "outputs": [],
   "execution_count": 8
  },
  {
   "cell_type": "code",
   "metadata": {
    "ExecuteTime": {
     "end_time": "2025-03-01T05:01:52.741873Z",
     "start_time": "2025-03-01T05:01:52.733663Z"
    }
   },
   "source": [
    "# @title Functions to load the data { display-mode: \"form\" }\n",
    "def load_data_to_file_dict(file_dict):\n",
    "    \"\"\"\n",
    "    Load a uv-vis .csv file.\n",
    "    The format of the file should have two rows of headers and two columns of data (time and absorbance)\n",
    "    The file may have additional information from the instrument saved at the bottom\n",
    "\n",
    "    Input variables:\n",
    "        file_dict : a dictionary with 'path' and 'name' keys corresponding to the file to be loaded\n",
    "\n",
    "    Action:\n",
    "        Add to file_dict a Pandas DataFrame with two columns: time (in seconds) and absorbance (in input units)\n",
    "    \"\"\"\n",
    "    data = pd.read_csv(file_dict['path']+file_dict['name'],header=1,usecols=(0,1)).apply(pd.to_numeric,errors='coerce').dropna()\n",
    "    data['Abs'] = data['Abs']-data['Abs'].min() # forces the data to be above zero\n",
    "    if data.keys()[0] == 'Time (sec)' :\n",
    "        data = data.rename(columns={'Time (sec)':'time'})\n",
    "        file_dict['xaxis']='time'\n",
    "    elif data.keys()[0] == 'Time (min)' :\n",
    "        data['time'] = data['Time (min)'] * 60\n",
    "        data = data.drop('Time (min)',axis=1)\n",
    "        file_dict['xaxis']='time'\n",
    "    elif data.keys()[0] == 'Wavelength (nm)' :\n",
    "        data = data.rename(columns={'Wavelength (nm)':'wavelength'})\n",
    "        file_dict['xaxis']='wavelength'\n",
    "    data = data.rename(columns={'Abs':'absorbance'})\n",
    "    file_dict['data'] = data\n",
    "    return\n",
    "\n",
    "def load_data_to_file_list(file_list):\n",
    "    \"\"\"\n",
    "    Given a list of dictionary files, recursively use load_data_to_file_dict to load the data into each of the dictionaries\n",
    "\n",
    "    Input variables:\n",
    "        file_list : a list of dictionary files, each with 'path' and 'name' keys corresponding to the file to be loaded\n",
    "\n",
    "    Action:\n",
    "        Add to each file_dict a Pandas DataFrame with two columns: time (in seconds) and temperature (in input units)\n",
    "    \"\"\"\n",
    "    for f in file_list :\n",
    "        if not ('data' in f): load_data_to_file_dict(f)\n",
    "    return\n",
    "\n",
    "def plot_file_dict(file_dict, semilog=False, with_fit=False):\n",
    "    \"\"\"\n",
    "    Given a dictionary file of a bomb calorimetry experiment, plot temperature vs. time.\n",
    "\n",
    "    Input variables:\n",
    "        file_dict : a dictionary file with 'path' and 'name' keys corresponding to the file to be loaded\n",
    "        semilog : use a logarithmic scale for the absorbance axis\n",
    "        with_fit : plot the fitted curve, if present\n",
    "\n",
    "    Action:\n",
    "        Plot absorbance vs. time for the selected file\n",
    "    \"\"\"\n",
    "    fig, ax = plt.subplots()\n",
    "    if not ('data' in file_dict):\n",
    "        load_data_to_file_dict(f)\n",
    "    xaxis = file_dict['xaxis']\n",
    "    if semilog :\n",
    "        plt.semilogy(file_dict['data'][xaxis],file_dict['data']['absorbance'],label=file_dict['label'])\n",
    "        if with_fit and 'absorbance_fitted' in file_dict['data'].keys():\n",
    "            plt.semilogy(file_dict['data'][xaxis],file_dict['data']['absorbance_fitted'],':',label=file_dict['label']+' fit')\n",
    "    else:\n",
    "        plt.plot(file_dict['data'][xaxis],file_dict['data']['absorbance'],label=file_dict['label'])\n",
    "        if with_fit and 'absorbance_fitted' in file_dict['data'].keys():\n",
    "            plt.plot(file_dict['data'][xaxis],file_dict['data']['absorbance_fitted'],':',label=file_dict['label']+' fit')\n",
    "    if xaxis == 'time' :\n",
    "        plt.xlabel('Time (s)')\n",
    "    elif xaxis == 'wavelength' :\n",
    "        plt.xlabel('Wavelength (nm)')\n",
    "    plt.ylabel('Absorbance (a.u.)')\n",
    "    plt.legend()\n",
    "    plt.show()\n",
    "\n",
    "def plot_file_list(file_list,key='',value=[''],semilog=False,with_fit=False):\n",
    "    \"\"\"\n",
    "    Given a list of dictionary files, plot absorbance vs. time for each file into the same plot.\n",
    "    If key/value are specified, only plot the files for which the key has the specified value.\n",
    "\n",
    "    Input variables:\n",
    "        file_list : a list of dictionary files, each with 'path' and 'name' keys corresponding to the file to be loaded\n",
    "        key: a string with the name of the key to shortlist the files\n",
    "        value: the value of the key used to select the shortlist of files\n",
    "\n",
    "    Action:\n",
    "        Plot absorbance vs. time for the selected files\n",
    "    \"\"\"\n",
    "    if value == '' or key == '':\n",
    "        file_shortlist = file_list\n",
    "    else :\n",
    "        file_shortlist = [f for f in file_list if f[key] in value ]\n",
    "    fig, ax = plt.subplots()\n",
    "    for i,f in enumerate(file_shortlist) :\n",
    "        color='C'+str(i)\n",
    "        if not ('data' in f):\n",
    "            load_data_to_file_dict(f)\n",
    "        xaxis = f['xaxis']\n",
    "        if semilog :\n",
    "            plt.semilogy(f['data'][xaxis],f['data']['absorbance'],color=color,label=f['label'])\n",
    "            if with_fit and 'absorbance_fitted' in f['data'].keys():\n",
    "                plt.semilogy(f['data'][xaxis],f['data']['absorbance_fitted'],':',color=color,label=f['label']+' fit')\n",
    "        else:\n",
    "            plt.plot(f['data'][xaxis],f['data']['absorbance'],color=color,label=f['label'])\n",
    "            if with_fit and 'absorbance_fitted' in f['data'].keys():\n",
    "                plt.plot(f['data'][xaxis],f['data']['absorbance_fitted'],':',color=color,label=f['label']+' fit')\n",
    "    if xaxis == 'time' :\n",
    "        plt.xlabel('Time (s)')\n",
    "    elif xaxis == 'wavelength' :\n",
    "        plt.xlabel('Wavelength (nm)')\n",
    "    plt.ylabel('Absorbance (a.u.)')\n",
    "    plt.legend()\n",
    "    plt.show()"
   ],
   "outputs": [],
   "execution_count": 9
  },
  {
   "cell_type": "markdown",
   "metadata": {},
   "source": [
    "Set the local path, in case you have absorption spectra that you want to plot"
   ]
  },
  {
   "cell_type": "code",
   "metadata": {
    "ExecuteTime": {
     "end_time": "2025-03-01T05:01:52.747760Z",
     "start_time": "2025-03-01T05:01:52.746069Z"
    }
   },
   "source": [
    "# @title Set Local Path { display-mode: \"form\" }\n",
    "# The following needs to be the path of the folder with all your collected data in .csv format\n",
    " # @param {type:\"string\"}\n",
    "path = '/Users/School/PycharmProjects/PChemLab/ParticleBox_Data/PIB/'"
   ],
   "outputs": [],
   "execution_count": 10
  },
  {
   "cell_type": "markdown",
   "metadata": {},
   "source": [
    "## Visualize the Systems {-}"
   ]
  },
  {
   "attachments": {},
   "cell_type": "markdown",
   "metadata": {},
   "source": [
    "The following module needs to be installed on Colab. We won't need it too much for this analysis, but they offer a lot of nice features for chemistry programming. "
   ]
  },
  {
   "cell_type": "code",
   "metadata": {
    "ExecuteTime": {
     "end_time": "2025-03-01T05:01:54.355830Z",
     "start_time": "2025-03-01T05:01:52.758439Z"
    }
   },
   "source": [
    "# @title Install and load RDKit { display-mode: \"form\" }\n",
    "!pip install rdkit\n",
    "from rdkit import Chem\n",
    "from rdkit.Chem import Draw\n",
    "!pip install cirpy\n",
    "import cirpy"
   ],
   "outputs": [
    {
     "name": "stdout",
     "output_type": "stream",
     "text": [
      "Requirement already satisfied: rdkit in /opt/anaconda3/lib/python3.12/site-packages (2024.9.5)\r\n",
      "Requirement already satisfied: numpy in /opt/anaconda3/lib/python3.12/site-packages (from rdkit) (1.26.4)\r\n",
      "Requirement already satisfied: Pillow in /opt/anaconda3/lib/python3.12/site-packages (from rdkit) (10.4.0)\r\n",
      "Requirement already satisfied: cirpy in /opt/anaconda3/lib/python3.12/site-packages (1.0.2)\r\n"
     ]
    }
   ],
   "execution_count": 11
  },
  {
   "attachments": {},
   "cell_type": "markdown",
   "metadata": {},
   "source": [
    "In particular we can use them to draw the molecules in our experiments. Here are the CAS numbers (note that for one of the molecules CirPy is not able to find the SMILES and you will need to pass it directly):\n",
    "* 977-96-8\n",
    "* 605-91-4\n",
    "* 4727-49-5\n",
    "* 14187-31-6\n",
    "* 4727-50-8\n",
    "* 18300-31-7 ('[I-].CCN1C=C\\C(=C/C=C/C=C/c2cc\\[n+\\](CC)c3ccccc23)c4ccccc14')\n",
    "* 2197-01-5\n",
    "* 905-97-5\n",
    "* 514-73-8\n",
    "* 3071-70-3\n",
    "* 905-96-4\n",
    "* 14806-50-9"
   ]
  },
  {
   "cell_type": "code",
   "metadata": {
    "ExecuteTime": {
     "end_time": "2025-03-01T05:03:32.597475Z",
     "start_time": "2025-03-01T05:02:28.122183Z"
    }
   },
   "source": [
    "from rdkit import Chem\n",
    "from rdkit.Chem import Draw\n",
    "import cirpy\n",
    "from IPython.display import display\n",
    "from PIL import Image, ImageDraw, ImageFont\n",
    "\n",
    "# Manually assigned SMILES for CAS 18300-31-7\n",
    "manual_smiles = {\n",
    "    '18300-31-7': 'CCN1C=CC(=CC=CC=CC2=CC=[N+](C3=CC=CC=C23)CC)C4=CC=CC=C41.[I-]'\n",
    "}\n",
    "\n",
    "def generate_molecule_collage(cas_numbers, image_size=(300, 300), molecules_per_row=4):\n",
    "    images = []\n",
    "    labels = []\n",
    "\n",
    "    for cas in cas_numbers:\n",
    "        # Try to resolve CAS to SMILES using CirPy\n",
    "        smiles = cirpy.resolve(cas, 'smiles')\n",
    "\n",
    "        # If CirPy fails, check manual SMILES\n",
    "        if not smiles and cas in manual_smiles:\n",
    "            smiles = manual_smiles[cas]\n",
    "\n",
    "        # If we have a valid SMILES, generate the molecule\n",
    "        if smiles:\n",
    "            mol = Chem.MolFromSmiles(smiles)\n",
    "            img = Draw.MolToImage(mol, size=image_size)\n",
    "            images.append(img)\n",
    "            labels.append(cas)\n",
    "        else:\n",
    "            print(f\"⚠️ Still unable to resolve CAS: {cas} - Skipping.\")\n",
    "\n",
    "    # Determine collage grid size\n",
    "    num_molecules = len(images)\n",
    "    rows = (num_molecules + molecules_per_row - 1) // molecules_per_row  # Round up\n",
    "\n",
    "    collage_width = molecules_per_row * image_size[0]\n",
    "    collage_height = rows * (image_size[1] + 40)  # Extra space for CAS labels\n",
    "\n",
    "    collage = Image.new('RGB', (collage_width, collage_height), 'white')\n",
    "    draw = ImageDraw.Draw(collage)\n",
    "\n",
    "    try:\n",
    "        font = ImageFont.truetype(\"arial.ttf\", 20)  # Use Arial for better readability\n",
    "    except:\n",
    "        font = ImageFont.load_default()  # Fallback font\n",
    "\n",
    "    for i, (img, cas) in enumerate(zip(images, labels)):\n",
    "        x = (i % molecules_per_row) * image_size[0]\n",
    "        y = (i // molecules_per_row) * (image_size[1] + 40)  # Account for CAS label space\n",
    "        collage.paste(img, (x, y))\n",
    "\n",
    "        # Get text size correctly using textbbox()\n",
    "        text_bbox = draw.textbbox((0, 0), cas, font=font)\n",
    "        text_width = text_bbox[2] - text_bbox[0]\n",
    "        text_x = x + (image_size[0] - text_width) // 2  # Center text\n",
    "        text_y = y + image_size[1] + 5  # Position below the image\n",
    "        draw.text((text_x, text_y), cas, fill='black', font=font)\n",
    "\n",
    "    display(collage)\n",
    "\n",
    "# List of CAS numbers including the one that failed before\n",
    "cas_numbers = [\n",
    "    '977-96-8', '605-91-4', '4727-49-5',\n",
    "    '14187-31-6', '4727-50-8', '18300-31-7',  # Manually fixed CAS\n",
    "    '2197-01-5', '905-97-5', '514-73-8',\n",
    "    '3071-70-3', '905-96-4', '14806-50-9'\n",
    "]\n",
    "\n",
    "generate_molecule_collage(cas_numbers, molecules_per_row=4)"
   ],
   "outputs": [
    {
     "ename": "HTTPError",
     "evalue": "HTTP Error 504: Gateway Timeout",
     "output_type": "error",
     "traceback": [
      "\u001B[0;31m---------------------------------------------------------------------------\u001B[0m",
      "\u001B[0;31mHTTPError\u001B[0m                                 Traceback (most recent call last)",
      "Cell \u001B[0;32mIn[13], line 70\u001B[0m\n\u001B[1;32m     62\u001B[0m \u001B[38;5;66;03m# List of CAS numbers including the one that failed before\u001B[39;00m\n\u001B[1;32m     63\u001B[0m cas_numbers \u001B[38;5;241m=\u001B[39m [\n\u001B[1;32m     64\u001B[0m     \u001B[38;5;124m'\u001B[39m\u001B[38;5;124m977-96-8\u001B[39m\u001B[38;5;124m'\u001B[39m, \u001B[38;5;124m'\u001B[39m\u001B[38;5;124m605-91-4\u001B[39m\u001B[38;5;124m'\u001B[39m, \u001B[38;5;124m'\u001B[39m\u001B[38;5;124m4727-49-5\u001B[39m\u001B[38;5;124m'\u001B[39m,\n\u001B[1;32m     65\u001B[0m     \u001B[38;5;124m'\u001B[39m\u001B[38;5;124m14187-31-6\u001B[39m\u001B[38;5;124m'\u001B[39m, \u001B[38;5;124m'\u001B[39m\u001B[38;5;124m4727-50-8\u001B[39m\u001B[38;5;124m'\u001B[39m, \u001B[38;5;124m'\u001B[39m\u001B[38;5;124m18300-31-7\u001B[39m\u001B[38;5;124m'\u001B[39m,  \u001B[38;5;66;03m# Manually fixed CAS\u001B[39;00m\n\u001B[1;32m     66\u001B[0m     \u001B[38;5;124m'\u001B[39m\u001B[38;5;124m2197-01-5\u001B[39m\u001B[38;5;124m'\u001B[39m, \u001B[38;5;124m'\u001B[39m\u001B[38;5;124m905-97-5\u001B[39m\u001B[38;5;124m'\u001B[39m, \u001B[38;5;124m'\u001B[39m\u001B[38;5;124m514-73-8\u001B[39m\u001B[38;5;124m'\u001B[39m,\n\u001B[1;32m     67\u001B[0m     \u001B[38;5;124m'\u001B[39m\u001B[38;5;124m3071-70-3\u001B[39m\u001B[38;5;124m'\u001B[39m, \u001B[38;5;124m'\u001B[39m\u001B[38;5;124m905-96-4\u001B[39m\u001B[38;5;124m'\u001B[39m, \u001B[38;5;124m'\u001B[39m\u001B[38;5;124m14806-50-9\u001B[39m\u001B[38;5;124m'\u001B[39m\n\u001B[1;32m     68\u001B[0m ]\n\u001B[0;32m---> 70\u001B[0m generate_molecule_collage(cas_numbers, molecules_per_row\u001B[38;5;241m=\u001B[39m\u001B[38;5;241m4\u001B[39m)\n",
      "Cell \u001B[0;32mIn[13], line 18\u001B[0m, in \u001B[0;36mgenerate_molecule_collage\u001B[0;34m(cas_numbers, image_size, molecules_per_row)\u001B[0m\n\u001B[1;32m     14\u001B[0m labels \u001B[38;5;241m=\u001B[39m []\n\u001B[1;32m     16\u001B[0m \u001B[38;5;28;01mfor\u001B[39;00m cas \u001B[38;5;129;01min\u001B[39;00m cas_numbers:\n\u001B[1;32m     17\u001B[0m     \u001B[38;5;66;03m# Try to resolve CAS to SMILES using CirPy\u001B[39;00m\n\u001B[0;32m---> 18\u001B[0m     smiles \u001B[38;5;241m=\u001B[39m cirpy\u001B[38;5;241m.\u001B[39mresolve(cas, \u001B[38;5;124m'\u001B[39m\u001B[38;5;124msmiles\u001B[39m\u001B[38;5;124m'\u001B[39m)\n\u001B[1;32m     20\u001B[0m     \u001B[38;5;66;03m# If CirPy fails, check manual SMILES\u001B[39;00m\n\u001B[1;32m     21\u001B[0m     \u001B[38;5;28;01mif\u001B[39;00m \u001B[38;5;129;01mnot\u001B[39;00m smiles \u001B[38;5;129;01mand\u001B[39;00m cas \u001B[38;5;129;01min\u001B[39;00m manual_smiles:\n",
      "File \u001B[0;32m/opt/anaconda3/lib/python3.12/site-packages/cirpy.py:192\u001B[0m, in \u001B[0;36mresolve\u001B[0;34m(input, representation, resolvers, get3d, **kwargs)\u001B[0m\n\u001B[1;32m    180\u001B[0m \u001B[38;5;250m\u001B[39m\u001B[38;5;124;03m\"\"\"Resolve input to the specified output representation.\u001B[39;00m\n\u001B[1;32m    181\u001B[0m \n\u001B[1;32m    182\u001B[0m \u001B[38;5;124;03m:param string input: Chemical identifier to resolve\u001B[39;00m\n\u001B[0;32m   (...)\u001B[0m\n\u001B[1;32m    189\u001B[0m \u001B[38;5;124;03m:raises ParseError: if CIR response is uninterpretable\u001B[39;00m\n\u001B[1;32m    190\u001B[0m \u001B[38;5;124;03m\"\"\"\u001B[39;00m\n\u001B[1;32m    191\u001B[0m \u001B[38;5;66;03m# Take first result from XML query\u001B[39;00m\n\u001B[0;32m--> 192\u001B[0m results \u001B[38;5;241m=\u001B[39m query(\u001B[38;5;28minput\u001B[39m, representation, resolvers, \u001B[38;5;28;01mFalse\u001B[39;00m, get3d, \u001B[38;5;241m*\u001B[39m\u001B[38;5;241m*\u001B[39mkwargs)\n\u001B[1;32m    193\u001B[0m result \u001B[38;5;241m=\u001B[39m results[\u001B[38;5;241m0\u001B[39m]\u001B[38;5;241m.\u001B[39mvalue \u001B[38;5;28;01mif\u001B[39;00m results \u001B[38;5;28;01melse\u001B[39;00m \u001B[38;5;28;01mNone\u001B[39;00m\n\u001B[1;32m    194\u001B[0m \u001B[38;5;28;01mreturn\u001B[39;00m result\n",
      "File \u001B[0;32m/opt/anaconda3/lib/python3.12/site-packages/cirpy.py:162\u001B[0m, in \u001B[0;36mquery\u001B[0;34m(input, representation, resolvers, get3d, tautomers, **kwargs)\u001B[0m\n\u001B[1;32m    149\u001B[0m \u001B[38;5;28;01mdef\u001B[39;00m \u001B[38;5;21mquery\u001B[39m(\u001B[38;5;28minput\u001B[39m, representation, resolvers\u001B[38;5;241m=\u001B[39m\u001B[38;5;28;01mNone\u001B[39;00m, get3d\u001B[38;5;241m=\u001B[39m\u001B[38;5;28;01mFalse\u001B[39;00m, tautomers\u001B[38;5;241m=\u001B[39m\u001B[38;5;28;01mFalse\u001B[39;00m, \u001B[38;5;241m*\u001B[39m\u001B[38;5;241m*\u001B[39mkwargs):\n\u001B[1;32m    150\u001B[0m \u001B[38;5;250m    \u001B[39m\u001B[38;5;124;03m\"\"\"Get all results for resolving input to the specified output representation.\u001B[39;00m\n\u001B[1;32m    151\u001B[0m \n\u001B[1;32m    152\u001B[0m \u001B[38;5;124;03m    :param string input: Chemical identifier to resolve\u001B[39;00m\n\u001B[0;32m   (...)\u001B[0m\n\u001B[1;32m    160\u001B[0m \u001B[38;5;124;03m    :raises ParseError: if CIR response is uninterpretable\u001B[39;00m\n\u001B[1;32m    161\u001B[0m \u001B[38;5;124;03m    \"\"\"\u001B[39;00m\n\u001B[0;32m--> 162\u001B[0m     tree \u001B[38;5;241m=\u001B[39m request(\u001B[38;5;28minput\u001B[39m, representation, resolvers, get3d, tautomers, \u001B[38;5;241m*\u001B[39m\u001B[38;5;241m*\u001B[39mkwargs)\n\u001B[1;32m    163\u001B[0m     results \u001B[38;5;241m=\u001B[39m []\n\u001B[1;32m    164\u001B[0m     \u001B[38;5;28;01mfor\u001B[39;00m data \u001B[38;5;129;01min\u001B[39;00m tree\u001B[38;5;241m.\u001B[39mfindall(\u001B[38;5;124m'\u001B[39m\u001B[38;5;124m.//data\u001B[39m\u001B[38;5;124m'\u001B[39m):\n",
      "File \u001B[0;32m/opt/anaconda3/lib/python3.12/site-packages/cirpy.py:95\u001B[0m, in \u001B[0;36mrequest\u001B[0;34m(input, representation, resolvers, get3d, tautomers, **kwargs)\u001B[0m\n\u001B[1;32m     93\u001B[0m url \u001B[38;5;241m=\u001B[39m construct_api_url(\u001B[38;5;28minput\u001B[39m, representation, resolvers, get3d, tautomers, \u001B[38;5;241m*\u001B[39m\u001B[38;5;241m*\u001B[39mkwargs)\n\u001B[1;32m     94\u001B[0m log\u001B[38;5;241m.\u001B[39mdebug(\u001B[38;5;124m'\u001B[39m\u001B[38;5;124mMaking request: \u001B[39m\u001B[38;5;132;01m%s\u001B[39;00m\u001B[38;5;124m'\u001B[39m, url)\n\u001B[0;32m---> 95\u001B[0m response \u001B[38;5;241m=\u001B[39m urlopen(url)\n\u001B[1;32m     96\u001B[0m \u001B[38;5;28;01mreturn\u001B[39;00m etree\u001B[38;5;241m.\u001B[39mparse(response)\u001B[38;5;241m.\u001B[39mgetroot()\n",
      "File \u001B[0;32m/opt/anaconda3/lib/python3.12/urllib/request.py:215\u001B[0m, in \u001B[0;36murlopen\u001B[0;34m(url, data, timeout, cafile, capath, cadefault, context)\u001B[0m\n\u001B[1;32m    213\u001B[0m \u001B[38;5;28;01melse\u001B[39;00m:\n\u001B[1;32m    214\u001B[0m     opener \u001B[38;5;241m=\u001B[39m _opener\n\u001B[0;32m--> 215\u001B[0m \u001B[38;5;28;01mreturn\u001B[39;00m opener\u001B[38;5;241m.\u001B[39mopen(url, data, timeout)\n",
      "File \u001B[0;32m/opt/anaconda3/lib/python3.12/urllib/request.py:521\u001B[0m, in \u001B[0;36mOpenerDirector.open\u001B[0;34m(self, fullurl, data, timeout)\u001B[0m\n\u001B[1;32m    519\u001B[0m \u001B[38;5;28;01mfor\u001B[39;00m processor \u001B[38;5;129;01min\u001B[39;00m \u001B[38;5;28mself\u001B[39m\u001B[38;5;241m.\u001B[39mprocess_response\u001B[38;5;241m.\u001B[39mget(protocol, []):\n\u001B[1;32m    520\u001B[0m     meth \u001B[38;5;241m=\u001B[39m \u001B[38;5;28mgetattr\u001B[39m(processor, meth_name)\n\u001B[0;32m--> 521\u001B[0m     response \u001B[38;5;241m=\u001B[39m meth(req, response)\n\u001B[1;32m    523\u001B[0m \u001B[38;5;28;01mreturn\u001B[39;00m response\n",
      "File \u001B[0;32m/opt/anaconda3/lib/python3.12/urllib/request.py:630\u001B[0m, in \u001B[0;36mHTTPErrorProcessor.http_response\u001B[0;34m(self, request, response)\u001B[0m\n\u001B[1;32m    627\u001B[0m \u001B[38;5;66;03m# According to RFC 2616, \"2xx\" code indicates that the client's\u001B[39;00m\n\u001B[1;32m    628\u001B[0m \u001B[38;5;66;03m# request was successfully received, understood, and accepted.\u001B[39;00m\n\u001B[1;32m    629\u001B[0m \u001B[38;5;28;01mif\u001B[39;00m \u001B[38;5;129;01mnot\u001B[39;00m (\u001B[38;5;241m200\u001B[39m \u001B[38;5;241m<\u001B[39m\u001B[38;5;241m=\u001B[39m code \u001B[38;5;241m<\u001B[39m \u001B[38;5;241m300\u001B[39m):\n\u001B[0;32m--> 630\u001B[0m     response \u001B[38;5;241m=\u001B[39m \u001B[38;5;28mself\u001B[39m\u001B[38;5;241m.\u001B[39mparent\u001B[38;5;241m.\u001B[39merror(\n\u001B[1;32m    631\u001B[0m         \u001B[38;5;124m'\u001B[39m\u001B[38;5;124mhttp\u001B[39m\u001B[38;5;124m'\u001B[39m, request, response, code, msg, hdrs)\n\u001B[1;32m    633\u001B[0m \u001B[38;5;28;01mreturn\u001B[39;00m response\n",
      "File \u001B[0;32m/opt/anaconda3/lib/python3.12/urllib/request.py:559\u001B[0m, in \u001B[0;36mOpenerDirector.error\u001B[0;34m(self, proto, *args)\u001B[0m\n\u001B[1;32m    557\u001B[0m \u001B[38;5;28;01mif\u001B[39;00m http_err:\n\u001B[1;32m    558\u001B[0m     args \u001B[38;5;241m=\u001B[39m (\u001B[38;5;28mdict\u001B[39m, \u001B[38;5;124m'\u001B[39m\u001B[38;5;124mdefault\u001B[39m\u001B[38;5;124m'\u001B[39m, \u001B[38;5;124m'\u001B[39m\u001B[38;5;124mhttp_error_default\u001B[39m\u001B[38;5;124m'\u001B[39m) \u001B[38;5;241m+\u001B[39m orig_args\n\u001B[0;32m--> 559\u001B[0m     \u001B[38;5;28;01mreturn\u001B[39;00m \u001B[38;5;28mself\u001B[39m\u001B[38;5;241m.\u001B[39m_call_chain(\u001B[38;5;241m*\u001B[39margs)\n",
      "File \u001B[0;32m/opt/anaconda3/lib/python3.12/urllib/request.py:492\u001B[0m, in \u001B[0;36mOpenerDirector._call_chain\u001B[0;34m(self, chain, kind, meth_name, *args)\u001B[0m\n\u001B[1;32m    490\u001B[0m \u001B[38;5;28;01mfor\u001B[39;00m handler \u001B[38;5;129;01min\u001B[39;00m handlers:\n\u001B[1;32m    491\u001B[0m     func \u001B[38;5;241m=\u001B[39m \u001B[38;5;28mgetattr\u001B[39m(handler, meth_name)\n\u001B[0;32m--> 492\u001B[0m     result \u001B[38;5;241m=\u001B[39m func(\u001B[38;5;241m*\u001B[39margs)\n\u001B[1;32m    493\u001B[0m     \u001B[38;5;28;01mif\u001B[39;00m result \u001B[38;5;129;01mis\u001B[39;00m \u001B[38;5;129;01mnot\u001B[39;00m \u001B[38;5;28;01mNone\u001B[39;00m:\n\u001B[1;32m    494\u001B[0m         \u001B[38;5;28;01mreturn\u001B[39;00m result\n",
      "File \u001B[0;32m/opt/anaconda3/lib/python3.12/urllib/request.py:639\u001B[0m, in \u001B[0;36mHTTPDefaultErrorHandler.http_error_default\u001B[0;34m(self, req, fp, code, msg, hdrs)\u001B[0m\n\u001B[1;32m    638\u001B[0m \u001B[38;5;28;01mdef\u001B[39;00m \u001B[38;5;21mhttp_error_default\u001B[39m(\u001B[38;5;28mself\u001B[39m, req, fp, code, msg, hdrs):\n\u001B[0;32m--> 639\u001B[0m     \u001B[38;5;28;01mraise\u001B[39;00m HTTPError(req\u001B[38;5;241m.\u001B[39mfull_url, code, msg, hdrs, fp)\n",
      "\u001B[0;31mHTTPError\u001B[0m: HTTP Error 504: Gateway Timeout"
     ]
    }
   ],
   "execution_count": 13
  },
  {
   "cell_type": "markdown",
   "metadata": {},
   "source": [
    "Also, if you want to know the name of one of the molecules, you can use CirPy as follows:"
   ]
  },
  {
   "metadata": {
    "ExecuteTime": {
     "end_time": "2025-03-01T05:02:09.884380Z",
     "start_time": "2025-03-01T04:53:52.043868Z"
    }
   },
   "cell_type": "code",
   "source": [
    "from rdkit import Chem\n",
    "from rdkit.Chem import Draw\n",
    "from IPython.display import display\n",
    "\n",
    "# Manually assigned SMILES for CAS: 18300-31-7\n",
    "smiles = 'CCN1C=CC(=CC=CC=CC2=CC=[N+](C3=CC=CC=C23)CC)C4=CC=CC=C41.[I-]'\n",
    "\n",
    "# Generate RDKit molecule\n",
    "mol = Chem.MolFromSmiles(smiles)\n",
    "\n",
    "# Draw and display the molecule\n",
    "img = Draw.MolToImage(mol, size=(300, 300))\n",
    "display(img)"
   ],
   "outputs": [
    {
     "data": {
      "text/plain": [
       "<PIL.PngImagePlugin.PngImageFile image mode=RGB size=300x300>"
      ],
      "image/png": "[encoded data removed]",
      "image/jpeg": "[encoded data removed]"
     },
     "metadata": {},
     "output_type": "display_data"
    }
   ],
   "execution_count": 6
  },
  {
   "cell_type": "code",
   "metadata": {
    "ExecuteTime": {
     "end_time": "2025-03-01T05:02:09.884997Z",
     "start_time": "2025-03-01T04:53:52.060388Z"
    }
   },
   "source": [
    "input = '905-96-4'\n",
    "cirpy.resolve( input, 'names')"
   ],
   "outputs": [
    {
     "data": {
      "text/plain": [
       "['3-ethyl-2-[(E,3Z)-3-(3-ethyl-1,3-benzoxazol-2-ylidene)prop-1-enyl]-1,3-benzoxazol-3-ium iodide',\n",
       " '3-ethyl-2-[3-(3-ethyl-1,3-benzoxazol-2-ylidene)prop-1-enyl]-1,3-benzoxazol-3-ium iodide',\n",
       " '905-96-4',\n",
       " '37069-75-3',\n",
       " '66796-36-9',\n",
       " '3-Ethyl-2-(3-(3-ethyl-3H-benzoxazol-2-ylidene)prop-1-enyl)benzoxazolium iodide',\n",
       " 'Benzoxazolium, 3-ethyl-2-(3-(3-ethyl-2(3H)-benzoxazolylidene)-1-propenyl)-, iodide',\n",
       " 'EINECS 212-996-6',\n",
       " 'NSC 96929',\n",
       " \"3,3'-Diethyl-2,2'-oxacarbocyanine iodide\",\n",
       " \"3,3'-Diethyl-2,2'-oxadicarbocyanine iodide\",\n",
       " \"3,3'-Diethyloxacarbocyanine iodide\",\n",
       " \"3,3'-Diethyloxycarbocyanine iodide\",\n",
       " 'Benzoxazolium, 3-ethyl-2-[3-(3-ethyl-2(3H)-benzoxazolylidene)-1-propenyl]-, iodide',\n",
       " 'Benzoxazolium, 3-ethyl-2-[3-(3-ethyl-2-benzoxazolinylidene)propenyl]-, iodide',\n",
       " 'G 1745',\n",
       " 'NSC96929']"
      ]
     },
     "execution_count": 7,
     "metadata": {},
     "output_type": "execute_result"
    }
   ],
   "execution_count": 7
  },
  {
   "cell_type": "markdown",
   "metadata": {},
   "source": [
    "## Plot the Absorption Spectra {-}"
   ]
  },
  {
   "cell_type": "markdown",
   "metadata": {},
   "source": [
    "If you need to plot the absorption spectra we can use the same functions that were developed for the Kinetics experiment:"
   ]
  },
  {
   "cell_type": "code",
   "metadata": {
    "ExecuteTime": {
     "end_time": "2025-03-01T05:02:09.886286Z",
     "start_time": "2025-03-01T04:53:52.379710Z"
    }
   },
   "source": [
    "# Define all dyes with CAS-based filenames\n",
    "dye0 = {'path': path, 'name': '977-96-8.csv', 'cas': '977-96-8', 'p': 3, 'hasO': 0, 'hasS': 0, 'label': 'N3'}\n",
    "dye1 = {'path': path, 'name': '605-91-4.csv', 'cas': '605-91-4', 'p': 5, 'hasO': 0, 'hasS': 0, 'label': 'C5'}\n",
    "dye2 = {'path': path, 'name': '4727-49-5.csv', 'cas': '4727-49-5', 'p': 7, 'hasO': 0, 'hasS': 0, 'label': 'N7'}\n",
    "dye3 = {'path': path, 'name': '14187-31-6.csv', 'cas': '14187-31-6', 'p': 7, 'hasO': 0, 'hasS': 0, 'label': 'C7'}\n",
    "dye4 = {'path': path, 'name': '4727-50-8.csv', 'cas': '4727-50-8', 'p': 9, 'hasO': 0, 'hasS': 0, 'label': 'C9'}\n",
    "dye5 = {'path': path, 'name': '18300-31-7.csv', 'cas': '18300-31-7', 'p': 11, 'hasO': 0, 'hasS': 0, 'label': 'N11'}\n",
    "dye6 = {'path': path, 'name': '2197-01-5.csv', 'cas': '2197-01-5', 'p': 3, 'hasO': 0, 'hasS': 1, 'label': 'S3'}\n",
    "dye7 = {'path': path, 'name': '905-97-5.csv', 'cas': '905-97-5', 'p': 5, 'hasO': 0, 'hasS': 1, 'label': 'S5'}\n",
    "dye8 = {'path': path, 'name': '514-73-8.csv', 'cas': '514-73-8', 'p': 7, 'hasO': 0, 'hasS': 1, 'label': 'S7'}\n",
    "dye9 = {'path': path, 'name': '3071-70-3.csv', 'cas': '3071-70-3', 'p': 9, 'hasO': 0, 'hasS': 1, 'label': 'S9'}\n",
    "dye10 = {'path': path, 'name': '905-96-4.csv', 'cas': '905-96-4', 'p': 5, 'hasO': 1, 'hasS': 0, 'label': 'O5'}\n",
    "dye11 = {'path': path, 'name': '14806-50-9.csv', 'cas': '14806-50-9', 'p': 7, 'hasO': 1, 'hasS': 0, 'label': 'O7'}\n",
    "\n",
    "# Collect all dyes into a list\n",
    "dyes = [dye0, dye1, dye2, dye3, dye4, dye5, dye6, dye7, dye8, dye9, dye10, dye11]\n",
    "\n",
    "# Plot the spectra\n",
    "plot_file_list(dyes)"
   ],
   "outputs": [
    {
     "data": {
      "text/plain": [
       "<Figure size 640x480 with 1 Axes>"
      ],
      "image/png": "[encoded data removed]"
     },
     "metadata": {},
     "output_type": "display_data"
    }
   ],
   "execution_count": 8
  },
  {
   "cell_type": "markdown",
   "metadata": {},
   "source": [
    "Note that the plotting command will take care of reading the files and saving the data of each file into the corresponding dictionary, with a key named 'data'. "
   ]
  },
  {
   "cell_type": "code",
   "metadata": {
    "ExecuteTime": {
     "end_time": "2025-03-01T05:02:09.886441Z",
     "start_time": "2025-03-01T04:53:52.562121Z"
    }
   },
   "source": [
    "dye0['data'].head()"
   ],
   "outputs": [
    {
     "data": {
      "text/plain": [
       "   wavelength  absorbance\n",
       "0  799.995850    0.007903\n",
       "1  794.999695    0.007916\n",
       "2  789.993469    0.007818\n",
       "3  785.012329    0.007338\n",
       "4  779.986572    0.006652"
      ],
      "text/html": [
       "<div>\n",
       "<style scoped>\n",
       "    .dataframe tbody tr th:only-of-type {\n",
       "        vertical-align: middle;\n",
       "    }\n",
       "\n",
       "    .dataframe tbody tr th {\n",
       "        vertical-align: top;\n",
       "    }\n",
       "\n",
       "    .dataframe thead th {\n",
       "        text-align: right;\n",
       "    }\n",
       "</style>\n",
       "<table border=\"1\" class=\"dataframe\">\n",
       "  <thead>\n",
       "    <tr style=\"text-align: right;\">\n",
       "      <th></th>\n",
       "      <th>wavelength</th>\n",
       "      <th>absorbance</th>\n",
       "    </tr>\n",
       "  </thead>\n",
       "  <tbody>\n",
       "    <tr>\n",
       "      <th>0</th>\n",
       "      <td>799.995850</td>\n",
       "      <td>0.007903</td>\n",
       "    </tr>\n",
       "    <tr>\n",
       "      <th>1</th>\n",
       "      <td>794.999695</td>\n",
       "      <td>0.007916</td>\n",
       "    </tr>\n",
       "    <tr>\n",
       "      <th>2</th>\n",
       "      <td>789.993469</td>\n",
       "      <td>0.007818</td>\n",
       "    </tr>\n",
       "    <tr>\n",
       "      <th>3</th>\n",
       "      <td>785.012329</td>\n",
       "      <td>0.007338</td>\n",
       "    </tr>\n",
       "    <tr>\n",
       "      <th>4</th>\n",
       "      <td>779.986572</td>\n",
       "      <td>0.006652</td>\n",
       "    </tr>\n",
       "  </tbody>\n",
       "</table>\n",
       "</div>"
      ]
     },
     "execution_count": 9,
     "metadata": {},
     "output_type": "execute_result"
    }
   ],
   "execution_count": 9
  },
  {
   "cell_type": "markdown",
   "metadata": {},
   "source": [
    "In order to find the position of the peak, we can use the `argmax()` methods of the `DataFrame` object. This method finds the maximum value in a column and returns its index (NOTE: it does not return the maximum value but its row in the table). Knowing the row, we can look the value of the wavelength at that row to get the quantity we need."
   ]
  },
  {
   "cell_type": "code",
   "metadata": {
    "ExecuteTime": {
     "end_time": "2025-03-01T05:02:09.887308Z",
     "start_time": "2025-03-01T04:53:52.681449Z"
    }
   },
   "source": [
    "dye0['lambda_exp'] = dye0['data'].loc[dye0['data']['absorbance'].idxmax(),'wavelength']\n",
    "print(dye0['lambda_exp'])"
   ],
   "outputs": [
    {
     "name": "stdout",
     "output_type": "stream",
     "text": [
      "420.0186462\n"
     ]
    }
   ],
   "execution_count": 10
  },
  {
   "cell_type": "markdown",
   "metadata": {},
   "source": [
    "We can automate this for all the dyes using a `for` loop:"
   ]
  },
  {
   "cell_type": "code",
   "metadata": {
    "ExecuteTime": {
     "end_time": "2025-03-01T05:02:09.887452Z",
     "start_time": "2025-03-01T04:53:52.713100Z"
    }
   },
   "source": [
    "for dye in dyes:\n",
    "    dye['lambda_exp'] = dye['data']['wavelength'].iloc[dye['data']['absorbance'].argmax()]\n",
    "    print(dye['label'],dye['lambda_exp'])"
   ],
   "outputs": [
    {
     "name": "stdout",
     "output_type": "stream",
     "text": [
      "N3 420.0186462\n",
      "C5 604.9827271\n",
      "N7 705.0083008\n",
      "C7 705.0083008\n",
      "C9 705.0083008\n",
      "N11 814.9932251\n",
      "S3 524.9977417\n",
      "S5 555.0151978\n",
      "S7 649.9876099\n",
      "S9 684.9921875\n",
      "O5 479.9957886\n",
      "O7 579.9848022\n"
     ]
    }
   ],
   "execution_count": 11
  },
  {
   "cell_type": "markdown",
   "metadata": {},
   "source": [
    "## Fit the Absorption Wavelengths {-}"
   ]
  },
  {
   "cell_type": "markdown",
   "metadata": {},
   "source": [
    "In the following we will assume that you collected the values of the absorption wavelength from the instrument, instead of using the Python commands in the previous section. If, instead, you used the notebook to read the spectra and compute `lambda_exp`, you don't need to redefine a new set of dictionaries. "
   ]
  },
  {
   "cell_type": "markdown",
   "metadata": {},
   "source": [
    "Let's start by defining a dictionary for some of the molecules in our experiments. Apart from the absorptionn wavelength, these dictionaries will contain some basic information about your molecule (`hasO` and `hasS` refer to the presence of oxygen or sulfur atoms), but you can (should) add any additional characteristic of the molecule that you think may be involved with the absorption wavelength. If you add more features, make sure to add them to each dye and pay attention to avoid typos."
   ]
  },
  {
   "cell_type": "code",
   "metadata": {
    "ExecuteTime": {
     "end_time": "2025-03-01T05:02:09.898057Z",
     "start_time": "2025-03-01T04:53:52.753350Z"
    }
   },
   "source": [
    "\n",
    "dye0 = { 'cas': '977-96-8', 'p': 3, 'hasO': 0, 'hasS': 0, 'lambda_exp': 420.0186462}\n",
    "dye1 = { 'cas': '605-91-4', 'p': 5, 'hasO': 0, 'hasS': 0, 'lambda_exp': 604.9827271}\n",
    "dye2 = { 'cas': '4727-49-5', 'p': 7, 'hasO': 0, 'hasS': 0, 'lambda_exp': 705.0083008}\n",
    "dye3 = { 'cas': '14187-31-6', 'p': 7, 'hasO': 0, 'hasS': 0, 'lambda_exp': 705.0083008}\n",
    "dye4 = { 'cas': '4727-50-8', 'p': 9, 'hasO': 0, 'hasS': 0, 'lambda_exp': 705.0083008}\n",
    "dye5 = { 'cas': '18300-31-7', 'p': 11, 'hasO': 0, 'hasS': 0, 'lambda_exp': 814.9932251}\n",
    "dye6 = { 'cas': '2197-01-5', 'p': 3, 'hasO': 0, 'hasS': 1, 'lambda_exp': 524.9977417}\n",
    "dye7 = { 'cas': '905-97-5', 'p': 5, 'hasO': 0, 'hasS': 1, 'lambda_exp': 555.0151978}\n",
    "dye8 = { 'cas': '514-73-8', 'p': 7, 'hasO': 0, 'hasS': 1, 'lambda_exp': 649.9876099}\n",
    "dye9 = { 'cas': '3071-70-3', 'p': 9, 'hasO': 0, 'hasS': 1, 'lambda_exp': 684.9921875}\n",
    "dye10 = { 'cas': '905-96-4', 'p': 5, 'hasO': 1, 'hasS': 0, 'lambda_exp': 479.9957886}\n",
    "dye11 = { 'cas': '14806-50-9', 'p': 7, 'hasO': 1, 'hasS': 0, 'lambda_exp': 579.9848022}"
   ],
   "outputs": [],
   "execution_count": 12
  },
  {
   "cell_type": "markdown",
   "metadata": {},
   "source": [
    "As seen in previous notebooks, we can convert a list of dictionaries into a `Pandas.DataFrame`, which will be convenient for math operations and for producing tables."
   ]
  },
  {
   "cell_type": "code",
   "metadata": {
    "ExecuteTime": {
     "end_time": "2025-03-01T05:02:09.898639Z",
     "start_time": "2025-03-01T04:53:52.783350Z"
    }
   },
   "source": [
    "dyes = [dye0, dye1, dye2, dye3, dye4, dye5, dye6, dye7, dye8, dye9, dye10, dye11]\n",
    "dyes_data = pd.DataFrame(dyes)"
   ],
   "outputs": [],
   "execution_count": 13
  },
  {
   "cell_type": "code",
   "metadata": {
    "ExecuteTime": {
     "end_time": "2025-03-01T05:02:09.899649Z",
     "start_time": "2025-03-01T04:53:52.792112Z"
    }
   },
   "source": [
    "print(dyes_data.to_markdown())"
   ],
   "outputs": [
    {
     "name": "stdout",
     "output_type": "stream",
     "text": [
      "|    | cas        |   p |   hasO |   hasS |   lambda_exp |\n",
      "|---:|:-----------|----:|-------:|-------:|-------------:|\n",
      "|  0 | 977-96-8   |   3 |      0 |      0 |      420.019 |\n",
      "|  1 | 605-91-4   |   5 |      0 |      0 |      604.983 |\n",
      "|  2 | 4727-49-5  |   7 |      0 |      0 |      705.008 |\n",
      "|  3 | 14187-31-6 |   7 |      0 |      0 |      705.008 |\n",
      "|  4 | 4727-50-8  |   9 |      0 |      0 |      705.008 |\n",
      "|  5 | 18300-31-7 |  11 |      0 |      0 |      814.993 |\n",
      "|  6 | 2197-01-5  |   3 |      0 |      1 |      524.998 |\n",
      "|  7 | 905-97-5   |   5 |      0 |      1 |      555.015 |\n",
      "|  8 | 514-73-8   |   7 |      0 |      1 |      649.988 |\n",
      "|  9 | 3071-70-3  |   9 |      0 |      1 |      684.992 |\n",
      "| 10 | 905-96-4   |   5 |      1 |      0 |      479.996 |\n",
      "| 11 | 14806-50-9 |   7 |      1 |      0 |      579.985 |\n"
     ]
    }
   ],
   "execution_count": 14
  },
  {
   "cell_type": "markdown",
   "metadata": {},
   "source": [
    "## Python Functions {-}"
   ]
  },
  {
   "cell_type": "markdown",
   "metadata": {},
   "source": [
    "Here we introduce the Python way to define functions. We will use the following function to compute the relation between the absorption wavelength and the conjugation length of the dyes. "
   ]
  },
  {
   "cell_type": "code",
   "metadata": {
    "ExecuteTime": {
     "end_time": "2025-03-01T05:02:09.906975Z",
     "start_time": "2025-03-01T04:53:52.812140Z"
    }
   },
   "source": [
    "def lambda_FE(p,alpha=0.):\n",
    "    \"\"\"\n",
    "    Function to compute the absorption wavelenght (in nm)\n",
    "    as a function of the number of carbon atoms in the conjugated chain\n",
    "    and an optional parameter alpha that accounts for some wiggle room\n",
    "    due to the aromatic rings\n",
    "    \"\"\"\n",
    "    return 63.7*(p+3+alpha)**2/(p+4)"
   ],
   "outputs": [],
   "execution_count": 15
  },
  {
   "attachments": {},
   "cell_type": "markdown",
   "metadata": {},
   "source": [
    "Given the function above, we can compute a new column of the dataframe with the predicted lambdas in one command"
   ]
  },
  {
   "cell_type": "code",
   "metadata": {
    "ExecuteTime": {
     "end_time": "2025-03-01T05:02:09.907232Z",
     "start_time": "2025-03-01T04:53:52.889471Z"
    }
   },
   "source": [
    "dyes_data['lambda_FE']=lambda_FE(dyes_data['p'])\n",
    "dyes_data"
   ],
   "outputs": [
    {
     "data": {
      "text/plain": [
       "           cas   p  hasO  hasS  lambda_exp   lambda_FE\n",
       "0     977-96-8   3     0     0  420.018646  327.600000\n",
       "1     605-91-4   5     0     0  604.982727  452.977778\n",
       "2    4727-49-5   7     0     0  705.008301  579.090909\n",
       "3   14187-31-6   7     0     0  705.008301  579.090909\n",
       "4    4727-50-8   9     0     0  705.008301  705.600000\n",
       "5   18300-31-7  11     0     0  814.993225  832.346667\n",
       "6    2197-01-5   3     0     1  524.997742  327.600000\n",
       "7     905-97-5   5     0     1  555.015198  452.977778\n",
       "8     514-73-8   7     0     1  649.987610  579.090909\n",
       "9    3071-70-3   9     0     1  684.992188  705.600000\n",
       "10    905-96-4   5     1     0  479.995789  452.977778\n",
       "11  14806-50-9   7     1     0  579.984802  579.090909"
      ],
      "text/html": [
       "<div>\n",
       "<style scoped>\n",
       "    .dataframe tbody tr th:only-of-type {\n",
       "        vertical-align: middle;\n",
       "    }\n",
       "\n",
       "    .dataframe tbody tr th {\n",
       "        vertical-align: top;\n",
       "    }\n",
       "\n",
       "    .dataframe thead th {\n",
       "        text-align: right;\n",
       "    }\n",
       "</style>\n",
       "<table border=\"1\" class=\"dataframe\">\n",
       "  <thead>\n",
       "    <tr style=\"text-align: right;\">\n",
       "      <th></th>\n",
       "      <th>cas</th>\n",
       "      <th>p</th>\n",
       "      <th>hasO</th>\n",
       "      <th>hasS</th>\n",
       "      <th>lambda_exp</th>\n",
       "      <th>lambda_FE</th>\n",
       "    </tr>\n",
       "  </thead>\n",
       "  <tbody>\n",
       "    <tr>\n",
       "      <th>0</th>\n",
       "      <td>977-96-8</td>\n",
       "      <td>3</td>\n",
       "      <td>0</td>\n",
       "      <td>0</td>\n",
       "      <td>420.018646</td>\n",
       "      <td>327.600000</td>\n",
       "    </tr>\n",
       "    <tr>\n",
       "      <th>1</th>\n",
       "      <td>605-91-4</td>\n",
       "      <td>5</td>\n",
       "      <td>0</td>\n",
       "      <td>0</td>\n",
       "      <td>604.982727</td>\n",
       "      <td>452.977778</td>\n",
       "    </tr>\n",
       "    <tr>\n",
       "      <th>2</th>\n",
       "      <td>4727-49-5</td>\n",
       "      <td>7</td>\n",
       "      <td>0</td>\n",
       "      <td>0</td>\n",
       "      <td>705.008301</td>\n",
       "      <td>579.090909</td>\n",
       "    </tr>\n",
       "    <tr>\n",
       "      <th>3</th>\n",
       "      <td>14187-31-6</td>\n",
       "      <td>7</td>\n",
       "      <td>0</td>\n",
       "      <td>0</td>\n",
       "      <td>705.008301</td>\n",
       "      <td>579.090909</td>\n",
       "    </tr>\n",
       "    <tr>\n",
       "      <th>4</th>\n",
       "      <td>4727-50-8</td>\n",
       "      <td>9</td>\n",
       "      <td>0</td>\n",
       "      <td>0</td>\n",
       "      <td>705.008301</td>\n",
       "      <td>705.600000</td>\n",
       "    </tr>\n",
       "    <tr>\n",
       "      <th>5</th>\n",
       "      <td>18300-31-7</td>\n",
       "      <td>11</td>\n",
       "      <td>0</td>\n",
       "      <td>0</td>\n",
       "      <td>814.993225</td>\n",
       "      <td>832.346667</td>\n",
       "    </tr>\n",
       "    <tr>\n",
       "      <th>6</th>\n",
       "      <td>2197-01-5</td>\n",
       "      <td>3</td>\n",
       "      <td>0</td>\n",
       "      <td>1</td>\n",
       "      <td>524.997742</td>\n",
       "      <td>327.600000</td>\n",
       "    </tr>\n",
       "    <tr>\n",
       "      <th>7</th>\n",
       "      <td>905-97-5</td>\n",
       "      <td>5</td>\n",
       "      <td>0</td>\n",
       "      <td>1</td>\n",
       "      <td>555.015198</td>\n",
       "      <td>452.977778</td>\n",
       "    </tr>\n",
       "    <tr>\n",
       "      <th>8</th>\n",
       "      <td>514-73-8</td>\n",
       "      <td>7</td>\n",
       "      <td>0</td>\n",
       "      <td>1</td>\n",
       "      <td>649.987610</td>\n",
       "      <td>579.090909</td>\n",
       "    </tr>\n",
       "    <tr>\n",
       "      <th>9</th>\n",
       "      <td>3071-70-3</td>\n",
       "      <td>9</td>\n",
       "      <td>0</td>\n",
       "      <td>1</td>\n",
       "      <td>684.992188</td>\n",
       "      <td>705.600000</td>\n",
       "    </tr>\n",
       "    <tr>\n",
       "      <th>10</th>\n",
       "      <td>905-96-4</td>\n",
       "      <td>5</td>\n",
       "      <td>1</td>\n",
       "      <td>0</td>\n",
       "      <td>479.995789</td>\n",
       "      <td>452.977778</td>\n",
       "    </tr>\n",
       "    <tr>\n",
       "      <th>11</th>\n",
       "      <td>14806-50-9</td>\n",
       "      <td>7</td>\n",
       "      <td>1</td>\n",
       "      <td>0</td>\n",
       "      <td>579.984802</td>\n",
       "      <td>579.090909</td>\n",
       "    </tr>\n",
       "  </tbody>\n",
       "</table>\n",
       "</div>"
      ]
     },
     "execution_count": 16,
     "metadata": {},
     "output_type": "execute_result"
    }
   ],
   "execution_count": 16
  },
  {
   "attachments": {},
   "cell_type": "markdown",
   "metadata": {},
   "source": [
    "We can visualize the results as usual"
   ]
  },
  {
   "cell_type": "code",
   "metadata": {
    "ExecuteTime": {
     "end_time": "2025-03-01T05:02:09.911912Z",
     "start_time": "2025-03-01T04:53:52.924107Z"
    }
   },
   "source": [
    "plt.scatter(dyes_data['p'],dyes_data['lambda_exp'])\n",
    "plt.plot(dyes_data['p'],dyes_data['lambda_FE'],color='red')\n",
    "plt.xlabel('p')\n",
    "plt.ylabel('wavelength (nm)')\n",
    "plt.show()"
   ],
   "outputs": [
    {
     "data": {
      "text/plain": [
       "<Figure size 640x480 with 1 Axes>"
      ],
      "image/png": "[encoded data removed]"
     },
     "metadata": {},
     "output_type": "display_data"
    }
   ],
   "execution_count": 17
  },
  {
   "attachments": {},
   "cell_type": "markdown",
   "metadata": {},
   "source": [
    "Given our experimental and predicted values of lambda, we can compute the sum of squares as follows:"
   ]
  },
  {
   "cell_type": "code",
   "metadata": {
    "ExecuteTime": {
     "end_time": "2025-03-01T05:02:09.915660Z",
     "start_time": "2025-03-01T04:53:52.995185Z"
    }
   },
   "source": [
    "TSS=np.sum((dyes_data['lambda_exp']-dyes_data['lambda_exp'].mean())**2)\n",
    "print(\"The total sum of squares is {:10.4f} \".format(TSS))"
   ],
   "outputs": [
    {
     "name": "stdout",
     "output_type": "stream",
     "text": [
      "The total sum of squares is 139485.3966 \n"
     ]
    }
   ],
   "execution_count": 18
  },
  {
   "cell_type": "code",
   "metadata": {
    "ExecuteTime": {
     "end_time": "2025-03-01T05:02:09.919532Z",
     "start_time": "2025-03-01T04:53:53.026621Z"
    }
   },
   "source": [
    "RSS=np.sum((dyes_data['lambda_exp']-dyes_data['lambda_FE'])**2)\n",
    "print(\"The residual sum of squares is {:10.4f} \".format(RSS))"
   ],
   "outputs": [
    {
     "name": "stdout",
     "output_type": "stream",
     "text": [
      "The residual sum of squares is 119217.8815 \n"
     ]
    }
   ],
   "execution_count": 19
  },
  {
   "cell_type": "code",
   "metadata": {
    "ExecuteTime": {
     "end_time": "2025-03-01T05:02:09.919731Z",
     "start_time": "2025-03-01T04:53:53.061755Z"
    }
   },
   "source": [
    "R2=1-(RSS/TSS)\n",
    "print(\"The coefficient of determination R2 for the particle in a box model is {:5.4f} \".format(R2))"
   ],
   "outputs": [
    {
     "name": "stdout",
     "output_type": "stream",
     "text": [
      "The coefficient of determination R2 for the particle in a box model is 0.1453 \n"
     ]
    }
   ],
   "execution_count": 20
  },
  {
   "cell_type": "markdown",
   "metadata": {},
   "source": [
    "## Finding the Value of Alpha {-}"
   ]
  },
  {
   "cell_type": "markdown",
   "metadata": {},
   "source": [
    "There are a few different ways we can find the value of $\\alpha$ that best reproduces the experimental absorption wavelengths. \n",
    "\n",
    "* Given the experimental values of $\\lambda$, we could compute the optimal alpha for each individual molecule and than take the average over all the molecules.\n",
    "* More accurately, we could generate a range of values of $\\alpha$ and for each of them compute the $RSS$. The best fit is the one for which the $RSS$ is the lowest. \n",
    "* We could linearize the dependence on $p$ in the formula above (i.e., by taking the limit of the formula as $p$ becomes large) and use linear regression to fit the experimental data. From the slope and/or intercept we could estimate $\\alpha$. \n",
    "\n",
    "Let's try the first approach (but if you want to learn python, try one of the other two as well)."
   ]
  },
  {
   "cell_type": "markdown",
   "metadata": {},
   "source": [
    "From the formula of $\\lambda$ as a function of $\\alpha$, we can derive a formula that, given $\\lambda$, calculates $\\alpha$:\n",
    "\n",
    "$$\\lambda = 63.7\\frac{(p+3+\\alpha)^2}{(p+4)} \\rightarrow \\alpha = \\sqrt{\\frac{\\lambda(p+4)}{63.7}}-p-3$$"
   ]
  },
  {
   "cell_type": "code",
   "metadata": {
    "ExecuteTime": {
     "end_time": "2025-03-01T05:02:09.923030Z",
     "start_time": "2025-03-01T04:53:53.092614Z"
    }
   },
   "source": [
    "dyes_data['alpha']=np.sqrt(dyes_data['lambda_exp']*(dyes_data['p']+4)/63.7)-dyes_data['p']-3"
   ],
   "outputs": [],
   "execution_count": 21
  },
  {
   "cell_type": "code",
   "metadata": {
    "ExecuteTime": {
     "end_time": "2025-03-01T05:02:09.923392Z",
     "start_time": "2025-03-01T04:53:53.112493Z"
    }
   },
   "source": "dyes_data.head()  # Prints all rows\n",
   "outputs": [
    {
     "data": {
      "text/plain": [
       "          cas  p  hasO  hasS  lambda_exp   lambda_FE     alpha\n",
       "0    977-96-8  3     0     0  420.018646  327.600000  0.793813\n",
       "1    605-91-4  5     0     0  604.982727  452.977778  1.245343\n",
       "2   4727-49-5  7     0     0  705.008301  579.090909  1.033765\n",
       "3  14187-31-6  7     0     0  705.008301  579.090909  1.033765\n",
       "4   4727-50-8  9     0     0  705.008301  705.600000 -0.005033"
      ],
      "text/html": [
       "<div>\n",
       "<style scoped>\n",
       "    .dataframe tbody tr th:only-of-type {\n",
       "        vertical-align: middle;\n",
       "    }\n",
       "\n",
       "    .dataframe tbody tr th {\n",
       "        vertical-align: top;\n",
       "    }\n",
       "\n",
       "    .dataframe thead th {\n",
       "        text-align: right;\n",
       "    }\n",
       "</style>\n",
       "<table border=\"1\" class=\"dataframe\">\n",
       "  <thead>\n",
       "    <tr style=\"text-align: right;\">\n",
       "      <th></th>\n",
       "      <th>cas</th>\n",
       "      <th>p</th>\n",
       "      <th>hasO</th>\n",
       "      <th>hasS</th>\n",
       "      <th>lambda_exp</th>\n",
       "      <th>lambda_FE</th>\n",
       "      <th>alpha</th>\n",
       "    </tr>\n",
       "  </thead>\n",
       "  <tbody>\n",
       "    <tr>\n",
       "      <th>0</th>\n",
       "      <td>977-96-8</td>\n",
       "      <td>3</td>\n",
       "      <td>0</td>\n",
       "      <td>0</td>\n",
       "      <td>420.018646</td>\n",
       "      <td>327.600000</td>\n",
       "      <td>0.793813</td>\n",
       "    </tr>\n",
       "    <tr>\n",
       "      <th>1</th>\n",
       "      <td>605-91-4</td>\n",
       "      <td>5</td>\n",
       "      <td>0</td>\n",
       "      <td>0</td>\n",
       "      <td>604.982727</td>\n",
       "      <td>452.977778</td>\n",
       "      <td>1.245343</td>\n",
       "    </tr>\n",
       "    <tr>\n",
       "      <th>2</th>\n",
       "      <td>4727-49-5</td>\n",
       "      <td>7</td>\n",
       "      <td>0</td>\n",
       "      <td>0</td>\n",
       "      <td>705.008301</td>\n",
       "      <td>579.090909</td>\n",
       "      <td>1.033765</td>\n",
       "    </tr>\n",
       "    <tr>\n",
       "      <th>3</th>\n",
       "      <td>14187-31-6</td>\n",
       "      <td>7</td>\n",
       "      <td>0</td>\n",
       "      <td>0</td>\n",
       "      <td>705.008301</td>\n",
       "      <td>579.090909</td>\n",
       "      <td>1.033765</td>\n",
       "    </tr>\n",
       "    <tr>\n",
       "      <th>4</th>\n",
       "      <td>4727-50-8</td>\n",
       "      <td>9</td>\n",
       "      <td>0</td>\n",
       "      <td>0</td>\n",
       "      <td>705.008301</td>\n",
       "      <td>705.600000</td>\n",
       "      <td>-0.005033</td>\n",
       "    </tr>\n",
       "  </tbody>\n",
       "</table>\n",
       "</div>"
      ]
     },
     "execution_count": 22,
     "metadata": {},
     "output_type": "execute_result"
    }
   ],
   "execution_count": 22
  },
  {
   "cell_type": "markdown",
   "metadata": {},
   "source": [
    "We can now approximate the optimal value of $\\alpha$ to be the average over the molecules we have, and recompute the model's prediction"
   ]
  },
  {
   "cell_type": "code",
   "metadata": {
    "ExecuteTime": {
     "end_time": "2025-03-01T05:02:09.924481Z",
     "start_time": "2025-03-01T04:53:53.148062Z"
    }
   },
   "source": [
    "alpha_average = dyes_data['alpha'].mean()\n",
    "dyes_data['lambda_alpha']=lambda_FE(dyes_data['p'],alpha_average)"
   ],
   "outputs": [],
   "execution_count": 23
  },
  {
   "cell_type": "markdown",
   "metadata": {},
   "source": [
    "and visualize the results (NOTE: make sure to add titles and axis labels to your plots)"
   ]
  },
  {
   "cell_type": "code",
   "metadata": {
    "ExecuteTime": {
     "end_time": "2025-03-01T05:02:09.927061Z",
     "start_time": "2025-03-01T04:53:53.177687Z"
    }
   },
   "source": [
    "plt.scatter(dyes_data['p'],dyes_data['lambda_exp'],label='experiment')\n",
    "plt.plot(dyes_data['p'],dyes_data['lambda_FE'],color='red',label='particle in a box')\n",
    "plt.plot(dyes_data['p'],dyes_data['lambda_alpha'],color='green',label='particle in a box + alpha')\n",
    "plt.xlabel('p')\n",
    "plt.ylabel('wavelength (nm)')\n",
    "plt.show()"
   ],
   "outputs": [
    {
     "data": {
      "text/plain": [
       "<Figure size 640x480 with 1 Axes>"
      ],
      "image/png": "[encoded data removed]"
     },
     "metadata": {},
     "output_type": "display_data"
    }
   ],
   "execution_count": 24
  },
  {
   "cell_type": "markdown",
   "metadata": {},
   "source": [
    "## Quantum Mechanical Calculations {-}"
   ]
  },
  {
   "cell_type": "markdown",
   "metadata": {},
   "source": [
    "Most chemistry applications of quantum mechanics (a.k.a. quantum chemistry) relies on a powerful commercial software called Gaussian. This code was first developed by a forefather of quantum chemistry and Nobel prize winner John Pople. However, Gaussian is a Fortran 77 code that requires an expensive license to run. For our applications we can achieve the same results using Python-based codes, at the expense of some computing time. In the following we will be using [PySCF](https://pyscf.org/index.html) for our quantum chemistry calculations, so we will need to install it on our Colab instance."
   ]
  },
  {
   "cell_type": "code",
   "metadata": {
    "ExecuteTime": {
     "end_time": "2025-03-01T05:02:09.930263Z",
     "start_time": "2025-03-01T04:53:53.243383Z"
    }
   },
   "source": [
    "!pip install pyscf\n",
    "!pip install pyscf[geomopt]\n",
    "from pyscf import gto, scf, lo, tools\n",
    "from pyscf.geomopt.berny_solver import optimize\n",
    "#\n",
    "from scipy.constants import physical_constants # we will need these for units conversion"
   ],
   "outputs": [
    {
     "name": "stdout",
     "output_type": "stream",
     "text": [
      "Requirement already satisfied: pyscf in /opt/anaconda3/lib/python3.12/site-packages (2.8.0)\r\n",
      "Requirement already satisfied: numpy!=1.16,!=1.17,>=1.13 in /opt/anaconda3/lib/python3.12/site-packages (from pyscf) (1.26.4)\r\n",
      "Requirement already satisfied: scipy>=1.6.0 in /opt/anaconda3/lib/python3.12/site-packages (from pyscf) (1.15.1)\r\n",
      "Requirement already satisfied: h5py>=2.7 in /opt/anaconda3/lib/python3.12/site-packages (from pyscf) (3.11.0)\r\n",
      "Requirement already satisfied: setuptools in /opt/anaconda3/lib/python3.12/site-packages (from pyscf) (75.1.0)\r\n",
      "zsh:1: no matches found: pyscf[geomopt]\r\n"
     ]
    }
   ],
   "execution_count": 25
  },
  {
   "cell_type": "markdown",
   "metadata": {},
   "source": [
    "Let's first go through the main steps of a QC calculation on a simple small molecule, i.e. methane. Before we run any simulation, we need to get some initial guess for the positions of the atoms of our molecule. Luckly we can use `cirpy` to convert our molecule into a `xyz` format, that contains the number of atoms, a comment line, followed by the element and Cartesian coordinates of all the atoms in the molecule. "
   ]
  },
  {
   "cell_type": "code",
   "metadata": {
    "ExecuteTime": {
     "end_time": "2025-03-01T05:02:09.931009Z",
     "start_time": "2025-03-01T04:53:54.346589Z"
    }
   },
   "source": [
    "print(cirpy.resolve('methane','xyz'))"
   ],
   "outputs": [
    {
     "name": "stdout",
     "output_type": "stream",
     "text": [
      "5\n",
      "CH4\n",
      "C    0.0000   -0.0000    0.0000\n",
      "H    0.0000   -0.8900   -0.6293\n",
      "H    0.0000    0.8900   -0.6293\n",
      "H   -0.8900   -0.0000    0.6293\n",
      "H    0.8900   -0.0000    0.6293\n",
      "\n"
     ]
    }
   ],
   "execution_count": 26
  },
  {
   "cell_type": "markdown",
   "metadata": {},
   "source": [
    "For our calculation we only need the atoms information, so we will use some `str`+`list` methods to remove the first two lines from the `xyz` format. "
   ]
  },
  {
   "cell_type": "code",
   "metadata": {
    "ExecuteTime": {
     "end_time": "2025-03-01T05:02:09.933715Z",
     "start_time": "2025-03-01T04:53:54.674325Z"
    }
   },
   "source": [
    "xyz = ''.join(string+'\\n' for string in cirpy.resolve('methane','xyz').split('\\n')[2:])\n",
    "print(xyz)"
   ],
   "outputs": [
    {
     "name": "stdout",
     "output_type": "stream",
     "text": [
      "C    0.0000   -0.0000    0.0000\n",
      "H    0.0000   -0.8900   -0.6293\n",
      "H    0.0000    0.8900   -0.6293\n",
      "H   -0.8900   -0.0000    0.6293\n",
      "H    0.8900   -0.0000    0.6293\n",
      "\n",
      "\n"
     ]
    }
   ],
   "execution_count": 27
  },
  {
   "cell_type": "markdown",
   "metadata": {},
   "source": [
    "We can now create a `Mole` object in PySCF and setup the QC method to use. Part of the accuracy of your calculation will depend on the basis set adopted. The larger the basis set is, the more expensive and (hopefully) more accurate the calculation will be. The available basis sets are listed [here](https://pyscf.org/_modules/pyscf/gto/basis.html). Common choices for small organic molecules go include: `631g`, `631+g*`, `6311g`, and `6311++g**`.  "
   ]
  },
  {
   "cell_type": "code",
   "metadata": {
    "ExecuteTime": {
     "end_time": "2025-03-01T05:02:09.936990Z",
     "start_time": "2025-03-01T04:53:54.995269Z"
    }
   },
   "source": [
    "mol = gto.M(atom=xyz, basis='631g')"
   ],
   "outputs": [],
   "execution_count": 28
  },
  {
   "cell_type": "markdown",
   "metadata": {},
   "source": [
    "There are a few different methods to choose from: Hartree-Fock ([HF](https://pyscf.org/user/scf.html), cheaper, but not very accurate) and Kohn-Sham Density Functional Theory (DFT, or [KS](https://pyscf.org/user/dft.html)) are the most popular options for organic molecules. There are many different flavors of DFT, each with its own acronym. A list of options is available [here](https://github.com/pyscf/pyscf/blob/master/pyscf/dft/libxc.py), searching for XC_ALIAS. "
   ]
  },
  {
   "cell_type": "code",
   "metadata": {
    "ExecuteTime": {
     "end_time": "2025-03-01T05:02:09.937201Z",
     "start_time": "2025-03-01T04:53:55.062067Z"
    }
   },
   "source": [
    "mf = mol.KS()\n",
    "mf.xc = 'b3lyp' # B3LYP functional, a pretty common choice for organic molecules"
   ],
   "outputs": [],
   "execution_count": 29
  },
  {
   "cell_type": "markdown",
   "metadata": {},
   "source": [
    "The first step in a QC calculation is to optimize (or relax) the positions of the atoms (remember we started from a guess that may be wrong or not in agreement with the QM level of theory we are using). "
   ]
  },
  {
   "cell_type": "code",
   "metadata": {
    "ExecuteTime": {
     "end_time": "2025-03-01T05:02:09.937312Z",
     "start_time": "2025-03-01T04:53:55.123170Z"
    }
   },
   "source": [
    "mol_eq = optimize(mf, maxsteps=100)\n",
    "print(mol_eq.tostring())"
   ],
   "outputs": [
    {
     "name": "stdout",
     "output_type": "stream",
     "text": [
      "\n",
      "Geometry optimization cycle 1\n",
      "Cartesian coordinates (Angstrom)\n",
      " Atom        New coordinates             dX        dY        dZ\n",
      "   C   0.000000   0.000000   0.000000    0.000000  0.000000  0.000000\n",
      "   H   0.000000  -0.890000  -0.629300    0.000000  0.000000  0.000000\n",
      "   H   0.000000   0.890000  -0.629300    0.000000  0.000000  0.000000\n",
      "   H  -0.890000   0.000000   0.629300    0.000000  0.000000  0.000000\n",
      "   H   0.890000   0.000000   0.629300    0.000000  0.000000  0.000000\n"
     ]
    },
    {
     "name": "stderr",
     "output_type": "stream",
     "text": [
      "/opt/anaconda3/lib/python3.12/site-packages/pyscf/dft/libxc.py:512: UserWarning: Since PySCF-2.3, B3LYP (and B3P86) are changed to the VWN-RPA variant, corresponding to the original definition by Stephens et al. (issue 1480) and the same as the B3LYP functional in Gaussian. To restore the VWN5 definition, you can put the setting \"B3LYP_WITH_VWN5 = True\" in pyscf_conf.py\n",
      "  warnings.warn('Since PySCF-2.3, B3LYP (and B3P86) are changed to the VWN-RPA variant, '\n"
     ]
    },
    {
     "name": "stdout",
     "output_type": "stream",
     "text": [
      "converged SCF energy = -40.5106159105121\n",
      "--------------- RKS_Scanner gradients ---------------\n",
      "         x                y                z\n",
      "0 C    -0.0000000000     0.0000000000     0.0000000000\n",
      "1 H    -0.0000000000     0.0017280225     0.0012266540\n",
      "2 H    -0.0000000000    -0.0017280225     0.0012266540\n",
      "3 H     0.0017280225     0.0000000000    -0.0012266540\n",
      "4 H    -0.0017280225     0.0000000000    -0.0012266540\n",
      "----------------------------------------------\n",
      "cycle 1: E = -40.5106159105  dE = -40.5106  norm(grad) = 0.00423827\n",
      "\n",
      "Geometry optimization cycle 2\n",
      "Cartesian coordinates (Angstrom)\n",
      " Atom        New coordinates             dX        dY        dZ\n",
      "   C  -0.000000  -0.000000  -0.000000   -0.000000 -0.000000 -0.000000\n",
      "   H   0.000000  -0.891921  -0.630680    0.000000 -0.001921 -0.001380\n",
      "   H   0.000000   0.891921  -0.630680    0.000000  0.001921 -0.001380\n",
      "   H  -0.891921   0.000000   0.630680   -0.001921  0.000000  0.001380\n",
      "   H   0.891921   0.000000   0.630680    0.001921  0.000000  0.001380\n",
      "converged SCF energy = -40.5106394597758\n",
      "--------------- RKS_Scanner gradients ---------------\n",
      "         x                y                z\n",
      "0 C    -0.0000000000    -0.0000000000     0.0000000000\n",
      "1 H     0.0000000000     0.0004251214     0.0003013843\n",
      "2 H     0.0000000000    -0.0004251214     0.0003013843\n",
      "3 H     0.0004251214     0.0000000000    -0.0003013843\n",
      "4 H    -0.0004251214     0.0000000000    -0.0003013843\n",
      "----------------------------------------------\n",
      "cycle 2: E = -40.5106394598  dE = -2.35493e-05  norm(grad) = 0.00104223\n",
      "\n",
      "Geometry optimization cycle 3\n",
      "Cartesian coordinates (Angstrom)\n",
      " Atom        New coordinates             dX        dY        dZ\n",
      "   C  -0.000000  -0.000000   0.000000   -0.000000 -0.000000  0.000000\n",
      "   H  -0.000000  -0.892548  -0.631128   -0.000000 -0.000628 -0.000448\n",
      "   H   0.000000   0.892548  -0.631128    0.000000  0.000628 -0.000448\n",
      "   H  -0.892548  -0.000000   0.631128   -0.000628 -0.000000  0.000448\n",
      "   H   0.892548   0.000000   0.631128    0.000628  0.000000  0.000448\n",
      "converged SCF energy = -40.5106409842189\n",
      "--------------- RKS_Scanner gradients ---------------\n",
      "         x                y                z\n",
      "0 C    -0.0000000000    -0.0000000000     0.0000000000\n",
      "1 H    -0.0000000000     0.0000037375     0.0000025587\n",
      "2 H     0.0000000000    -0.0000037375     0.0000025587\n",
      "3 H     0.0000037375    -0.0000000000    -0.0000025587\n",
      "4 H    -0.0000037375     0.0000000000    -0.0000025587\n",
      "----------------------------------------------\n",
      "cycle 3: E = -40.5106409842  dE = -1.52444e-06  norm(grad) = 9.05887e-06\n",
      "C          -0.00000       -0.00000        0.00000\n",
      "H          -0.00000       -0.89255       -0.63113\n",
      "H           0.00000        0.89255       -0.63113\n",
      "H          -0.89255       -0.00000        0.63113\n",
      "H           0.89255        0.00000        0.63113\n"
     ]
    }
   ],
   "execution_count": 30
  },
  {
   "cell_type": "markdown",
   "metadata": {},
   "source": [
    "Now that we have a more appropriate geometry of our molecule, we can compute the ground state energy and the orbital energies, maybe using a more expensive level of theory."
   ]
  },
  {
   "cell_type": "code",
   "metadata": {
    "ExecuteTime": {
     "end_time": "2025-03-01T05:02:09.937510Z",
     "start_time": "2025-03-01T04:53:56.210775Z"
    }
   },
   "source": [
    "mol_eq.basis = '6311++g**'\n",
    "mf = mol_eq.KS()\n",
    "mf.xc = 'b3lyp'\n",
    "mf.kernel()"
   ],
   "outputs": [
    {
     "name": "stdout",
     "output_type": "stream",
     "text": [
      "converged SCF energy = -40.5106409842318\n"
     ]
    },
    {
     "data": {
      "text/plain": [
       "-40.51064098423178"
      ]
     },
     "execution_count": 31,
     "metadata": {},
     "output_type": "execute_result"
    }
   ],
   "execution_count": 31
  },
  {
   "cell_type": "markdown",
   "metadata": {},
   "source": [
    "Once the calculation is finished, the results are all stored inside our object. For example, we can access the orbital energies and occupations."
   ]
  },
  {
   "cell_type": "code",
   "metadata": {
    "ExecuteTime": {
     "end_time": "2025-03-01T05:02:09.937815Z",
     "start_time": "2025-03-01T04:53:56.494746Z"
    }
   },
   "source": [
    "print(mf.mo_occ)\n",
    "print(mf.mo_energy)"
   ],
   "outputs": [
    {
     "name": "stdout",
     "output_type": "stream",
     "text": [
      "[2. 2. 2. 2. 2. 0. 0. 0. 0. 0. 0. 0. 0. 0. 0. 0. 0.]\n",
      "[-10.16000175  -0.69287238  -0.38988714  -0.38988585  -0.38988585\n",
      "   0.11729448   0.17563293   0.17563293   0.17563328   0.54441302\n",
      "   0.54441464   0.54441464   0.93868061   0.93868061   0.93868109\n",
      "   0.94477103   1.1102335 ]\n"
     ]
    }
   ],
   "execution_count": 32
  },
  {
   "cell_type": "markdown",
   "metadata": {},
   "source": "Now we can try to apply the same process to our conjugated dyes. NOTE: we need to only select the organic part of the dye, not the iodine atom. To do this, we may want to generate the SMILES of the molecule and manually remove the `I.` part."
  },
  {
   "cell_type": "code",
   "metadata": {
    "ExecuteTime": {
     "end_time": "2025-03-01T05:02:09.937934Z",
     "start_time": "2025-03-01T05:01:01.477025Z"
    }
   },
   "source": [
    "import cirpy\n",
    "\n",
    "# Define SMILES dictionary (without iodine [I-])\n",
    "smiles_dict = {\n",
    "    \"977-96-8\": \"CCN1C(C=Cc2ccccc12)=Cc3ccc4ccccc4[n+]3CC\",\n",
    "    \"605-91-4\": \"CCN1C(=CC=Cc2ccc3ccccc3[n+]2CC)C=Cc4ccccc14\",\n",
    "    \"4727-49-5\": \"CCN1C=CC(=Cc2cc[n+](CC)c3ccccc23)c4ccccc14\",\n",
    "    \"14187-31-6\": \"CCN1C(=CC=CC=Cc2ccc3ccccc3[n+]2CC)C=Cc4ccccc14\",\n",
    "    \"4727-50-8\": \"CCN1C=CC(=CC=Cc2cc[n+](CC)c3ccccc23)c4ccccc14\",\n",
    "    \"18300-31-7\": \"CCN1C=CC(=CC=CC=CC2=CC=[N+](C3=CC=CC=C23)CC)C4=CC=CC=C41\",\n",
    "    \"2197-01-5\": \"CCN1C(Sc2ccccc12)=Cc3sc4ccccc4[n+]3CC\",\n",
    "    \"905-97-5\": \"CCN1C(Sc2ccccc12)=CC=Cc3sc4ccccc4[n+]3CC\",\n",
    "    \"514-73-8\": \"CCN1C(Sc2ccccc12)=CC=C/C=Cc3sc4ccccc4[n+]3CC\",\n",
    "    \"3071-70-3\": \"CCN1C(Sc2ccccc12)=CC=C/C=CC=Cc3sc4ccccc4[n+]3CC\",\n",
    "    \"905-96-4\": \"CCN1C(Oc2ccccc12)=CC=Cc3oc4ccccc4[n+]3CC\",\n",
    "    \"14806-50-9\": \"CCN1C(Oc2ccccc12)=CC=C/C=Cc3oc4ccccc4[n+]3CC\"\n",
    "}\n",
    "\n",
    "# Loop through all SMILES in the dictionary\n",
    "for cas, smile in smiles_dict.items():\n",
    "    try:\n",
    "        # Convert SMILES to XYZ using cirpy\n",
    "        xyz = cirpy.resolve(smile, 'xyz')\n",
    "\n",
    "        if xyz is None:\n",
    "            print(f\"Error: Could not resolve XYZ for CAS {cas}\")\n",
    "            continue  # Skip to next dye if XYZ conversion fails\n",
    "\n",
    "        # Remove the first two lines from XYZ format\n",
    "        xyz_cleaned = ''.join(string + '\\n' for string in xyz.split('\\n')[2:])\n",
    "\n",
    "        # Print the result (exactly like your original print statement)\n",
    "        print(f\"CAS: {cas} | XYZ Structure:\\n{xyz_cleaned}\")\n",
    "\n",
    "    except Exception as e:\n",
    "        print(f\"Error processing CAS {cas}: {str(e)}\")"
   ],
   "outputs": [
    {
     "ename": "KeyboardInterrupt",
     "evalue": "",
     "output_type": "error",
     "traceback": [
      "\u001B[0;31m---------------------------------------------------------------------------\u001B[0m",
      "\u001B[0;31mKeyboardInterrupt\u001B[0m                         Traceback (most recent call last)",
      "Cell \u001B[0;32mIn[6], line 23\u001B[0m\n\u001B[1;32m     20\u001B[0m \u001B[38;5;28;01mfor\u001B[39;00m cas, smile \u001B[38;5;129;01min\u001B[39;00m smiles_dict\u001B[38;5;241m.\u001B[39mitems():\n\u001B[1;32m     21\u001B[0m     \u001B[38;5;28;01mtry\u001B[39;00m:\n\u001B[1;32m     22\u001B[0m         \u001B[38;5;66;03m# Convert SMILES to XYZ using cirpy\u001B[39;00m\n\u001B[0;32m---> 23\u001B[0m         xyz \u001B[38;5;241m=\u001B[39m cirpy\u001B[38;5;241m.\u001B[39mresolve(smile, \u001B[38;5;124m'\u001B[39m\u001B[38;5;124mxyz\u001B[39m\u001B[38;5;124m'\u001B[39m)\n\u001B[1;32m     25\u001B[0m         \u001B[38;5;28;01mif\u001B[39;00m xyz \u001B[38;5;129;01mis\u001B[39;00m \u001B[38;5;28;01mNone\u001B[39;00m:\n\u001B[1;32m     26\u001B[0m             \u001B[38;5;28mprint\u001B[39m(\u001B[38;5;124mf\u001B[39m\u001B[38;5;124m\"\u001B[39m\u001B[38;5;124mError: Could not resolve XYZ for CAS \u001B[39m\u001B[38;5;132;01m{\u001B[39;00mcas\u001B[38;5;132;01m}\u001B[39;00m\u001B[38;5;124m\"\u001B[39m)\n",
      "File \u001B[0;32m/opt/anaconda3/lib/python3.12/site-packages/cirpy.py:192\u001B[0m, in \u001B[0;36mresolve\u001B[0;34m(input, representation, resolvers, get3d, **kwargs)\u001B[0m\n\u001B[1;32m    180\u001B[0m \u001B[38;5;250m\u001B[39m\u001B[38;5;124;03m\"\"\"Resolve input to the specified output representation.\u001B[39;00m\n\u001B[1;32m    181\u001B[0m \n\u001B[1;32m    182\u001B[0m \u001B[38;5;124;03m:param string input: Chemical identifier to resolve\u001B[39;00m\n\u001B[0;32m   (...)\u001B[0m\n\u001B[1;32m    189\u001B[0m \u001B[38;5;124;03m:raises ParseError: if CIR response is uninterpretable\u001B[39;00m\n\u001B[1;32m    190\u001B[0m \u001B[38;5;124;03m\"\"\"\u001B[39;00m\n\u001B[1;32m    191\u001B[0m \u001B[38;5;66;03m# Take first result from XML query\u001B[39;00m\n\u001B[0;32m--> 192\u001B[0m results \u001B[38;5;241m=\u001B[39m query(\u001B[38;5;28minput\u001B[39m, representation, resolvers, \u001B[38;5;28;01mFalse\u001B[39;00m, get3d, \u001B[38;5;241m*\u001B[39m\u001B[38;5;241m*\u001B[39mkwargs)\n\u001B[1;32m    193\u001B[0m result \u001B[38;5;241m=\u001B[39m results[\u001B[38;5;241m0\u001B[39m]\u001B[38;5;241m.\u001B[39mvalue \u001B[38;5;28;01mif\u001B[39;00m results \u001B[38;5;28;01melse\u001B[39;00m \u001B[38;5;28;01mNone\u001B[39;00m\n\u001B[1;32m    194\u001B[0m \u001B[38;5;28;01mreturn\u001B[39;00m result\n",
      "File \u001B[0;32m/opt/anaconda3/lib/python3.12/site-packages/cirpy.py:162\u001B[0m, in \u001B[0;36mquery\u001B[0;34m(input, representation, resolvers, get3d, tautomers, **kwargs)\u001B[0m\n\u001B[1;32m    149\u001B[0m \u001B[38;5;28;01mdef\u001B[39;00m \u001B[38;5;21mquery\u001B[39m(\u001B[38;5;28minput\u001B[39m, representation, resolvers\u001B[38;5;241m=\u001B[39m\u001B[38;5;28;01mNone\u001B[39;00m, get3d\u001B[38;5;241m=\u001B[39m\u001B[38;5;28;01mFalse\u001B[39;00m, tautomers\u001B[38;5;241m=\u001B[39m\u001B[38;5;28;01mFalse\u001B[39;00m, \u001B[38;5;241m*\u001B[39m\u001B[38;5;241m*\u001B[39mkwargs):\n\u001B[1;32m    150\u001B[0m \u001B[38;5;250m    \u001B[39m\u001B[38;5;124;03m\"\"\"Get all results for resolving input to the specified output representation.\u001B[39;00m\n\u001B[1;32m    151\u001B[0m \n\u001B[1;32m    152\u001B[0m \u001B[38;5;124;03m    :param string input: Chemical identifier to resolve\u001B[39;00m\n\u001B[0;32m   (...)\u001B[0m\n\u001B[1;32m    160\u001B[0m \u001B[38;5;124;03m    :raises ParseError: if CIR response is uninterpretable\u001B[39;00m\n\u001B[1;32m    161\u001B[0m \u001B[38;5;124;03m    \"\"\"\u001B[39;00m\n\u001B[0;32m--> 162\u001B[0m     tree \u001B[38;5;241m=\u001B[39m request(\u001B[38;5;28minput\u001B[39m, representation, resolvers, get3d, tautomers, \u001B[38;5;241m*\u001B[39m\u001B[38;5;241m*\u001B[39mkwargs)\n\u001B[1;32m    163\u001B[0m     results \u001B[38;5;241m=\u001B[39m []\n\u001B[1;32m    164\u001B[0m     \u001B[38;5;28;01mfor\u001B[39;00m data \u001B[38;5;129;01min\u001B[39;00m tree\u001B[38;5;241m.\u001B[39mfindall(\u001B[38;5;124m'\u001B[39m\u001B[38;5;124m.//data\u001B[39m\u001B[38;5;124m'\u001B[39m):\n",
      "File \u001B[0;32m/opt/anaconda3/lib/python3.12/site-packages/cirpy.py:95\u001B[0m, in \u001B[0;36mrequest\u001B[0;34m(input, representation, resolvers, get3d, tautomers, **kwargs)\u001B[0m\n\u001B[1;32m     93\u001B[0m url \u001B[38;5;241m=\u001B[39m construct_api_url(\u001B[38;5;28minput\u001B[39m, representation, resolvers, get3d, tautomers, \u001B[38;5;241m*\u001B[39m\u001B[38;5;241m*\u001B[39mkwargs)\n\u001B[1;32m     94\u001B[0m log\u001B[38;5;241m.\u001B[39mdebug(\u001B[38;5;124m'\u001B[39m\u001B[38;5;124mMaking request: \u001B[39m\u001B[38;5;132;01m%s\u001B[39;00m\u001B[38;5;124m'\u001B[39m, url)\n\u001B[0;32m---> 95\u001B[0m response \u001B[38;5;241m=\u001B[39m urlopen(url)\n\u001B[1;32m     96\u001B[0m \u001B[38;5;28;01mreturn\u001B[39;00m etree\u001B[38;5;241m.\u001B[39mparse(response)\u001B[38;5;241m.\u001B[39mgetroot()\n",
      "File \u001B[0;32m/opt/anaconda3/lib/python3.12/urllib/request.py:215\u001B[0m, in \u001B[0;36murlopen\u001B[0;34m(url, data, timeout, cafile, capath, cadefault, context)\u001B[0m\n\u001B[1;32m    213\u001B[0m \u001B[38;5;28;01melse\u001B[39;00m:\n\u001B[1;32m    214\u001B[0m     opener \u001B[38;5;241m=\u001B[39m _opener\n\u001B[0;32m--> 215\u001B[0m \u001B[38;5;28;01mreturn\u001B[39;00m opener\u001B[38;5;241m.\u001B[39mopen(url, data, timeout)\n",
      "File \u001B[0;32m/opt/anaconda3/lib/python3.12/urllib/request.py:515\u001B[0m, in \u001B[0;36mOpenerDirector.open\u001B[0;34m(self, fullurl, data, timeout)\u001B[0m\n\u001B[1;32m    512\u001B[0m     req \u001B[38;5;241m=\u001B[39m meth(req)\n\u001B[1;32m    514\u001B[0m sys\u001B[38;5;241m.\u001B[39maudit(\u001B[38;5;124m'\u001B[39m\u001B[38;5;124murllib.Request\u001B[39m\u001B[38;5;124m'\u001B[39m, req\u001B[38;5;241m.\u001B[39mfull_url, req\u001B[38;5;241m.\u001B[39mdata, req\u001B[38;5;241m.\u001B[39mheaders, req\u001B[38;5;241m.\u001B[39mget_method())\n\u001B[0;32m--> 515\u001B[0m response \u001B[38;5;241m=\u001B[39m \u001B[38;5;28mself\u001B[39m\u001B[38;5;241m.\u001B[39m_open(req, data)\n\u001B[1;32m    517\u001B[0m \u001B[38;5;66;03m# post-process response\u001B[39;00m\n\u001B[1;32m    518\u001B[0m meth_name \u001B[38;5;241m=\u001B[39m protocol\u001B[38;5;241m+\u001B[39m\u001B[38;5;124m\"\u001B[39m\u001B[38;5;124m_response\u001B[39m\u001B[38;5;124m\"\u001B[39m\n",
      "File \u001B[0;32m/opt/anaconda3/lib/python3.12/urllib/request.py:532\u001B[0m, in \u001B[0;36mOpenerDirector._open\u001B[0;34m(self, req, data)\u001B[0m\n\u001B[1;32m    529\u001B[0m     \u001B[38;5;28;01mreturn\u001B[39;00m result\n\u001B[1;32m    531\u001B[0m protocol \u001B[38;5;241m=\u001B[39m req\u001B[38;5;241m.\u001B[39mtype\n\u001B[0;32m--> 532\u001B[0m result \u001B[38;5;241m=\u001B[39m \u001B[38;5;28mself\u001B[39m\u001B[38;5;241m.\u001B[39m_call_chain(\u001B[38;5;28mself\u001B[39m\u001B[38;5;241m.\u001B[39mhandle_open, protocol, protocol \u001B[38;5;241m+\u001B[39m\n\u001B[1;32m    533\u001B[0m                           \u001B[38;5;124m'\u001B[39m\u001B[38;5;124m_open\u001B[39m\u001B[38;5;124m'\u001B[39m, req)\n\u001B[1;32m    534\u001B[0m \u001B[38;5;28;01mif\u001B[39;00m result:\n\u001B[1;32m    535\u001B[0m     \u001B[38;5;28;01mreturn\u001B[39;00m result\n",
      "File \u001B[0;32m/opt/anaconda3/lib/python3.12/urllib/request.py:492\u001B[0m, in \u001B[0;36mOpenerDirector._call_chain\u001B[0;34m(self, chain, kind, meth_name, *args)\u001B[0m\n\u001B[1;32m    490\u001B[0m \u001B[38;5;28;01mfor\u001B[39;00m handler \u001B[38;5;129;01min\u001B[39;00m handlers:\n\u001B[1;32m    491\u001B[0m     func \u001B[38;5;241m=\u001B[39m \u001B[38;5;28mgetattr\u001B[39m(handler, meth_name)\n\u001B[0;32m--> 492\u001B[0m     result \u001B[38;5;241m=\u001B[39m func(\u001B[38;5;241m*\u001B[39margs)\n\u001B[1;32m    493\u001B[0m     \u001B[38;5;28;01mif\u001B[39;00m result \u001B[38;5;129;01mis\u001B[39;00m \u001B[38;5;129;01mnot\u001B[39;00m \u001B[38;5;28;01mNone\u001B[39;00m:\n\u001B[1;32m    494\u001B[0m         \u001B[38;5;28;01mreturn\u001B[39;00m result\n",
      "File \u001B[0;32m/opt/anaconda3/lib/python3.12/urllib/request.py:1392\u001B[0m, in \u001B[0;36mHTTPSHandler.https_open\u001B[0;34m(self, req)\u001B[0m\n\u001B[1;32m   1391\u001B[0m \u001B[38;5;28;01mdef\u001B[39;00m \u001B[38;5;21mhttps_open\u001B[39m(\u001B[38;5;28mself\u001B[39m, req):\n\u001B[0;32m-> 1392\u001B[0m     \u001B[38;5;28;01mreturn\u001B[39;00m \u001B[38;5;28mself\u001B[39m\u001B[38;5;241m.\u001B[39mdo_open(http\u001B[38;5;241m.\u001B[39mclient\u001B[38;5;241m.\u001B[39mHTTPSConnection, req,\n\u001B[1;32m   1393\u001B[0m                         context\u001B[38;5;241m=\u001B[39m\u001B[38;5;28mself\u001B[39m\u001B[38;5;241m.\u001B[39m_context)\n",
      "File \u001B[0;32m/opt/anaconda3/lib/python3.12/urllib/request.py:1348\u001B[0m, in \u001B[0;36mAbstractHTTPHandler.do_open\u001B[0;34m(self, http_class, req, **http_conn_args)\u001B[0m\n\u001B[1;32m   1346\u001B[0m     \u001B[38;5;28;01mexcept\u001B[39;00m \u001B[38;5;167;01mOSError\u001B[39;00m \u001B[38;5;28;01mas\u001B[39;00m err: \u001B[38;5;66;03m# timeout error\u001B[39;00m\n\u001B[1;32m   1347\u001B[0m         \u001B[38;5;28;01mraise\u001B[39;00m URLError(err)\n\u001B[0;32m-> 1348\u001B[0m     r \u001B[38;5;241m=\u001B[39m h\u001B[38;5;241m.\u001B[39mgetresponse()\n\u001B[1;32m   1349\u001B[0m \u001B[38;5;28;01mexcept\u001B[39;00m:\n\u001B[1;32m   1350\u001B[0m     h\u001B[38;5;241m.\u001B[39mclose()\n",
      "File \u001B[0;32m/opt/anaconda3/lib/python3.12/http/client.py:1423\u001B[0m, in \u001B[0;36mHTTPConnection.getresponse\u001B[0;34m(self)\u001B[0m\n\u001B[1;32m   1421\u001B[0m \u001B[38;5;28;01mtry\u001B[39;00m:\n\u001B[1;32m   1422\u001B[0m     \u001B[38;5;28;01mtry\u001B[39;00m:\n\u001B[0;32m-> 1423\u001B[0m         response\u001B[38;5;241m.\u001B[39mbegin()\n\u001B[1;32m   1424\u001B[0m     \u001B[38;5;28;01mexcept\u001B[39;00m \u001B[38;5;167;01mConnectionError\u001B[39;00m:\n\u001B[1;32m   1425\u001B[0m         \u001B[38;5;28mself\u001B[39m\u001B[38;5;241m.\u001B[39mclose()\n",
      "File \u001B[0;32m/opt/anaconda3/lib/python3.12/http/client.py:331\u001B[0m, in \u001B[0;36mHTTPResponse.begin\u001B[0;34m(self)\u001B[0m\n\u001B[1;32m    329\u001B[0m \u001B[38;5;66;03m# read until we get a non-100 response\u001B[39;00m\n\u001B[1;32m    330\u001B[0m \u001B[38;5;28;01mwhile\u001B[39;00m \u001B[38;5;28;01mTrue\u001B[39;00m:\n\u001B[0;32m--> 331\u001B[0m     version, status, reason \u001B[38;5;241m=\u001B[39m \u001B[38;5;28mself\u001B[39m\u001B[38;5;241m.\u001B[39m_read_status()\n\u001B[1;32m    332\u001B[0m     \u001B[38;5;28;01mif\u001B[39;00m status \u001B[38;5;241m!=\u001B[39m CONTINUE:\n\u001B[1;32m    333\u001B[0m         \u001B[38;5;28;01mbreak\u001B[39;00m\n",
      "File \u001B[0;32m/opt/anaconda3/lib/python3.12/http/client.py:292\u001B[0m, in \u001B[0;36mHTTPResponse._read_status\u001B[0;34m(self)\u001B[0m\n\u001B[1;32m    291\u001B[0m \u001B[38;5;28;01mdef\u001B[39;00m \u001B[38;5;21m_read_status\u001B[39m(\u001B[38;5;28mself\u001B[39m):\n\u001B[0;32m--> 292\u001B[0m     line \u001B[38;5;241m=\u001B[39m \u001B[38;5;28mstr\u001B[39m(\u001B[38;5;28mself\u001B[39m\u001B[38;5;241m.\u001B[39mfp\u001B[38;5;241m.\u001B[39mreadline(_MAXLINE \u001B[38;5;241m+\u001B[39m \u001B[38;5;241m1\u001B[39m), \u001B[38;5;124m\"\u001B[39m\u001B[38;5;124miso-8859-1\u001B[39m\u001B[38;5;124m\"\u001B[39m)\n\u001B[1;32m    293\u001B[0m     \u001B[38;5;28;01mif\u001B[39;00m \u001B[38;5;28mlen\u001B[39m(line) \u001B[38;5;241m>\u001B[39m _MAXLINE:\n\u001B[1;32m    294\u001B[0m         \u001B[38;5;28;01mraise\u001B[39;00m LineTooLong(\u001B[38;5;124m\"\u001B[39m\u001B[38;5;124mstatus line\u001B[39m\u001B[38;5;124m\"\u001B[39m)\n",
      "File \u001B[0;32m/opt/anaconda3/lib/python3.12/socket.py:707\u001B[0m, in \u001B[0;36mSocketIO.readinto\u001B[0;34m(self, b)\u001B[0m\n\u001B[1;32m    705\u001B[0m \u001B[38;5;28;01mwhile\u001B[39;00m \u001B[38;5;28;01mTrue\u001B[39;00m:\n\u001B[1;32m    706\u001B[0m     \u001B[38;5;28;01mtry\u001B[39;00m:\n\u001B[0;32m--> 707\u001B[0m         \u001B[38;5;28;01mreturn\u001B[39;00m \u001B[38;5;28mself\u001B[39m\u001B[38;5;241m.\u001B[39m_sock\u001B[38;5;241m.\u001B[39mrecv_into(b)\n\u001B[1;32m    708\u001B[0m     \u001B[38;5;28;01mexcept\u001B[39;00m timeout:\n\u001B[1;32m    709\u001B[0m         \u001B[38;5;28mself\u001B[39m\u001B[38;5;241m.\u001B[39m_timeout_occurred \u001B[38;5;241m=\u001B[39m \u001B[38;5;28;01mTrue\u001B[39;00m\n",
      "File \u001B[0;32m/opt/anaconda3/lib/python3.12/ssl.py:1252\u001B[0m, in \u001B[0;36mSSLSocket.recv_into\u001B[0;34m(self, buffer, nbytes, flags)\u001B[0m\n\u001B[1;32m   1248\u001B[0m     \u001B[38;5;28;01mif\u001B[39;00m flags \u001B[38;5;241m!=\u001B[39m \u001B[38;5;241m0\u001B[39m:\n\u001B[1;32m   1249\u001B[0m         \u001B[38;5;28;01mraise\u001B[39;00m \u001B[38;5;167;01mValueError\u001B[39;00m(\n\u001B[1;32m   1250\u001B[0m           \u001B[38;5;124m\"\u001B[39m\u001B[38;5;124mnon-zero flags not allowed in calls to recv_into() on \u001B[39m\u001B[38;5;132;01m%s\u001B[39;00m\u001B[38;5;124m\"\u001B[39m \u001B[38;5;241m%\u001B[39m\n\u001B[1;32m   1251\u001B[0m           \u001B[38;5;28mself\u001B[39m\u001B[38;5;241m.\u001B[39m\u001B[38;5;18m__class__\u001B[39m)\n\u001B[0;32m-> 1252\u001B[0m     \u001B[38;5;28;01mreturn\u001B[39;00m \u001B[38;5;28mself\u001B[39m\u001B[38;5;241m.\u001B[39mread(nbytes, buffer)\n\u001B[1;32m   1253\u001B[0m \u001B[38;5;28;01melse\u001B[39;00m:\n\u001B[1;32m   1254\u001B[0m     \u001B[38;5;28;01mreturn\u001B[39;00m \u001B[38;5;28msuper\u001B[39m()\u001B[38;5;241m.\u001B[39mrecv_into(buffer, nbytes, flags)\n",
      "File \u001B[0;32m/opt/anaconda3/lib/python3.12/ssl.py:1104\u001B[0m, in \u001B[0;36mSSLSocket.read\u001B[0;34m(self, len, buffer)\u001B[0m\n\u001B[1;32m   1102\u001B[0m \u001B[38;5;28;01mtry\u001B[39;00m:\n\u001B[1;32m   1103\u001B[0m     \u001B[38;5;28;01mif\u001B[39;00m buffer \u001B[38;5;129;01mis\u001B[39;00m \u001B[38;5;129;01mnot\u001B[39;00m \u001B[38;5;28;01mNone\u001B[39;00m:\n\u001B[0;32m-> 1104\u001B[0m         \u001B[38;5;28;01mreturn\u001B[39;00m \u001B[38;5;28mself\u001B[39m\u001B[38;5;241m.\u001B[39m_sslobj\u001B[38;5;241m.\u001B[39mread(\u001B[38;5;28mlen\u001B[39m, buffer)\n\u001B[1;32m   1105\u001B[0m     \u001B[38;5;28;01melse\u001B[39;00m:\n\u001B[1;32m   1106\u001B[0m         \u001B[38;5;28;01mreturn\u001B[39;00m \u001B[38;5;28mself\u001B[39m\u001B[38;5;241m.\u001B[39m_sslobj\u001B[38;5;241m.\u001B[39mread(\u001B[38;5;28mlen\u001B[39m)\n",
      "\u001B[0;31mKeyboardInterrupt\u001B[0m: "
     ]
    }
   ],
   "execution_count": 6
  },
  {
   "cell_type": "markdown",
   "metadata": {},
   "source": [
    "Contrary to the methane example, the dye is positively charged, we need to specify this when we setup the molecule. "
   ]
  },
  {
   "cell_type": "code",
   "metadata": {
    "ExecuteTime": {
     "end_time": "2025-03-01T05:02:09.938096Z",
     "start_time": "2025-03-01T04:54:00.263365Z"
    }
   },
   "source": [
    "dye = gto.M(atom=xyz, basis='631g', charge=1, spin=0)"
   ],
   "outputs": [
    {
     "ename": "ValueError",
     "evalue": "Zmatrix format error at L1 C23H23N2O2",
     "output_type": "error",
     "traceback": [
      "\u001B[0;31m---------------------------------------------------------------------------\u001B[0m",
      "\u001B[0;31mValueError\u001B[0m                                Traceback (most recent call last)",
      "Cell \u001B[0;32mIn[34], line 1\u001B[0m\n\u001B[0;32m----> 1\u001B[0m dye \u001B[38;5;241m=\u001B[39m gto\u001B[38;5;241m.\u001B[39mM(atom\u001B[38;5;241m=\u001B[39mxyz, basis\u001B[38;5;241m=\u001B[39m\u001B[38;5;124m'\u001B[39m\u001B[38;5;124m631g\u001B[39m\u001B[38;5;124m'\u001B[39m, charge\u001B[38;5;241m=\u001B[39m\u001B[38;5;241m1\u001B[39m, spin\u001B[38;5;241m=\u001B[39m\u001B[38;5;241m0\u001B[39m)\n",
      "File \u001B[0;32m/opt/anaconda3/lib/python3.12/site-packages/pyscf/gto/mole.py:113\u001B[0m, in \u001B[0;36mM\u001B[0;34m(*args, **kwargs)\u001B[0m\n\u001B[1;32m    103\u001B[0m \u001B[38;5;250m\u001B[39m\u001B[38;5;124mr\u001B[39m\u001B[38;5;124;03m'''This is a shortcut to build up Mole object.\u001B[39;00m\n\u001B[1;32m    104\u001B[0m \n\u001B[1;32m    105\u001B[0m \u001B[38;5;124;03mArgs: Same to :func:`Mole.build`\u001B[39;00m\n\u001B[0;32m   (...)\u001B[0m\n\u001B[1;32m    110\u001B[0m \u001B[38;5;124;03m>>> mol = gto.M(atom='H 0 0 0; F 0 0 1', basis='6-31g')\u001B[39;00m\n\u001B[1;32m    111\u001B[0m \u001B[38;5;124;03m'''\u001B[39;00m\n\u001B[1;32m    112\u001B[0m mol \u001B[38;5;241m=\u001B[39m Mole()\n\u001B[0;32m--> 113\u001B[0m mol\u001B[38;5;241m.\u001B[39mbuild(\u001B[38;5;241m*\u001B[39margs, \u001B[38;5;241m*\u001B[39m\u001B[38;5;241m*\u001B[39mkwargs)\n\u001B[1;32m    114\u001B[0m \u001B[38;5;28;01mreturn\u001B[39;00m mol\n",
      "File \u001B[0;32m/opt/anaconda3/lib/python3.12/site-packages/pyscf/gto/mole.py:2548\u001B[0m, in \u001B[0;36mMoleBase.build\u001B[0;34m(self, dump_input, parse_arg, verbose, output, max_memory, atom, basis, unit, nucmod, ecp, pseudo, charge, spin, symmetry, symmetry_subgroup, cart, magmom)\u001B[0m\n\u001B[1;32m   2545\u001B[0m     \u001B[38;5;28mself\u001B[39m\u001B[38;5;241m.\u001B[39mcheck_sanity()\n\u001B[1;32m   2547\u001B[0m \u001B[38;5;28;01mif\u001B[39;00m \u001B[38;5;28mself\u001B[39m\u001B[38;5;241m.\u001B[39matom:\n\u001B[0;32m-> 2548\u001B[0m     \u001B[38;5;28mself\u001B[39m\u001B[38;5;241m.\u001B[39m_atom \u001B[38;5;241m=\u001B[39m \u001B[38;5;28mself\u001B[39m\u001B[38;5;241m.\u001B[39mformat_atom(\u001B[38;5;28mself\u001B[39m\u001B[38;5;241m.\u001B[39matom, unit\u001B[38;5;241m=\u001B[39m\u001B[38;5;28mself\u001B[39m\u001B[38;5;241m.\u001B[39munit)\n\u001B[1;32m   2549\u001B[0m uniq_atoms \u001B[38;5;241m=\u001B[39m {a[\u001B[38;5;241m0\u001B[39m] \u001B[38;5;28;01mfor\u001B[39;00m a \u001B[38;5;129;01min\u001B[39;00m \u001B[38;5;28mself\u001B[39m\u001B[38;5;241m.\u001B[39m_atom}\n\u001B[1;32m   2551\u001B[0m \u001B[38;5;28;01mif\u001B[39;00m \u001B[38;5;28mself\u001B[39m\u001B[38;5;241m.\u001B[39mbasis:\n",
      "File \u001B[0;32m/opt/anaconda3/lib/python3.12/site-packages/pyscf/gto/mole.py:386\u001B[0m, in \u001B[0;36mformat_atom\u001B[0;34m(atoms, origin, axes, unit)\u001B[0m\n\u001B[1;32m    383\u001B[0m         fmt_atoms\u001B[38;5;241m.\u001B[39mappend(dat)\n\u001B[1;32m    385\u001B[0m \u001B[38;5;28;01mif\u001B[39;00m \u001B[38;5;28mlen\u001B[39m(fmt_atoms[\u001B[38;5;241m0\u001B[39m]\u001B[38;5;241m.\u001B[39msplit()) \u001B[38;5;241m<\u001B[39m \u001B[38;5;241m4\u001B[39m:\n\u001B[0;32m--> 386\u001B[0m     fmt_atoms \u001B[38;5;241m=\u001B[39m from_zmatrix(\u001B[38;5;124m'\u001B[39m\u001B[38;5;130;01m\\n\u001B[39;00m\u001B[38;5;124m'\u001B[39m\u001B[38;5;241m.\u001B[39mjoin(fmt_atoms))\n\u001B[1;32m    387\u001B[0m \u001B[38;5;28;01melse\u001B[39;00m:\n\u001B[1;32m    388\u001B[0m     fmt_atoms \u001B[38;5;241m=\u001B[39m [str2atm(line) \u001B[38;5;28;01mfor\u001B[39;00m line \u001B[38;5;129;01min\u001B[39;00m fmt_atoms]\n",
      "File \u001B[0;32m/opt/anaconda3/lib/python3.12/site-packages/pyscf/gto/mole.py:3893\u001B[0m, in \u001B[0;36mfrom_zmatrix\u001B[0;34m(atomstr)\u001B[0m\n\u001B[1;32m   3891\u001B[0m rawd \u001B[38;5;241m=\u001B[39m line\u001B[38;5;241m.\u001B[39msplit()\n\u001B[1;32m   3892\u001B[0m \u001B[38;5;28;01mif\u001B[39;00m \u001B[38;5;28mlen\u001B[39m(rawd) \u001B[38;5;241m<\u001B[39m min_items_per_line:\n\u001B[0;32m-> 3893\u001B[0m     \u001B[38;5;28;01mraise\u001B[39;00m \u001B[38;5;167;01mValueError\u001B[39;00m(\u001B[38;5;124m'\u001B[39m\u001B[38;5;124mZmatrix format error at L\u001B[39m\u001B[38;5;132;01m%d\u001B[39;00m\u001B[38;5;124m \u001B[39m\u001B[38;5;132;01m%s\u001B[39;00m\u001B[38;5;124m'\u001B[39m \u001B[38;5;241m%\u001B[39m (line_id, line))\n\u001B[1;32m   3895\u001B[0m symbols\u001B[38;5;241m.\u001B[39mappend(rawd[\u001B[38;5;241m0\u001B[39m])\n\u001B[1;32m   3896\u001B[0m \u001B[38;5;28;01mif\u001B[39;00m \u001B[38;5;28mlen\u001B[39m(rawd) \u001B[38;5;241m<\u001B[39m \u001B[38;5;241m3\u001B[39m:\n",
      "\u001B[0;31mValueError\u001B[0m: Zmatrix format error at L1 C23H23N2O2"
     ]
    }
   ],
   "execution_count": 34
  },
  {
   "cell_type": "markdown",
   "metadata": {},
   "source": [
    "The dyes in our experiments are large molecules and we may not be able to perform QC calculations fast enough for the lab, so we will use cheaper levels of theory (`HF` and `631g`) and no geometry optimization.  "
   ]
  },
  {
   "cell_type": "code",
   "metadata": {
    "ExecuteTime": {
     "end_time": "2025-03-01T05:02:09.938245Z",
     "start_time": "2025-03-01T03:58:50.668592Z"
    }
   },
   "source": [
    "mf = dye.HF()\n",
    "mf.kernel()"
   ],
   "outputs": [
    {
     "name": "stdout",
     "output_type": "stream",
     "text": [
      "converged SCF energy = -992.667087347988\n"
     ]
    },
    {
     "data": {
      "text/plain": [
       "-992.6670873479884"
      ]
     },
     "execution_count": 192,
     "metadata": {},
     "output_type": "execute_result"
    }
   ],
   "execution_count": 192
  },
  {
   "cell_type": "markdown",
   "metadata": {},
   "source": [
    "Once the calculation has finished, we can extract HOMO and LUMO energies and convert the gap into our estimated absorption wavelength."
   ]
  },
  {
   "cell_type": "code",
   "metadata": {
    "ExecuteTime": {
     "end_time": "2025-03-01T05:02:09.938394Z",
     "start_time": "2025-03-01T04:05:22.877419Z"
    }
   },
   "source": [
    "lumo = mf.mo_energy[np.where(mf.mo_occ==0)[0][0]] # orbital energies in atomic units (Hartree)\n",
    "homo = mf.mo_energy[np.where(mf.mo_occ==0)[0][0]-1] # orbital energies in atomic units (Hartree)\n",
    "Eg = (lumo-homo)*dict(physical_constants)['Hartree energy'][0]\n",
    "wavelength = dict(physical_constants)['Planck constant'][0] * dict(physical_constants)['speed of light in vacuum'][0] / Eg * 1e9\n",
    "print(f\"The absorption wavelength from the Hartree-Fock/6-31G HOMO-LUMO gap is {wavelength} nm\")"
   ],
   "outputs": [
    {
     "name": "stdout",
     "output_type": "stream",
     "text": [
      "The absorption wavelength from the Hartree-Fock/6-31G HOMO-LUMO gap is 156.2331133939235 nm\n"
     ]
    }
   ],
   "execution_count": 193
  },
  {
   "attachments": {},
   "cell_type": "markdown",
   "metadata": {},
   "source": [
    "## Huckel Model for Conjugated Molecules {-}"
   ]
  },
  {
   "attachments": {},
   "cell_type": "markdown",
   "metadata": {},
   "source": [
    "While for the Full Report you will only worry about modeling your experiments with a Free Electron (Particle in a Box) kind of model, here we will try to understand how we can use a slightly more advanced quantum mechanical model to predict absorption wavelengths. The Huckel model is a semi-empirical quantum mechanical model that has been developed to describe conjugted systems. While the model relies on some adjustable parameters and involves several possibly strong assumptions, it allows to reproduce some key properties of conjugated and aromatic molecules.\n",
    "\n",
    "You can learn more on the theory and assumptions of the model in the lectures and in the following online resources: \n",
    "* MIT Physical Chemistry on [The Huckel Molecular Orbital Theory](https://dspace.mit.edu/bitstream/handle/1721.1/120336/5-61-fall-2013/contents/lecture-notes/MIT5_61F13_Lecture27-28.pdf)\n",
    "* P-Chem Lab from Duke University [The Huckel Approximation](https://chem.libretexts.org/Courses/Duke_University/CHEM310L_-_Physical_Chemistry_I_Lab_Manual/04%3A_Absorption_Spectrum_of_Conjugated_Dyes/4.07%3A_Appendix_B_-_The_Huckel_Approximation)\n",
    "* Columbia Notes on [The Huckel Approximation](http://www.columbia.edu/itc/chemistry/chem-c2407_archive/recitations/huckel.pdf)\n"
   ]
  },
  {
   "attachments": {},
   "cell_type": "markdown",
   "metadata": {},
   "source": [
    "The key component of the Huckel model is the fact that the molecular orbitals are univoquely determined by the topology of the conjugated network. The model assumes that we only consider the $p_z$ orbitals of each conjugated atom and we build molecular orbitals from them. As a further approximation, only atomic orbitals that are in connected atoms are allowed to 'interact'. Eventually, we assume that all atoms and bonds are equivalent, so that the relative components of the molecular Hamiltonian are identical. The Hamiltonian of the system can thus be represented as a matrix, where diagonal cells $H_{ii}$ have identical values, while off-diagonal elements $H_{ij}$ are different from zero only if there is a bond between atom $i$ and atom $j$. For carbon based molecules, the model only relies on two parameters $\\alpha$ and $\\beta$. However, the difference in energy between the electronic states only depends on the latter parameter, which is usually estimated to be $\\beta\\approx-70.4\\; kcal/mol$."
   ]
  },
  {
   "cell_type": "code",
   "metadata": {
    "ExecuteTime": {
     "end_time": "2025-03-01T05:02:09.938526Z",
     "start_time": "2025-03-01T04:05:34.223745Z"
    }
   },
   "source": [
    "n_conjugated = 2\n",
    "alpha = -2\n",
    "beta = -1\n",
    "topology = np.zeros((n_conjugated,n_conjugated))\n",
    "diagonal = np.ones(n_conjugated)*alpha\n",
    "offdiagonal = np.ones(n_conjugated-1)*beta\n",
    "topology = topology + np.diag(diagonal,0) + np.diag(offdiagonal,1) + np.diag(offdiagonal,-1)\n",
    "print(topology)"
   ],
   "outputs": [
    {
     "name": "stdout",
     "output_type": "stream",
     "text": [
      "[[-2. -1.]\n",
      " [-1. -2.]]\n"
     ]
    }
   ],
   "execution_count": 194
  },
  {
   "attachments": {},
   "cell_type": "markdown",
   "metadata": {},
   "source": [
    "Molecular orbitals are given by the linear combinations of atomic orbitals that make the Hamiltonian diagonal and minimize the energy of the system. Diagonalization of the Hamiltonian is a linear algebra problem (eigenvalue problem). We can use numpy to compute eigenvalues (a.k.a. orbital energies) and eigenvectors (a.k.a. the values of the coefficients that enter the definition of the molecular orbitals)."
   ]
  },
  {
   "cell_type": "code",
   "metadata": {
    "ExecuteTime": {
     "end_time": "2025-03-01T05:02:09.938658Z",
     "start_time": "2025-03-01T04:05:36.207978Z"
    }
   },
   "source": [
    "eigenvalues,eigenvectors=np.linalg.eig(topology)\n",
    "print(eigenvalues)"
   ],
   "outputs": [
    {
     "name": "stdout",
     "output_type": "stream",
     "text": [
      "[-1. -3.]\n"
     ]
    }
   ],
   "execution_count": 195
  },
  {
   "attachments": {},
   "cell_type": "markdown",
   "metadata": {},
   "source": [
    "For the more complicated case of butane we can build the Huckel Hamiltonian as follows:"
   ]
  },
  {
   "cell_type": "code",
   "metadata": {
    "ExecuteTime": {
     "end_time": "2025-03-01T05:02:09.938788Z",
     "start_time": "2025-03-01T04:05:37.731768Z"
    }
   },
   "source": [
    "n_conjugated = 4\n",
    "alpha = -2\n",
    "beta = -1\n",
    "topology = np.zeros((n_conjugated,n_conjugated))\n",
    "diagonal = np.ones(n_conjugated)*alpha\n",
    "offdiagonal = np.ones(n_conjugated-1)*beta\n",
    "topology = topology + np.diag(diagonal,0) + np.diag(offdiagonal,1) + np.diag(offdiagonal,-1)\n",
    "print(topology)"
   ],
   "outputs": [
    {
     "name": "stdout",
     "output_type": "stream",
     "text": [
      "[[-2. -1.  0.  0.]\n",
      " [-1. -2. -1.  0.]\n",
      " [ 0. -1. -2. -1.]\n",
      " [ 0.  0. -1. -2.]]\n"
     ]
    }
   ],
   "execution_count": 196
  },
  {
   "attachments": {},
   "cell_type": "markdown",
   "metadata": {},
   "source": [
    "which corresponds to the following orbital energies and coefficients"
   ]
  },
  {
   "cell_type": "code",
   "metadata": {
    "ExecuteTime": {
     "end_time": "2025-03-01T05:02:09.938915Z",
     "start_time": "2025-03-01T04:05:39.581339Z"
    }
   },
   "source": [
    "eigenvalues,eigenvectors=np.linalg.eig(topology)\n",
    "print(eigenvalues)"
   ],
   "outputs": [
    {
     "name": "stdout",
     "output_type": "stream",
     "text": [
      "[-3.61803399 -2.61803399 -0.38196601 -1.38196601]\n"
     ]
    }
   ],
   "execution_count": 197
  },
  {
   "attachments": {},
   "cell_type": "markdown",
   "metadata": {},
   "source": [
    "You can note that the energies above are all different from the starting energy of the $p_z$ orbitals, which was arbitrary set to $-200\\;kcal/mol$. For this kind of Hamiltonians, the eigenvalues can be expressed with an analytical formula $E_j=\\alpha+2\\beta\\cos\\left(\\frac{\\pi}{N+1}J\\right)$, with $J=1,2,\\dots ,N$. For longer conjugated chains, assuming that we have one electron for each atomic orbital (so number of electrons is $N$ and only the first $N/2$ orbitals are filled), we can estimate the energy difference associated with the absorption maximum as $\\Delta E=-4\\beta\\sin\\left(\\frac{\\pi}{2}\\frac{1}{N+1}\\right)$. When accounting for the different units, this energy corresponds to a wavelenght of $\\lambda^{HMO}=-\\frac{28585\\;(kcal/mol)}{2\\pi\\beta\\;(kcal/mol)}N$. As for the free electron model, the Huckel Molecular Orbital approach predicts an absorption wavelength that is linear in the number of conjugated centers. The tunable parameter in this case is the $\\beta$ constant. "
   ]
  },
  {
   "attachments": {},
   "cell_type": "markdown",
   "metadata": {},
   "source": [
    "However, the Huckel model can be automatically extended to account for the aromatic rings and it can, with additional parameters, be extended to include heteroatoms. For example, it is worth looking at the results of the Huckel model for a benzene molecule."
   ]
  },
  {
   "cell_type": "code",
   "metadata": {
    "ExecuteTime": {
     "end_time": "2025-03-01T05:02:09.939064Z",
     "start_time": "2025-03-01T04:05:41.972078Z"
    }
   },
   "source": [
    "n_conjugated = 6\n",
    "alpha = -2.\n",
    "beta = -1.\n",
    "topology = np.zeros((n_conjugated,n_conjugated))\n",
    "diagonal = np.ones(n_conjugated)*alpha\n",
    "offdiagonal = np.ones(n_conjugated-1)*beta\n",
    "topology[0,n_conjugated-1]=beta\n",
    "topology[n_conjugated-1,0]=beta\n",
    "topology = topology + np.diag(diagonal,0) + np.diag(offdiagonal,1) + np.diag(offdiagonal,-1)\n",
    "print(topology)"
   ],
   "outputs": [
    {
     "name": "stdout",
     "output_type": "stream",
     "text": [
      "[[-2. -1.  0.  0.  0. -1.]\n",
      " [-1. -2. -1.  0.  0.  0.]\n",
      " [ 0. -1. -2. -1.  0.  0.]\n",
      " [ 0.  0. -1. -2. -1.  0.]\n",
      " [ 0.  0.  0. -1. -2. -1.]\n",
      " [-1.  0.  0.  0. -1. -2.]]\n"
     ]
    }
   ],
   "execution_count": 198
  },
  {
   "attachments": {},
   "cell_type": "markdown",
   "metadata": {},
   "source": [
    "Note that in the following we re-order the results of the eigenvalue problem so that we can see the states in order of their energies (from the largest less stable to the smallest more stable)"
   ]
  },
  {
   "cell_type": "code",
   "metadata": {
    "ExecuteTime": {
     "end_time": "2025-03-01T05:02:09.943138Z",
     "start_time": "2025-03-01T04:05:43.929652Z"
    }
   },
   "source": [
    "eigenvalues,eigenvectors=np.linalg.eig(topology)\n",
    "idx = eigenvalues.argsort()[::-1]\n",
    "eigenvalues = eigenvalues[idx]\n",
    "eigenvectors = eigenvectors[:,idx]"
   ],
   "outputs": [],
   "execution_count": 199
  },
  {
   "attachments": {},
   "cell_type": "markdown",
   "metadata": {},
   "source": [
    "We can use matplotlib to visualize the coefficients in terms of their signs and magnitudes as follows."
   ]
  },
  {
   "cell_type": "code",
   "metadata": {
    "ExecuteTime": {
     "end_time": "2025-03-01T05:02:09.944047Z",
     "start_time": "2025-03-01T04:05:48.565157Z"
    }
   },
   "source": [
    "from matplotlib.colors import BoundaryNorm\n",
    "bounds = np.arange(np.min(eigenvectors),np.max(eigenvectors),.05)\n",
    "cmap = plt.get_cmap('seismic')\n",
    "idx=np.searchsorted(bounds,0)\n",
    "bounds=np.insert(bounds,idx,0)\n",
    "norm = BoundaryNorm(bounds, cmap.N)\n",
    "plt.imshow(eigenvectors,interpolation='none',norm=norm,cmap=cmap)\n",
    "plt.colorbar()\n",
    "plt.show()\n"
   ],
   "outputs": [
    {
     "data": {
      "text/plain": [
       "<Figure size 640x480 with 2 Axes>"
      ],
      "image/png": "[encoded data removed]"
     },
     "metadata": {},
     "output_type": "display_data"
    }
   ],
   "execution_count": 200
  },
  {
   "attachments": {},
   "cell_type": "markdown",
   "metadata": {},
   "source": [
    "If you have time, you could try to build a topology matrix for a few of the molecules involved in the experiments and compare the HOMO-LUMO energy difference with the formula reported above for a linear conjugated chain."
   ]
  }
 ],
 "metadata": {
  "kernelspec": {
   "display_name": "Python 3",
   "language": "python",
   "name": "python3"
  },
  "language_info": {
   "codemirror_mode": {
    "name": "ipython",
    "version": 3
   },
   "file_extension": ".py",
   "mimetype": "text/x-python",
   "name": "python",
   "nbconvert_exporter": "python",
   "pygments_lexer": "ipython3"
  },
  "vscode": {
   "interpreter": {
    "hash": "949777d72b0d2535278d3dc13498b2535136f6dfe0678499012e853ee9abcab1"
   }
  }
 },
 "nbformat": 4,
 "nbformat_minor": 2
}
