{
 "cells": [
  {
   "cell_type": "markdown",
   "metadata": {},
   "source": [
    "Student's Name and Email Address\n",
    "\n",
    "Boise State University, Department of Chemistry and Biochemistry"
   ]
  },
  {
   "cell_type": "markdown",
   "metadata": {},
   "source": [
    "## CHEM 324: PChem Lab {-}\n",
    "# Worksheet 3: Transient Absorption Spectroscopy {-}"
   ]
  },
  {
   "cell_type": "code",
   "metadata": {
    "ExecuteTime": {
     "end_time": "2025-03-28T23:54:46.304174Z",
     "start_time": "2025-03-28T23:54:46.300890Z"
    }
   },
   "source": [
    "# @title Notebook Setup { display-mode: \"form\" }\n",
    "# Import the main modules used in this worksheet\n",
    "import numpy as np\n",
    "import matplotlib.pyplot as plt\n",
    "import pandas as pd\n",
    "import scipy\n",
    "from sklearn.linear_model import LinearRegression\n",
    "\n",
    "\n",
    "# The following needs to be the path of the folder with all your datafile in .csv format\n",
    "base_path = '/Users/School/PycharmProjects/PChemLab/ModelingData/'"
   ],
   "outputs": [],
   "execution_count": 82
  },
  {
   "cell_type": "code",
   "metadata": {
    "ExecuteTime": {
     "end_time": "2025-03-28T23:54:46.335541Z",
     "start_time": "2025-03-28T23:54:46.333649Z"
    }
   },
   "source": [
    "# @title Set Local Path { display-mode: \"form\" }\n",
    "# The following needs to be the path of the folder with all your collected data in .csv format\n",
    "# @param {type:\"string\"}\n",
    "path = \"/Users/School/PycharmProjects/PChemLab/TA_Data/Transient_Absorption/\""
   ],
   "outputs": [],
   "execution_count": 83
  },
  {
   "cell_type": "code",
   "metadata": {
    "ExecuteTime": {
     "end_time": "2025-03-28T23:54:46.345287Z",
     "start_time": "2025-03-28T23:54:46.341243Z"
    }
   },
   "source": [
    "# @title Functions to load the data { display-mode: \"form\" }\n",
    "def load_data_to_file_dict(file_dict):\n",
    "    \"\"\"\n",
    "    Load a Transient Absorption Spectroscopy .csv file. \n",
    "    The format of the file should have one row of header, semicolon as separator, and colon as decimal separator\n",
    "\n",
    "    Input variables:\n",
    "        file_dict : a dictionary with 'path' and 'name' keys corresponding to the file to be loaded\n",
    "    \n",
    "    Action: \n",
    "        Add to file_dict a Pandas DataFrame with multiple columns: Laser Delay (in nanoseconds)\n",
    "        and one column for each TA run in units of mOD\n",
    "    \"\"\"\n",
    "    data = pd.read_csv(file_dict['path']+file_dict['name'],sep=';',decimal='.')\n",
    "    file_dict['data'] = data\n",
    "    return\n",
    "\n",
    "def plot_file_dict(file_dict, yaxis = 'all'):\n",
    "    \"\"\" \n",
    "    Given a file dictionary, plot one of the transient absorption curves (or the average)\n",
    "    versus the laser delay\n",
    "    \"\"\"\n",
    "    if not ('data' in file_dict): \n",
    "        load_data_to_file_dict(file_dict)\n",
    "    if yaxis == 'all':\n",
    "        for column in file_dict['data'].columns:\n",
    "            if column == 'Laser Delay [ns]' : continue\n",
    "            plt.plot(file_dict['data']['Laser Delay [ns]'],file_dict['data'][column],label=column)\n",
    "    else : \n",
    "        if yaxis in file_dict['data'].columns:\n",
    "            plt.plot(file_dict['data']['Laser Delay [ns]'],file_dict['data'][yaxis],label=yaxis)\n",
    "        else:\n",
    "            print('ERROR: specified yaxis is not in the read data')\n",
    "    plt.ylabel('Transient Absorption [mOD]')\n",
    "    plt.xlabel('Laser Delay [ns]')\n",
    "    plt.legend()\n",
    "    plt.show()\n",
    "\n",
    "def plot_file_list(file_list,yaxis = 'TA1 [mOD]'):\n",
    "    \"\"\"\n",
    "    Given a list of dictionary files, plot one of the transient absorption curves (or the average)\n",
    "    versus the laser delay for each of the files\n",
    "    \"\"\"\n",
    "    #\n",
    "    fig, ax = plt.subplots()\n",
    "    #\n",
    "    for file_dict in file_list : \n",
    "        (file_dict)\n",
    "        plt.plot(file_dict['data']['Laser Delay [ns]'],file_dict['data'][yaxis],label=file_dict['label'])\n",
    "    plt.ylabel('Transient Absorption [mOD]')\n",
    "    plt.xlabel('Laser Delay [ns]')\n",
    "    plt.legend()\n",
    "    plt.show()"
   ],
   "outputs": [],
   "execution_count": 84
  },
  {
   "cell_type": "code",
   "metadata": {
    "ExecuteTime": {
     "end_time": "2025-03-28T23:54:46.367698Z",
     "start_time": "2025-03-28T23:54:46.363439Z"
    }
   },
   "source": [
    "# @title Utilities to analyze the data { display-mode: \"form\" }\n",
    "def exponential(t, a, tau, o):\n",
    "    \"\"\" \n",
    "    Function that returns an exponentially decaying function plus offset\n",
    "    f(t) = o + a*e^(-t/tau)\n",
    "\n",
    "    input variables\n",
    "    t: input value (units of time)\n",
    "    a: amplitude (units of absorbance or concentration)\n",
    "    tau: lifetime (units of time)\n",
    "    o: offset (units of absorbance or concentration)\n",
    "    \"\"\"\n",
    "    if tau < 1.e-10 : \n",
    "        print('ERROR: choose a value of tau greater than zero')\n",
    "        return 0.\n",
    "    return a * np.exp(-t/tau) + o\n",
    "\n",
    "def fit_ta_data(file_dict, yaxis = 'TA1 [mOD]', verbose = False, semilog = False):\n",
    "    \"\"\" \n",
    "    Perform the fit of transient absorption decay curves using an exponential \n",
    "    functions plus offset. \n",
    "\n",
    "    Input parameters: \n",
    "    file_dict: a dictionary with information on the file with the data (path and name) and\n",
    "               adjustable parameters related to the fit:\n",
    "               time_skip : initial transient regime to remove from the fit\n",
    "               C0_guess, k_guess, offset_guess: starting guess of fitting parameters\n",
    "    yaxis : the column of the dataframe to use for the fit\n",
    "    verbose : if True plot the filtered data and the corresponding fit\n",
    "    semilog : if True, plot in semilogy scale\n",
    "\n",
    "    Action: \n",
    "           Filter the data by removing the initial time_skip part of the curve\n",
    "           Fit according to an exponential decay\n",
    "           Save the optimized values of the parameters and their standard errors in file_dict\n",
    "           Save the fitted curve in the file_dict['data'] DataFrame\n",
    "    \"\"\"   \n",
    "    if not ('data' in file_dict): \n",
    "        load_data_to_file_dict(file_dict)\n",
    "    xaxis = 'Laser Delay [ns]'\n",
    "        \n",
    "    file_dict['filtered_data'] = file_dict['data'][file_dict['data']['Laser Delay [ns]']>file_dict['time_skip']].copy()\n",
    "    x = file_dict['filtered_data'][xaxis]\n",
    "    y = file_dict['filtered_data'][yaxis]\n",
    "\n",
    "    funct = exponential\n",
    "    p0 = (file_dict['DA0_guess'],file_dict['tau_guess'],file_dict['offset_guess'])\n",
    "    params, cv = scipy.optimize.curve_fit(funct,x,y,p0)\n",
    "\n",
    "    file_dict['DA0'] = params[0]\n",
    "    file_dict['DA0_SE'] = np.sqrt(cv[0,0])\n",
    "    file_dict['tau'] = params[1]\n",
    "    file_dict['tau_SE'] = np.sqrt(cv[1,1])\n",
    "    file_dict['offset'] = params[2] \n",
    "    file_dict['offset_SE'] = np.sqrt(cv[2,2])\n",
    "\n",
    "    file_dict['filtered_data']['TA_fitted'] = funct(x,params[0],params[1],params[2])\n",
    "\n",
    "    if verbose :\n",
    "        if semilog :\n",
    "            plt.semilogy(x,y,label=yaxis)\n",
    "            plt.semilogy(x,funct(x,params[0],params[1],params[2]),label='Fit')\n",
    "        else :\n",
    "            plt.plot(x,y,label=yaxis)\n",
    "            plt.plot(x,funct(x,params[0],params[1],params[2]),label='Fit')\n",
    "        plt.ylabel('Transient Absorption [mOD]')\n",
    "        plt.xlabel('Laser Delay [ns]')\n",
    "        plt.legend()\n",
    "        plt.show()"
   ],
   "outputs": [],
   "execution_count": 85
  },
  {
   "cell_type": "markdown",
   "metadata": {},
   "source": [
    "The functions below are incomplete and will need to be completed by the student."
   ]
  },
  {
   "cell_type": "code",
   "metadata": {
    "ExecuteTime": {
     "end_time": "2025-03-28T23:54:46.389026Z",
     "start_time": "2025-03-28T23:54:46.386185Z"
    }
   },
   "source": [
    "def calc_average_TA(file_dict):\n",
    "    \"\"\"\n",
    "    Average all the TA runs recorded in a TA .csv file.\n",
    "\n",
    "    Input variables:\n",
    "        file_dict : a dictionary with 'path' and 'name' keys corresponding to the file to be loaded\n",
    "    \n",
    "    Action: \n",
    "        Create a new column in the file_dict['data'] component of the input with the average\n",
    "        of the TA runs recorded in the file\n",
    "    \"\"\"\n",
    "    if not ('data' in file_dict): \n",
    "        load_data_to_file_dict(file_dict)\n",
    "    columns = file_dict['data'].columns.drop('Laser Delay [ns]')\n",
    "    if 'TAaverage' in file_dict['data'].columns: \n",
    "        columns = columns.drop('TAaverage')\n",
    "    # the variable columns is a list that contains the columns of the dataframe you need to average\n",
    "    file_dict['data']['TAaverage'] = file_dict['data'][columns].mean(axis=1)\n",
    "    return\n",
    "\n",
    "def calc_max_TA(file_dict):\n",
    "    \"\"\"\n",
    "    Given a file dictionary with the average TA, find the maximum value of the transient absorption \n",
    "    and the Laser Delay at which this value occurs\n",
    "\n",
    "    Input variables:\n",
    "        file_dict : a dictionary with 'path' and 'name' keys corresponding to the file to be loaded\n",
    "    \n",
    "    Action: \n",
    "        \n",
    "    \"\"\"\n",
    "    if not ('data' in file_dict): \n",
    "        load_data_to_file_dict(file_dict)\n",
    "    if not ('TAaverage' in file_dict['data'].columns): \n",
    "        calc_average_TA(file_dict)\n",
    "\n",
    "\n",
    "    max_index = file_dict['data']['TAaverage'].idxmax()\n",
    "\n",
    "\n",
    "    file_dict['TAmax'] = file_dict['data']['TAaverage'].iloc[max_index]\n",
    "    file_dict['LD_TAmax'] = file_dict['data']['Laser Delay [ns]'].iloc[max_index]\n",
    "    return"
   ],
   "outputs": [],
   "execution_count": 86
  },
  {
   "cell_type": "markdown",
   "metadata": {},
   "source": [
    "## Task 1: Average of TA Spectra {-}"
   ]
  },
  {
   "cell_type": "markdown",
   "metadata": {},
   "source": [
    "* Visualize the chemical structures of ZnTPP (CAS 14074-80-7) and comment on why this molecule is absorbing in the visible.\n",
    "* Load the TA spectra for the first concentration of ZnTPP into a Pandas DataFrame. Average the scans and save them as an extra column in the DataFrame. \n",
    "* Plot the different TA spectra for the first concentration of ZnTPP together with the averaged spectra. You will need to present one figure containing all scans and the averaged one. "
   ]
  },
  {
   "cell_type": "code",
   "metadata": {
    "ExecuteTime": {
     "end_time": "2025-03-28T23:54:46.409511Z",
     "start_time": "2025-03-28T23:54:46.407532Z"
    }
   },
   "source": [
    "file1 = {'path':path, 'name':'TA_traces.csv', 'label':'Run1', '[ZnTPP]': 0.2, '[C70]':0., 'time_skip':0, 'DA0_guess':1., 'tau_guess':1., 'offset_guess':0.}"
   ],
   "outputs": [],
   "execution_count": 87
  },
  {
   "cell_type": "markdown",
   "metadata": {},
   "source": [
    "## Task 2: TA Spectra for Varying ZnTPP Concentrations {-}"
   ]
  },
  {
   "cell_type": "markdown",
   "metadata": {},
   "source": [
    "* Load and average the TA spectra for the different ZnTPP concentrations. Explicitly report all the constants and/or known experimental values that you will need in your following analyses. "
   ]
  },
  {
   "cell_type": "code",
   "metadata": {
    "ExecuteTime": {
     "end_time": "2025-03-28T23:54:46.437357Z",
     "start_time": "2025-03-28T23:54:46.427009Z"
    }
   },
   "source": [
    "file1 = {'path': path, 'name': 'BZ08_JDG.csv', 'label': 'BZ08 (0.8 mM ZnTPP)', '[ZnTPP]': 0.8, '[C70]': 0.0, 'time_skip': 0, 'DA0_guess': 1., 'tau_guess': 10., 'offset_guess': 0.}\n",
    "file2 = {'path': path, 'name': 'BZ04_JGD.csv', 'label': 'BZ04 (0.4 mM ZnTPP)', '[ZnTPP]': 0.4, '[C70]': 0.0, 'time_skip': 0, 'DA0_guess': 1., 'tau_guess': 10., 'offset_guess': 0.}\n",
    "file3 = {'path': path, 'name': 'BZ02_JGD.csv', 'label': 'BZ02 (0.2 mM ZnTPP)', '[ZnTPP]': 0.2, '[C70]': 0.0, 'time_skip': 0, 'DA0_guess': 1., 'tau_guess': 10., 'offset_guess': 0.}\n",
    "file4 = {'path': path, 'name': 'BZC1_JDG.csv', 'label': 'BZC1 (0.4 mM ZnTPP, 0.4 mM C70)', '[ZnTPP]': 0.4, '[C70]': 0.4, 'time_skip': 0, 'DA0_guess': 1., 'tau_guess': 10., 'offset_guess': 0.}\n",
    "file5 = {'path': path, 'name': 'BZC05_JGD.csv', 'label': 'BZC05 (0.4 mM ZnTPP, 0.2 mM C70)', '[ZnTPP]': 0.4, '[C70]': 0.2, 'time_skip': 0, 'DA0_guess': 1., 'tau_guess': 10., 'offset_guess': 0.}\n",
    "file6 = {'path': path, 'name': 'BZC01_JGD.csv', 'label': 'BZC01 (0.4 mM ZnTPP, 0.04 mM C70)', '[ZnTPP]': 0.4, '[C70]': 0.04, 'time_skip': 0, 'DA0_guess': 1., 'tau_guess': 10., 'offset_guess': 0.}\n",
    "\n",
    "experiment1 = [file1, file2, file3, file4, file5, file6]\n",
    "\n",
    "# Calculate the average of each file in the list\n",
    "for file in experiment1:\n",
    "    calc_average_TA(file)"
   ],
   "outputs": [],
   "execution_count": 88
  },
  {
   "cell_type": "markdown",
   "metadata": {},
   "source": [
    "* Plot the averaged TA spectra for the different ZnTPP concentrations. "
   ]
  },
  {
   "cell_type": "code",
   "metadata": {
    "ExecuteTime": {
     "end_time": "2025-03-28T23:54:46.453968Z",
     "start_time": "2025-03-28T23:54:46.452085Z"
    }
   },
   "source": [
    "# You may want to use the function plot_file_list() and specify to plot the column with the average TA"
   ],
   "outputs": [],
   "execution_count": 89
  },
  {
   "cell_type": "markdown",
   "metadata": {},
   "source": [
    "* What effects on the signal do you observe for different concentrations?\n",
    "* How can those effects be explained by setup parameters and/or reaction chemistry? "
   ]
  },
  {
   "cell_type": "markdown",
   "metadata": {},
   "source": [
    "## Task 3: Max Signal and Time Constants for Varying ZnTPP Concentrations {-}"
   ]
  },
  {
   "cell_type": "markdown",
   "metadata": {},
   "source": [
    "* For each averaged TA spectra, compute the maximum transient absorption and the delay at which it occurs."
   ]
  },
  {
   "cell_type": "code",
   "metadata": {
    "ExecuteTime": {
     "end_time": "2025-03-28T23:54:46.471298Z",
     "start_time": "2025-03-28T23:54:46.469138Z"
    }
   },
   "source": [
    "# the following loop will compute the maximum of each averaged TA spectrum and the delay at which it occurs\n",
    "# NOTE: this function is incomplete and will need you to implement the actual calculations\n",
    "for file in experiment1:\n",
    "    calc_max_TA(file)"
   ],
   "outputs": [],
   "execution_count": 90
  },
  {
   "cell_type": "markdown",
   "metadata": {},
   "source": [
    "* Fit the portion of the averaged TA spectra after the peak with an exponential curve with a vertical offset."
   ]
  },
  {
   "cell_type": "code",
   "metadata": {
    "ExecuteTime": {
     "end_time": "2025-03-28T23:54:46.538358Z",
     "start_time": "2025-03-28T23:54:46.486288Z"
    }
   },
   "source": [
    "# the following loop will compute the maximum of each averaged TA spectrum and the delay at which it occurs\n",
    "# NOTE: for this function to work you need to have the correct TAaverage column in your data (from Task 1)\n",
    "for file in experiment1:\n",
    "    fit_ta_data(file,yaxis='TAaverage')"
   ],
   "outputs": [
    {
     "name": "stdout",
     "output_type": "stream",
     "text": [
      "ERROR: choose a value of tau greater than zero\n",
      "ERROR: choose a value of tau greater than zero\n",
      "ERROR: choose a value of tau greater than zero\n",
      "ERROR: choose a value of tau greater than zero\n",
      "ERROR: choose a value of tau greater than zero\n",
      "ERROR: choose a value of tau greater than zero\n"
     ]
    }
   ],
   "execution_count": 91
  },
  {
   "cell_type": "markdown",
   "metadata": {},
   "source": [
    "* Report a table with the quantities computed above."
   ]
  },
  {
   "cell_type": "code",
   "metadata": {
    "ExecuteTime": {
     "end_time": "2025-03-28T23:54:46.563331Z",
     "start_time": "2025-03-28T23:54:46.558897Z"
    }
   },
   "source": [
    "# assuming that you have succesfully completed the steps above, you can convert your list of files into a dataframe\n",
    "# which should contain columns with the quantities computed above\n",
    "experiment1_data = pd.DataFrame(experiment1)\n",
    "experiment1_data[['[ZnTPP]','TAmax','LD_TAmax','tau','offset']].to_markdown()"
   ],
   "outputs": [
    {
     "data": {
      "text/plain": [
       "'|    |   [ZnTPP] |   TAmax |   LD_TAmax |        tau |    offset |\\n|---:|----------:|--------:|-----------:|-----------:|----------:|\\n|  0 |       0.8 | 30.0915 |        120 | 1176.12    | -0.205455 |\\n|  1 |       0.4 | 20.0212 |        120 | 1292.02    | -0.186473 |\\n|  2 |       0.2 | 14.6963 |        120 |    1.44326 |  3.15617  |\\n|  3 |       0.4 | 20.7989 |        120 |  797.618   |  2.55194  |\\n|  4 |       0.4 | 24.9145 |        120 |  977.498   |  1.26345  |\\n|  5 |       0.4 | 26.8297 |        120 | 1198.6     | -0.226051 |'"
      ]
     },
     "execution_count": 92,
     "metadata": {},
     "output_type": "execute_result"
    }
   ],
   "execution_count": 92
  },
  {
   "cell_type": "markdown",
   "metadata": {},
   "source": [
    "* Is the single exponential fit adequate? Is a Y-axis offset needed as a free fit parameter?"
   ]
  },
  {
   "cell_type": "markdown",
   "metadata": {},
   "source": [
    "YOUR COMMENTS HERE"
   ]
  },
  {
   "cell_type": "markdown",
   "metadata": {},
   "source": [
    "* Are there any trends in the maximum TA, delay of the peak, and lifetime? Briefly comment on possible explanations for trends or lack of them. "
   ]
  },
  {
   "cell_type": "markdown",
   "metadata": {},
   "source": [
    "YOUR COMMENTS HERE"
   ]
  },
  {
   "cell_type": "markdown",
   "metadata": {},
   "source": [
    "## Task 4: Lifetime and Offset for Varying C70 Concentrations {-}"
   ]
  },
  {
   "cell_type": "markdown",
   "metadata": {},
   "source": [
    "* Load and average the TA spectra for the different C70 concentrations. Explicitly report all the constants and/or known experimental values that you will need in your following analyses. "
   ]
  },
  {
   "cell_type": "markdown",
   "metadata": {},
   "source": [
    "\n",
    "* Plot the averaged TA spectra for the different C70 concentrations. "
   ]
  },
  {
   "cell_type": "markdown",
   "metadata": {},
   "source": [
    "* Fit each averaged TA spectra with an expontial curve plus Y-offset (similar to the task before). Report the maximum TA, lifetime, and offset for the different C70 \n",
    "concentrations.\n",
    "* Is the Y-offset important for these experiments? Give a brief explanation of its origin. "
   ]
  },
  {
   "cell_type": "markdown",
   "metadata": {},
   "source": [
    "* Perform a linear fit of the inverse lifetimes (a.k.a. the effective reaction constants) as a function of the concentration of C70. \n",
    "* From the slope of the linear fit, compute the reaction constant $k_q$ and report it using the correct units."
   ]
  },
  {
   "cell_type": "code",
   "metadata": {
    "ExecuteTime": {
     "end_time": "2025-03-28T23:54:46.585240Z",
     "start_time": "2025-03-28T23:54:46.583434Z"
    }
   },
   "source": [
    "# This cell is used to allow Google Colab to install the tools to convert the notebook to a pdf file\n",
    "# Un-comment the following lines when you are ready to export the pdf \n",
    "#!apt-get install texlive texlive-xetex texlive-latex-extra pandoc\n",
    "#!pip install pypandoc"
   ],
   "outputs": [],
   "execution_count": 93
  },
  {
   "cell_type": "code",
   "metadata": {
    "ExecuteTime": {
     "end_time": "2025-03-28T23:54:46.606891Z",
     "start_time": "2025-03-28T23:54:46.605091Z"
    }
   },
   "source": [
    "# Use this command to convert the finished worksheet into a pdf \n",
    "# NOTE : you may want to change the path of the file, if you are working in a different folder of the Google Drive\n",
    "#!jupyter nbconvert --no-input --to PDF \"/content/drive/MyDrive/Colab Notebooks/TA_Worksheet.ipynb\""
   ],
   "outputs": [],
   "execution_count": 94
  }
 ],
 "metadata": {
  "kernelspec": {
   "display_name": "Python 3",
   "language": "python",
   "name": "python3"
  },
  "language_info": {
   "codemirror_mode": {
    "name": "ipython",
    "version": 3
   },
   "file_extension": ".py",
   "mimetype": "text/x-python",
   "name": "python",
   "nbconvert_exporter": "python",
   "pygments_lexer": "ipython3",
   "version": "3.9.6"
  }
 },
 "nbformat": 4,
 "nbformat_minor": 2
}
