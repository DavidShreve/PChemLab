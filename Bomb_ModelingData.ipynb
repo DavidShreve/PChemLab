{
 "cells": [
  {
   "attachments": {},
   "cell_type": "markdown",
   "metadata": {},
   "source": [
    "Dr Oliviero Andreussi, olivieroandreuss@boisestate.edu\n",
    "\n",
    "Boise State University, Department of Chemistry and Biochemistry"
   ]
  },
  {
   "attachments": {},
   "cell_type": "markdown",
   "metadata": {},
   "source": [
    "# Fitting and Data Analysis for the Bomb Calorimetry Experiment {-}"
   ]
  },
  {
   "cell_type": "markdown",
   "metadata": {},
   "source": [
    "## Preliminary Setup {-}"
   ]
  },
  {
   "attachments": {},
   "cell_type": "markdown",
   "metadata": {},
   "source": [
    "Before we start, let us import the main modules that we will need for this lecture. You may see some new modules in the list below, we will add more details in the right sections."
   ]
  },
  {
   "cell_type": "code",
   "metadata": {
    "ExecuteTime": {
     "end_time": "2025-04-21T02:58:39.482096Z",
     "start_time": "2025-04-21T02:58:39.478988Z"
    }
   },
   "source": [
    "# @title Notebook Setup { display-mode: \"form\" }\n",
    "# Import the main modules used in this worksheet\n",
    "import numpy as np\n",
    "import matplotlib.pyplot as plt\n",
    "import pandas as pd\n",
    "from sklearn.linear_model import LinearRegression\n",
    "\n",
    "\n",
    "# The following needs to be the path of the folder with all your datafile in .csv format\n",
    "base_path = '/Users/School/PycharmProjects/PChemLab/Bomb_Data/Bomb Cal'"
   ],
   "outputs": [],
   "execution_count": 96
  },
  {
   "cell_type": "markdown",
   "metadata": {},
   "source": [
    "The following functions have been developed to help you load and visualize the bomb calorimetry data. You do not need to understand how these functions work now, we will cover it step by step later on."
   ]
  },
  {
   "cell_type": "code",
   "metadata": {
    "ExecuteTime": {
     "end_time": "2025-04-21T02:58:39.497164Z",
     "start_time": "2025-04-21T02:58:39.491884Z"
    }
   },
   "source": [
    "# @title Functions to load the data { display-mode: \"form\" }\n",
    "\n",
    "def get_sec(time_str):\n",
    "    \"\"\"\n",
    "    Convert a time string in HH:MM:SS format into an integer number of seconds\n",
    "    \n",
    "    Input variables:\n",
    "        time_str : a string with a time in HH:MM:SS format\n",
    "\n",
    "    Output:\n",
    "        time : the integer number of seconds corresponding to the input time_str\n",
    "    \"\"\"\n",
    "    h, m, s = time_str.split(':')\n",
    "    return int(h) * 3600 + int(m) * 60 + int(s)\n",
    "\n",
    "def load_data_to_file_dict(file_dict):\n",
    "    \"\"\"\n",
    "    Load a bomb calorimetry .csv file. \n",
    "    The format of the file should have the first column with time in HH:MM:SS format and \n",
    "    the second column with the recorded temperature. Any additional column is discarded\n",
    "\n",
    "    Input variables:\n",
    "        file_dict : a dictionary with 'path' and 'name' keys corresponding to the file to be loaded\n",
    "    \n",
    "    Action: \n",
    "        Add to file_dict a Pandas DataFrame with two columns: time (in seconds) and temperature (in input units)   \n",
    "    \"\"\"\n",
    "    data = pd.read_csv(file_dict['path']+file_dict['name'],usecols=(0,1),names=['hh:mm:ss','temperature'])\n",
    "    data['time'] = data['hh:mm:ss'].apply(get_sec)\n",
    "    data = data.drop(columns=['hh:mm:ss'])\n",
    "    file_dict['data'] = data\n",
    "    return\n",
    "\n",
    "def load_data_to_file_list(file_list):\n",
    "    \"\"\"\n",
    "    Given a list of dictionary files, recursively use load_data_to_file_dict to load the data into each of the dictionaries\n",
    "\n",
    "    Input variables:\n",
    "        file_list : a list of dictionary files, each with 'path' and 'name' keys corresponding to the file to be loaded\n",
    "    \n",
    "    Action: \n",
    "        Add to each file_dict a Pandas DataFrame with two columns: time (in seconds) and temperature (in input units)   \n",
    "    \"\"\"\n",
    "    for f in file_list : \n",
    "        if not ('data' in f): load_data_to_file_dict(f)\n",
    "    return\n",
    "\n",
    "def plot_file_dict(file_dict):\n",
    "    \"\"\"\n",
    "    Given a dictionary file of a bomb calorimetry experiment, plot temperature vs. time.\n",
    "\n",
    "    Input variables:\n",
    "        file_dict : a dictionary file with 'path' and 'name' keys corresponding to the file to be loaded\n",
    "    \n",
    "    Action: \n",
    "        Plot temperature vs. time for the selected file \n",
    "    \"\"\"\n",
    "    fig, ax = plt.subplots()\n",
    "    if not ('data' in file_dict): \n",
    "        load_data_to_file_dict(f)\n",
    "    file_dict['data'].plot('time','temperature',label=file_dict['name'],ax=ax)\n",
    "    plt.xlabel('Time (s)')\n",
    "    plt.ylabel(r'Temperature ($^{\\circ}$C)')\n",
    "    plt.show()\n",
    "\n",
    "def plot_by_key(file_list,key='',value=['']):\n",
    "    \"\"\"\n",
    "    Given a list of dictionary files, plot temperature vs. time for each file into the same plot.\n",
    "    If key/value are specified, only plot the files for which the key has the specified value.\n",
    "\n",
    "    Input variables:\n",
    "        file_list : a list of dictionary files, each with 'path' and 'name' keys corresponding to the file to be loaded\n",
    "        key: a string with the name of the key to shortlist the files\n",
    "        value: the value of the key used to select the shortlist of files\n",
    "    \n",
    "    Action: \n",
    "        Plot temperature vs. time for the selected files  \n",
    "    \"\"\"\n",
    "    if value == '' or key == '':\n",
    "        file_shortlist = file_list\n",
    "    else :\n",
    "        file_shortlist = [f for f in file_list if f[key] in value ]\n",
    "    fig, ax = plt.subplots()\n",
    "    for f in file_shortlist : \n",
    "        if not ('data' in f): \n",
    "            load_data_to_file_dict(f)\n",
    "        f['data'].plot('time','temperature',label=f['name'],ax=ax)\n",
    "    plt.xlabel('Time (s)')\n",
    "    plt.ylabel(r'Temperature ($^{\\circ}$C)')\n",
    "    plt.show()"
   ],
   "outputs": [],
   "execution_count": 97
  },
  {
   "cell_type": "markdown",
   "metadata": {},
   "source": [
    "The following functions are designed to automate the identification of important points in the bomb calorimetry plots. You do not need to understand how these functions work now, we will cover it step by step later on."
   ]
  },
  {
   "cell_type": "code",
   "metadata": {
    "ExecuteTime": {
     "end_time": "2025-04-21T02:58:39.510241Z",
     "start_time": "2025-04-21T02:58:39.504728Z"
    }
   },
   "source": [
    "# @title Functions to automate the identification of special points { display-mode: \"form\" }\n",
    "\n",
    "def get_time_skip(file_dict,recursive = False):\n",
    "    if not ('data' in file_dict) :\n",
    "        load_data_to_file_dict(file_dict)\n",
    "    if file_dict['time_skip'] == 0 : \n",
    "        time_skip = 0\n",
    "    else:\n",
    "        time_skip = file_dict['time_skip']\n",
    "    data = file_dict['data']\n",
    "    clean_data = data[data['time']>time_skip]\n",
    "    if recursive :\n",
    "        return time_skip, clean_data\n",
    "    else :\n",
    "        return time_skip\n",
    "\n",
    "def get_time_ignition(file_dict,recursive = False):\n",
    "    time_skip, data = get_time_skip(file_dict,True)\n",
    "    if file_dict['time_ignition'] == 0:\n",
    "        temperatures=data['temperature'].values\n",
    "        times=data['time'].values\n",
    "        derivatives = np.zeros(temperatures.shape)\n",
    "        derivatives[1:-1] = np.convolve(temperatures,[1,-2,1],'same')[1:-1]\n",
    "        ignition_index = np.argmax(derivatives)\n",
    "        time_ignition = times[ignition_index-1]\n",
    "    else :\n",
    "        time_ignition = file_dict['time_ignition']\n",
    "    if recursive :\n",
    "        return time_skip, time_ignition, data\n",
    "    else :\n",
    "        return time_ignition\n",
    "\n",
    "def get_time_exponential(file_dict,recursive = False):\n",
    "    time_skip, time_ignition, data = get_time_ignition(file_dict, True)\n",
    "    if file_dict['time_exponential'] == 0:\n",
    "        times = data['time'].values\n",
    "        temperatures = data['temperature'].values\n",
    "        time_exponential = times[np.argmax(temperatures)]\n",
    "    else : \n",
    "        time_exponential = file_dict['time_exponential']\n",
    "    if recursive : \n",
    "        return time_skip, time_ignition, time_exponential, data\n",
    "    else :\n",
    "        return time_exponential\n",
    "\n",
    "def get_time_post(file_dict, recursive = False):\n",
    "    time_skip, time_ignition, time_exponential, data = get_time_exponential(file_dict, True)\n",
    "    if file_dict['time_post'] == 0 :\n",
    "        temperatures = data['temperature'].values\n",
    "        exponential_data = data.query('time > {} and time < {}'.format(time_ignition,time_exponential))\n",
    "        exponential_lr = LinearRegression()\n",
    "        exp_x = exponential_data['time'].values.reshape(-1,1)\n",
    "        exp_y = np.log(np.max(temperatures) - exponential_data['temperature'].values)\n",
    "        exponential_lr.fit(exp_x,exp_y)\n",
    "        rate = -exponential_lr.coef_[0]\n",
    "        time_post = time_ignition + 6/rate\n",
    "        if time_post > data['time'].iloc[-1] : \n",
    "            # if we overshoot time_post, just choose six points to fit the postignition linear drift\n",
    "            time_post = data['time'].iloc[-6]\n",
    "    else :\n",
    "        time_post = file_dict['time_post']\n",
    "    if recursive : \n",
    "        return time_skip, time_ignition, time_exponential, time_post, data\n",
    "    else :\n",
    "        return time_post"
   ],
   "outputs": [],
   "execution_count": 98
  },
  {
   "cell_type": "markdown",
   "metadata": {},
   "source": [
    "The following functions are designed to allow you to check if the data and the fits are reasonable. "
   ]
  },
  {
   "cell_type": "code",
   "metadata": {
    "ExecuteTime": {
     "end_time": "2025-04-21T02:58:39.520240Z",
     "start_time": "2025-04-21T02:58:39.513845Z"
    }
   },
   "source": [
    "# @title Functions to check your data { display-mode: \"form\" }\n",
    "\n",
    "def check_time_skip(file_dict):\n",
    "    time_skip, time_ignition, data = get_time_ignition(file_dict, True)\n",
    "    full_data = file_dict['data']\n",
    "    full_preignition_data = full_data[ full_data['time'] <= time_ignition ]\n",
    "    full_preignition_times = full_preignition_data['time'].values\n",
    "    full_preignition_temperatures = full_preignition_data['temperature'].values\n",
    "    preignition_data = data[data['time'] <= time_ignition]\n",
    "    preignition_lr = LinearRegression()\n",
    "    pre_x = preignition_data['time'].values.reshape(-1,1)\n",
    "    pre_y = preignition_data['temperature'].values\n",
    "    preignition_lr.fit(pre_x,pre_y)\n",
    "    preignition_temperatures_fit = preignition_lr.predict(full_preignition_times.reshape(-1,1))\n",
    "    preignition_score = preignition_lr.score(pre_x,pre_y)\n",
    "    plt.plot(full_preignition_times,full_preignition_temperatures)\n",
    "    plt.plot(full_preignition_times,preignition_temperatures_fit,color='r')\n",
    "    plt.plot(pre_x,pre_y,'o',color='r')\n",
    "    plt.ylabel(r'Temperature ($^{\\circ}$C)')\n",
    "    plt.xlabel('Time (s)')\n",
    "    return \"Given a time_skip of {}, the linear fit has a R2 of {}\".format(time_skip,preignition_score)\n",
    "\n",
    "def check_time_ignition(file_dict):\n",
    "    time_skip, time_ignition, data = get_time_ignition(file_dict, True)\n",
    "    data = file_dict['data']\n",
    "    time_step = data['time'].values[1]-data['time'].values[0]\n",
    "    temperature_ignition = data[data['time']==time_ignition]['temperature'].values[0]\n",
    "    preignition_data = data[ data['time'] < time_ignition + 4*time_step ]\n",
    "    preignition_times = preignition_data['time'].values\n",
    "    preignition_temperatures = preignition_data['temperature'].values\n",
    "    plt.plot(preignition_times,preignition_temperatures,'o-')\n",
    "    plt.ylabel(r'Temperature ($^{\\circ}$C)')\n",
    "    plt.xlabel('Time (s)')\n",
    "    plt.annotate('Estimated Ignition Time\\n t = {}'.format(time_ignition), xy=(time_ignition, temperature_ignition), xytext=(time_ignition-200, temperature_ignition+0.3),\n",
    "            arrowprops=dict(facecolor='black', shrink=0.05))\n",
    "    return\n",
    "\n",
    "def check_exponential_fit(file_dict, semilog=False):\n",
    "    time_skip, time_ignition, time_exponential, data = get_time_exponential(file_dict, True)\n",
    "    temperature_exponential = np.max(data['temperature'])\n",
    "    exponential_data = data.query('time > {} and time < {}'.format(time_ignition,time_exponential))\n",
    "    exponential_lr = LinearRegression()\n",
    "    exp_x = exponential_data['time'].values.reshape(-1,1)\n",
    "    exp_y = np.log(temperature_exponential - exponential_data['temperature'].values)\n",
    "    exponential_lr.fit(exp_x,exp_y)\n",
    "    exponential_score = exponential_lr.score(exp_x,exp_y)\n",
    "    rate = -exponential_lr.coef_[0]\n",
    "    if semilog :\n",
    "        plt.plot(exp_x,exp_y,'o')\n",
    "        plt.plot(exp_x,exponential_lr.predict(exp_x),'-')\n",
    "        plt.ylabel('Log(Tmax-T)')\n",
    "        plt.xlabel('Time (s)')\n",
    "    else:\n",
    "        plt.plot(exp_x,exponential_data['temperature'].values,'o')\n",
    "        plt.plot(exp_x,temperature_exponential-np.exp(exponential_lr.predict(exp_x)),'-')\n",
    "        plt.ylabel(r'Temperature ($^{\\circ}$C)')\n",
    "        plt.xlabel('Time (s)')\n",
    "    return \"Given a time_exponential of {} and a time_ignition of {}, the exponential fit has a R2 of {}\".format(time_exponential,time_ignition,exponential_score)\n",
    "\n",
    "def check_time_post(file_dict): \n",
    "    time_skip, time_ignition, time_exponential, time_post, data = get_time_post(file_dict, True)\n",
    "    postignition_data = data[ data['time'] > time_post ]\n",
    "    postignition_lr = LinearRegression()\n",
    "    post_x = postignition_data['time'].values.reshape(-1,1)\n",
    "    post_y = postignition_data['temperature'].values\n",
    "    postignition_lr.fit(post_x,post_y)\n",
    "    postignition_score = postignition_lr.score(post_x,post_y)\n",
    "    plt.plot(post_x,post_y,'o')\n",
    "    plt.plot(post_x,postignition_lr.predict(post_x))\n",
    "    plt.ylabel(r'Temperature ($^{\\circ}$C)')\n",
    "    plt.xlabel('Time (s)')\n",
    "    return \"Given a time_post of {}, the linear fit has a R2 of {}\".format(time_post,postignition_score)        "
   ],
   "outputs": [],
   "execution_count": 99
  },
  {
   "cell_type": "markdown",
   "metadata": {},
   "source": [
    "This is the main function that we will use to get the temperature jump for our experimental data."
   ]
  },
  {
   "cell_type": "code",
   "metadata": {
    "ExecuteTime": {
     "end_time": "2025-04-21T02:58:39.534410Z",
     "start_time": "2025-04-21T02:58:39.528600Z"
    }
   },
   "source": [
    "# @title Main function to fit bomb calorimetry data { display-mode: \"form\" }\n",
    "\n",
    "def get_deltaT(file_dict,verbose=False,plot=False):\n",
    "    \n",
    "    time_skip, time_ignition, time_exponential, time_post, data = get_time_post(file_dict,True)\n",
    "\n",
    "    times = data['time'].values\n",
    "    temperatures = data['temperature'].values\n",
    "    if plot : \n",
    "        plt.plot(times,temperatures)\n",
    "        plt.ylabel(r'Temperature ($^{\\circ}$C)')\n",
    "        plt.xlabel('Time (s)')\n",
    "\n",
    "    preignition_data = data[ data['time'] < time_ignition ]\n",
    "    preignition_lr = LinearRegression()\n",
    "    pre_x = preignition_data['time'].values.reshape(-1,1)\n",
    "    pre_y = preignition_data['temperature'].values\n",
    "    preignition_lr.fit(pre_x,pre_y)\n",
    "    Ti = preignition_lr.predict([[time_ignition]])[0]\n",
    "    temperatures_preignition = preignition_lr.predict(times.reshape(-1,1))\n",
    "    if plot : plt.plot(times,temperatures_preignition,':',color='k')\n",
    "\n",
    "    exponential_data = data.query('time >= {} and time < {}'.format(time_ignition,time_exponential))\n",
    "    Te = np.max(data['temperature'])\n",
    "    exponential_lr = LinearRegression()\n",
    "    exp_x = exponential_data['time'].values.reshape(-1,1)\n",
    "    exp_y = np.log(Te - exponential_data['temperature'].values)\n",
    "    exponential_lr.fit(exp_x,exp_y)\n",
    "    rate = -exponential_lr.coef_[0]\n",
    "    time_determination = time_ignition + 1/rate\n",
    "    temperatures_exponential = Te - np.exp(exponential_lr.predict(exp_x))\n",
    "    if plot : plt.plot(exp_x,temperatures_exponential,':',color='k')\n",
    "\n",
    "    postignition_data = data[ data['time'] > time_post ]\n",
    "    postignition_lr = LinearRegression()\n",
    "    post_x = postignition_data['time'].values.reshape(-1,1)\n",
    "    post_y = postignition_data['temperature'].values\n",
    "    postignition_lr.fit(post_x,post_y)\n",
    "    Tf = postignition_lr.predict([[time_post]])[0]\n",
    "    temperatures_postignition = postignition_lr.predict(times.reshape(-1,1))\n",
    "    if plot : plt.plot(times,temperatures_postignition,':',color='k')\n",
    "\n",
    "    Tmax = np.max(temperatures)\n",
    "    tmax = times[np.argmax(temperatures)]\n",
    "    Tmin = np.min(temperatures)\n",
    "    tmin = times[np.argmin(temperatures)]\n",
    "    deltaT_max = Tmax - Tmin\n",
    "    if verbose and plot : \n",
    "        plt.plot([tmax,tmin],[Tmax,Tmin],'o',color = 'C3')\n",
    "        plt.plot([tmin,tmax],[Tmin,Tmin],':',color = 'C3')\n",
    "        plt.plot([tmax,tmax],[Tmin,Tmax],color = 'C3')\n",
    "\n",
    "    deltaT = Tf - Ti\n",
    "    if verbose and plot : \n",
    "        plt.plot([time_ignition,time_post],[Ti,Tf],'o',color='C1')\n",
    "        plt.plot([time_ignition,time_post],[Ti,Ti],':',color='C1')\n",
    "        plt.plot([time_post,time_post],[Ti,Tf],color='C1')\n",
    "\n",
    "    Ti_corrected = preignition_lr.predict(np.array([[time_determination]]))[0]\n",
    "    Tf_corrected = postignition_lr.predict(np.array([[time_determination]]))[0]\n",
    "    deltaT_corrected = Tf_corrected - Ti_corrected\n",
    "    if plot : plt.plot(np.ones(2)*time_determination,[Ti_corrected,Tf_corrected],'o-',color='k')\n",
    "    if verbose : \n",
    "        print(\"The corrected deltaT is {:7.4f}\\nThe uncorrected deltaT is {:7.4f}\\nThe maximum deltaT from the data is {:7.4f}\".format(deltaT_corrected, deltaT, deltaT_max))\n",
    "        return\n",
    "    else :\n",
    "        return deltaT_corrected"
   ],
   "outputs": [],
   "execution_count": 100
  },
  {
   "cell_type": "markdown",
   "metadata": {},
   "source": [
    "## Visualize the Systems"
   ]
  },
  {
   "attachments": {},
   "cell_type": "markdown",
   "metadata": {},
   "source": [
    "The following module needs to be installed on Colab. We won't need it too much for this analysis, but they offer a lot of nice features for chemistry programming. "
   ]
  },
  {
   "cell_type": "code",
   "metadata": {
    "ExecuteTime": {
     "end_time": "2025-04-21T02:58:41.250409Z",
     "start_time": "2025-04-21T02:58:39.542467Z"
    }
   },
   "source": [
    "# @title Install and load RDKit { display-mode: \"form\" }\n",
    "!pip install rdkit\n",
    "from rdkit import Chem\n",
    "from rdkit.Chem import Draw\n",
    "!pip install cirpy\n",
    "import cirpy"
   ],
   "outputs": [
    {
     "name": "stdout",
     "output_type": "stream",
     "text": [
      "Requirement already satisfied: rdkit in /opt/anaconda3/lib/python3.12/site-packages (2024.9.5)\r\n",
      "Requirement already satisfied: numpy in /opt/anaconda3/lib/python3.12/site-packages (from rdkit) (1.26.4)\r\n",
      "Requirement already satisfied: Pillow in /opt/anaconda3/lib/python3.12/site-packages (from rdkit) (10.4.0)\r\n",
      "Requirement already satisfied: cirpy in /opt/anaconda3/lib/python3.12/site-packages (1.0.2)\r\n"
     ]
    }
   ],
   "execution_count": 101
  },
  {
   "attachments": {},
   "cell_type": "markdown",
   "metadata": {},
   "source": [
    "In particular we can use them to draw the molecules in our experiments. While for some molecules you can just write their names and RDKit will plot them, for most molecules you will need to provide their SMILES or their CAS numbers.  Luckily, CIRpy can usually find SMILES for you, if you type the common name correctly or if you know the CAS number. \n",
    "\n",
    "These are the SMILES for the molecules in your bomb calorimetry experiments:\n",
    "* Benzoic Acid: 'O=C(O)c1ccccc1'\n",
    "* Cyclopropane Carboxylic Acid: 'C1CC1C(=O)O'\n",
    "* 1,4-Cyclohexane Dicarboxylic Acid: 'C1CC(CCC1C(=O)O)C(=O)O'"
   ]
  },
  {
   "cell_type": "code",
   "metadata": {
    "ExecuteTime": {
     "end_time": "2025-04-21T02:58:41.656621Z",
     "start_time": "2025-04-21T02:58:41.257770Z"
    }
   },
   "source": [
    "# @title Choose the molecule to draw { display-mode: \"form\" }\n",
    "input = 'Cyclopropane Carboxylic Acid' # @param {type:\"string\"}\n",
    "input_type = 'name' # @param [\"smiles\", \"name\", \"cas\"] {allow-input: true}\n",
    "if input_type != 'smiles' :\n",
    "    smiles=cirpy.resolve( input, 'smiles')\n",
    "else:\n",
    "    smiles=input\n",
    "img = Draw.MolToImage( Chem.MolFromSmiles(smiles), size=(300, 300) )\n",
    "display(img)"
   ],
   "outputs": [
    {
     "data": {
      "text/plain": [
       "<PIL.PngImagePlugin.PngImageFile image mode=RGB size=300x300>"
      ],
      "image/png": "[encoded data removed]",
      "image/jpeg": "[encoded data removed]"
     },
     "metadata": {},
     "output_type": "display_data"
    }
   ],
   "execution_count": 102
  },
  {
   "cell_type": "markdown",
   "metadata": {},
   "source": [
    "## Load and Visualize the First Experiment"
   ]
  },
  {
   "attachments": {},
   "cell_type": "markdown",
   "metadata": {},
   "source": [
    "We need to load the Google Drive and access an example of a dataset from a calorimetry experiment. You can use the same set that I am using by downloading it from Canvas, [here](https://boisestatecanvas.instructure.com/courses/20544/files/10204027?wrap=1). Or you can use your own files. I am assuming the file in question will be located in a `Bomb_Data/` subfolder in your `Colab Notebook/` folder. "
   ]
  },
  {
   "cell_type": "code",
   "metadata": {
    "ExecuteTime": {
     "end_time": "2025-04-21T02:58:41.664886Z",
     "start_time": "2025-04-21T02:58:41.662848Z"
    }
   },
   "source": [
    "# @title Set Local Path { display-mode: \"form\" }\n",
    "# The following needs to be the path of the folder with all your collected data in .csv format\n",
    "\n",
    "path = '/Users/School/PycharmProjects/PChemLab/Bomb_Data/Bomb Cal/'"
   ],
   "outputs": [],
   "execution_count": 103
  },
  {
   "cell_type": "markdown",
   "metadata": {},
   "source": [
    "In order to streamline the fitting of the data, we will be storing the file that corresponds to each experiment into a Python dictionary (`dict`), together with all the relevant information of that experiment and the parameters that we need for the fit. You can use the same statement in the following, but make sure to change the file name from `BA1.csv` (the one that I am using) to the one you want to use."
   ]
  },
  {
   "cell_type": "code",
   "metadata": {
    "ExecuteTime": {
     "end_time": "2025-04-21T02:58:41.680174Z",
     "start_time": "2025-04-21T02:58:41.678136Z"
    }
   },
   "source": "file1 = {'path':path, 'name':'BA1.txt', 'set':'calibration', 'mass':0., 'time_skip':0, 'time_ignition': 0, 'time_exponential': 0, 'time_post': 0}",
   "outputs": [],
   "execution_count": 104
  },
  {
   "attachments": {},
   "cell_type": "markdown",
   "metadata": {},
   "source": [
    "We can now use one of the functions designed for this lab to read the file and save the data as a `Pandas.DataFrame` in an entry of the dictionary. Under the hood, we will be using the `pd.read_csv()` function. Note that the file in question has multiple columns and no labels for the columns. The first column should contain the time of the experiment in a HH:MM:SS format, the second column should contain the temperature recorded by the calorimeter, the other columns contain other information that we will not need. If your files are not consistent with this format, we will need to adjust the script appropriately."
   ]
  },
  {
   "cell_type": "code",
   "metadata": {
    "ExecuteTime": {
     "end_time": "2025-04-21T02:58:41.708931Z",
     "start_time": "2025-04-21T02:58:41.689130Z"
    }
   },
   "source": [
    "load_data_to_file_dict(file1)\n",
    "file1['data'].head()"
   ],
   "outputs": [
    {
     "data": {
      "text/plain": [
       "   temperature  time\n",
       "0         1.31     0\n",
       "1         1.31    10\n",
       "2         1.31    20\n",
       "3         1.31    30\n",
       "4         1.31    40"
      ],
      "text/html": [
       "<div>\n",
       "<style scoped>\n",
       "    .dataframe tbody tr th:only-of-type {\n",
       "        vertical-align: middle;\n",
       "    }\n",
       "\n",
       "    .dataframe tbody tr th {\n",
       "        vertical-align: top;\n",
       "    }\n",
       "\n",
       "    .dataframe thead th {\n",
       "        text-align: right;\n",
       "    }\n",
       "</style>\n",
       "<table border=\"1\" class=\"dataframe\">\n",
       "  <thead>\n",
       "    <tr style=\"text-align: right;\">\n",
       "      <th></th>\n",
       "      <th>temperature</th>\n",
       "      <th>time</th>\n",
       "    </tr>\n",
       "  </thead>\n",
       "  <tbody>\n",
       "    <tr>\n",
       "      <th>0</th>\n",
       "      <td>1.31</td>\n",
       "      <td>0</td>\n",
       "    </tr>\n",
       "    <tr>\n",
       "      <th>1</th>\n",
       "      <td>1.31</td>\n",
       "      <td>10</td>\n",
       "    </tr>\n",
       "    <tr>\n",
       "      <th>2</th>\n",
       "      <td>1.31</td>\n",
       "      <td>20</td>\n",
       "    </tr>\n",
       "    <tr>\n",
       "      <th>3</th>\n",
       "      <td>1.31</td>\n",
       "      <td>30</td>\n",
       "    </tr>\n",
       "    <tr>\n",
       "      <th>4</th>\n",
       "      <td>1.31</td>\n",
       "      <td>40</td>\n",
       "    </tr>\n",
       "  </tbody>\n",
       "</table>\n",
       "</div>"
      ]
     },
     "execution_count": 105,
     "metadata": {},
     "output_type": "execute_result"
    }
   ],
   "execution_count": 105
  },
  {
   "attachments": {},
   "cell_type": "markdown",
   "metadata": {},
   "source": [
    "`Pandas` allows to directly plot the data using `Matplotlib`, but for this lab you can use a function designed to work on dictionary similar to the one we just created. "
   ]
  },
  {
   "cell_type": "code",
   "metadata": {
    "ExecuteTime": {
     "end_time": "2025-04-21T02:58:41.941750Z",
     "start_time": "2025-04-21T02:58:41.732578Z"
    }
   },
   "source": [
    "plot_file_dict(file1)"
   ],
   "outputs": [
    {
     "data": {
      "text/plain": [
       "<Figure size 640x480 with 1 Axes>"
      ],
      "image/png": "[encoded data removed]"
     },
     "metadata": {},
     "output_type": "display_data"
    }
   ],
   "execution_count": 106
  },
  {
   "attachments": {},
   "cell_type": "markdown",
   "metadata": {},
   "source": [
    "How can we extract the jump in temperature during combustion from this curve?\n",
    "\n",
    "There are simple more hand-wavy strategies and more scientifically motivated approaches. Which one should we use?"
   ]
  },
  {
   "cell_type": "code",
   "metadata": {
    "ExecuteTime": {
     "end_time": "2025-04-21T02:58:42.391046Z",
     "start_time": "2025-04-21T02:58:42.050958Z"
    }
   },
   "source": [
    "get_deltaT(file1,verbose=True,plot=True)"
   ],
   "outputs": [
    {
     "ename": "ValueError",
     "evalue": "Found array with 0 sample(s) (shape=(0, 1)) while a minimum of 1 is required by LinearRegression.",
     "output_type": "error",
     "traceback": [
      "\u001B[0;31m---------------------------------------------------------------------------\u001B[0m",
      "\u001B[0;31mValueError\u001B[0m                                Traceback (most recent call last)",
      "Cell \u001B[0;32mIn[107], line 1\u001B[0m\n\u001B[0;32m----> 1\u001B[0m get_deltaT(file1,verbose\u001B[38;5;241m=\u001B[39m\u001B[38;5;28;01mTrue\u001B[39;00m,plot\u001B[38;5;241m=\u001B[39m\u001B[38;5;28;01mTrue\u001B[39;00m)\n",
      "Cell \u001B[0;32mIn[100], line 5\u001B[0m, in \u001B[0;36mget_deltaT\u001B[0;34m(file_dict, verbose, plot)\u001B[0m\n\u001B[1;32m      3\u001B[0m \u001B[38;5;28;01mdef\u001B[39;00m \u001B[38;5;21mget_deltaT\u001B[39m(file_dict,verbose\u001B[38;5;241m=\u001B[39m\u001B[38;5;28;01mFalse\u001B[39;00m,plot\u001B[38;5;241m=\u001B[39m\u001B[38;5;28;01mFalse\u001B[39;00m):\n\u001B[0;32m----> 5\u001B[0m     time_skip, time_ignition, time_exponential, time_post, data \u001B[38;5;241m=\u001B[39m get_time_post(file_dict,\u001B[38;5;28;01mTrue\u001B[39;00m)\n\u001B[1;32m      7\u001B[0m     times \u001B[38;5;241m=\u001B[39m data[\u001B[38;5;124m'\u001B[39m\u001B[38;5;124mtime\u001B[39m\u001B[38;5;124m'\u001B[39m]\u001B[38;5;241m.\u001B[39mvalues\n\u001B[1;32m      8\u001B[0m     temperatures \u001B[38;5;241m=\u001B[39m data[\u001B[38;5;124m'\u001B[39m\u001B[38;5;124mtemperature\u001B[39m\u001B[38;5;124m'\u001B[39m]\u001B[38;5;241m.\u001B[39mvalues\n",
      "Cell \u001B[0;32mIn[98], line 54\u001B[0m, in \u001B[0;36mget_time_post\u001B[0;34m(file_dict, recursive)\u001B[0m\n\u001B[1;32m     52\u001B[0m exp_x \u001B[38;5;241m=\u001B[39m exponential_data[\u001B[38;5;124m'\u001B[39m\u001B[38;5;124mtime\u001B[39m\u001B[38;5;124m'\u001B[39m]\u001B[38;5;241m.\u001B[39mvalues\u001B[38;5;241m.\u001B[39mreshape(\u001B[38;5;241m-\u001B[39m\u001B[38;5;241m1\u001B[39m,\u001B[38;5;241m1\u001B[39m)\n\u001B[1;32m     53\u001B[0m exp_y \u001B[38;5;241m=\u001B[39m np\u001B[38;5;241m.\u001B[39mlog(np\u001B[38;5;241m.\u001B[39mmax(temperatures) \u001B[38;5;241m-\u001B[39m exponential_data[\u001B[38;5;124m'\u001B[39m\u001B[38;5;124mtemperature\u001B[39m\u001B[38;5;124m'\u001B[39m]\u001B[38;5;241m.\u001B[39mvalues)\n\u001B[0;32m---> 54\u001B[0m exponential_lr\u001B[38;5;241m.\u001B[39mfit(exp_x,exp_y)\n\u001B[1;32m     55\u001B[0m rate \u001B[38;5;241m=\u001B[39m \u001B[38;5;241m-\u001B[39mexponential_lr\u001B[38;5;241m.\u001B[39mcoef_[\u001B[38;5;241m0\u001B[39m]\n\u001B[1;32m     56\u001B[0m time_post \u001B[38;5;241m=\u001B[39m time_ignition \u001B[38;5;241m+\u001B[39m \u001B[38;5;241m6\u001B[39m\u001B[38;5;241m/\u001B[39mrate\n",
      "File \u001B[0;32m/opt/anaconda3/lib/python3.12/site-packages/sklearn/base.py:1473\u001B[0m, in \u001B[0;36m_fit_context.<locals>.decorator.<locals>.wrapper\u001B[0;34m(estimator, *args, **kwargs)\u001B[0m\n\u001B[1;32m   1466\u001B[0m     estimator\u001B[38;5;241m.\u001B[39m_validate_params()\n\u001B[1;32m   1468\u001B[0m \u001B[38;5;28;01mwith\u001B[39;00m config_context(\n\u001B[1;32m   1469\u001B[0m     skip_parameter_validation\u001B[38;5;241m=\u001B[39m(\n\u001B[1;32m   1470\u001B[0m         prefer_skip_nested_validation \u001B[38;5;129;01mor\u001B[39;00m global_skip_validation\n\u001B[1;32m   1471\u001B[0m     )\n\u001B[1;32m   1472\u001B[0m ):\n\u001B[0;32m-> 1473\u001B[0m     \u001B[38;5;28;01mreturn\u001B[39;00m fit_method(estimator, \u001B[38;5;241m*\u001B[39margs, \u001B[38;5;241m*\u001B[39m\u001B[38;5;241m*\u001B[39mkwargs)\n",
      "File \u001B[0;32m/opt/anaconda3/lib/python3.12/site-packages/sklearn/linear_model/_base.py:609\u001B[0m, in \u001B[0;36mLinearRegression.fit\u001B[0;34m(self, X, y, sample_weight)\u001B[0m\n\u001B[1;32m    605\u001B[0m n_jobs_ \u001B[38;5;241m=\u001B[39m \u001B[38;5;28mself\u001B[39m\u001B[38;5;241m.\u001B[39mn_jobs\n\u001B[1;32m    607\u001B[0m accept_sparse \u001B[38;5;241m=\u001B[39m \u001B[38;5;28;01mFalse\u001B[39;00m \u001B[38;5;28;01mif\u001B[39;00m \u001B[38;5;28mself\u001B[39m\u001B[38;5;241m.\u001B[39mpositive \u001B[38;5;28;01melse\u001B[39;00m [\u001B[38;5;124m\"\u001B[39m\u001B[38;5;124mcsr\u001B[39m\u001B[38;5;124m\"\u001B[39m, \u001B[38;5;124m\"\u001B[39m\u001B[38;5;124mcsc\u001B[39m\u001B[38;5;124m\"\u001B[39m, \u001B[38;5;124m\"\u001B[39m\u001B[38;5;124mcoo\u001B[39m\u001B[38;5;124m\"\u001B[39m]\n\u001B[0;32m--> 609\u001B[0m X, y \u001B[38;5;241m=\u001B[39m \u001B[38;5;28mself\u001B[39m\u001B[38;5;241m.\u001B[39m_validate_data(\n\u001B[1;32m    610\u001B[0m     X,\n\u001B[1;32m    611\u001B[0m     y,\n\u001B[1;32m    612\u001B[0m     accept_sparse\u001B[38;5;241m=\u001B[39maccept_sparse,\n\u001B[1;32m    613\u001B[0m     y_numeric\u001B[38;5;241m=\u001B[39m\u001B[38;5;28;01mTrue\u001B[39;00m,\n\u001B[1;32m    614\u001B[0m     multi_output\u001B[38;5;241m=\u001B[39m\u001B[38;5;28;01mTrue\u001B[39;00m,\n\u001B[1;32m    615\u001B[0m     force_writeable\u001B[38;5;241m=\u001B[39m\u001B[38;5;28;01mTrue\u001B[39;00m,\n\u001B[1;32m    616\u001B[0m )\n\u001B[1;32m    618\u001B[0m has_sw \u001B[38;5;241m=\u001B[39m sample_weight \u001B[38;5;129;01mis\u001B[39;00m \u001B[38;5;129;01mnot\u001B[39;00m \u001B[38;5;28;01mNone\u001B[39;00m\n\u001B[1;32m    619\u001B[0m \u001B[38;5;28;01mif\u001B[39;00m has_sw:\n",
      "File \u001B[0;32m/opt/anaconda3/lib/python3.12/site-packages/sklearn/base.py:650\u001B[0m, in \u001B[0;36mBaseEstimator._validate_data\u001B[0;34m(self, X, y, reset, validate_separately, cast_to_ndarray, **check_params)\u001B[0m\n\u001B[1;32m    648\u001B[0m         y \u001B[38;5;241m=\u001B[39m check_array(y, input_name\u001B[38;5;241m=\u001B[39m\u001B[38;5;124m\"\u001B[39m\u001B[38;5;124my\u001B[39m\u001B[38;5;124m\"\u001B[39m, \u001B[38;5;241m*\u001B[39m\u001B[38;5;241m*\u001B[39mcheck_y_params)\n\u001B[1;32m    649\u001B[0m     \u001B[38;5;28;01melse\u001B[39;00m:\n\u001B[0;32m--> 650\u001B[0m         X, y \u001B[38;5;241m=\u001B[39m check_X_y(X, y, \u001B[38;5;241m*\u001B[39m\u001B[38;5;241m*\u001B[39mcheck_params)\n\u001B[1;32m    651\u001B[0m     out \u001B[38;5;241m=\u001B[39m X, y\n\u001B[1;32m    653\u001B[0m \u001B[38;5;28;01mif\u001B[39;00m \u001B[38;5;129;01mnot\u001B[39;00m no_val_X \u001B[38;5;129;01mand\u001B[39;00m check_params\u001B[38;5;241m.\u001B[39mget(\u001B[38;5;124m\"\u001B[39m\u001B[38;5;124mensure_2d\u001B[39m\u001B[38;5;124m\"\u001B[39m, \u001B[38;5;28;01mTrue\u001B[39;00m):\n",
      "File \u001B[0;32m/opt/anaconda3/lib/python3.12/site-packages/sklearn/utils/validation.py:1301\u001B[0m, in \u001B[0;36mcheck_X_y\u001B[0;34m(X, y, accept_sparse, accept_large_sparse, dtype, order, copy, force_writeable, force_all_finite, ensure_2d, allow_nd, multi_output, ensure_min_samples, ensure_min_features, y_numeric, estimator)\u001B[0m\n\u001B[1;32m   1296\u001B[0m         estimator_name \u001B[38;5;241m=\u001B[39m _check_estimator_name(estimator)\n\u001B[1;32m   1297\u001B[0m     \u001B[38;5;28;01mraise\u001B[39;00m \u001B[38;5;167;01mValueError\u001B[39;00m(\n\u001B[1;32m   1298\u001B[0m         \u001B[38;5;124mf\u001B[39m\u001B[38;5;124m\"\u001B[39m\u001B[38;5;132;01m{\u001B[39;00mestimator_name\u001B[38;5;132;01m}\u001B[39;00m\u001B[38;5;124m requires y to be passed, but the target y is None\u001B[39m\u001B[38;5;124m\"\u001B[39m\n\u001B[1;32m   1299\u001B[0m     )\n\u001B[0;32m-> 1301\u001B[0m X \u001B[38;5;241m=\u001B[39m check_array(\n\u001B[1;32m   1302\u001B[0m     X,\n\u001B[1;32m   1303\u001B[0m     accept_sparse\u001B[38;5;241m=\u001B[39maccept_sparse,\n\u001B[1;32m   1304\u001B[0m     accept_large_sparse\u001B[38;5;241m=\u001B[39maccept_large_sparse,\n\u001B[1;32m   1305\u001B[0m     dtype\u001B[38;5;241m=\u001B[39mdtype,\n\u001B[1;32m   1306\u001B[0m     order\u001B[38;5;241m=\u001B[39morder,\n\u001B[1;32m   1307\u001B[0m     copy\u001B[38;5;241m=\u001B[39mcopy,\n\u001B[1;32m   1308\u001B[0m     force_writeable\u001B[38;5;241m=\u001B[39mforce_writeable,\n\u001B[1;32m   1309\u001B[0m     force_all_finite\u001B[38;5;241m=\u001B[39mforce_all_finite,\n\u001B[1;32m   1310\u001B[0m     ensure_2d\u001B[38;5;241m=\u001B[39mensure_2d,\n\u001B[1;32m   1311\u001B[0m     allow_nd\u001B[38;5;241m=\u001B[39mallow_nd,\n\u001B[1;32m   1312\u001B[0m     ensure_min_samples\u001B[38;5;241m=\u001B[39mensure_min_samples,\n\u001B[1;32m   1313\u001B[0m     ensure_min_features\u001B[38;5;241m=\u001B[39mensure_min_features,\n\u001B[1;32m   1314\u001B[0m     estimator\u001B[38;5;241m=\u001B[39mestimator,\n\u001B[1;32m   1315\u001B[0m     input_name\u001B[38;5;241m=\u001B[39m\u001B[38;5;124m\"\u001B[39m\u001B[38;5;124mX\u001B[39m\u001B[38;5;124m\"\u001B[39m,\n\u001B[1;32m   1316\u001B[0m )\n\u001B[1;32m   1318\u001B[0m y \u001B[38;5;241m=\u001B[39m _check_y(y, multi_output\u001B[38;5;241m=\u001B[39mmulti_output, y_numeric\u001B[38;5;241m=\u001B[39my_numeric, estimator\u001B[38;5;241m=\u001B[39mestimator)\n\u001B[1;32m   1320\u001B[0m check_consistent_length(X, y)\n",
      "File \u001B[0;32m/opt/anaconda3/lib/python3.12/site-packages/sklearn/utils/validation.py:1087\u001B[0m, in \u001B[0;36mcheck_array\u001B[0;34m(array, accept_sparse, accept_large_sparse, dtype, order, copy, force_writeable, force_all_finite, ensure_2d, allow_nd, ensure_min_samples, ensure_min_features, estimator, input_name)\u001B[0m\n\u001B[1;32m   1085\u001B[0m     n_samples \u001B[38;5;241m=\u001B[39m _num_samples(array)\n\u001B[1;32m   1086\u001B[0m     \u001B[38;5;28;01mif\u001B[39;00m n_samples \u001B[38;5;241m<\u001B[39m ensure_min_samples:\n\u001B[0;32m-> 1087\u001B[0m         \u001B[38;5;28;01mraise\u001B[39;00m \u001B[38;5;167;01mValueError\u001B[39;00m(\n\u001B[1;32m   1088\u001B[0m             \u001B[38;5;124m\"\u001B[39m\u001B[38;5;124mFound array with \u001B[39m\u001B[38;5;132;01m%d\u001B[39;00m\u001B[38;5;124m sample(s) (shape=\u001B[39m\u001B[38;5;132;01m%s\u001B[39;00m\u001B[38;5;124m) while a\u001B[39m\u001B[38;5;124m\"\u001B[39m\n\u001B[1;32m   1089\u001B[0m             \u001B[38;5;124m\"\u001B[39m\u001B[38;5;124m minimum of \u001B[39m\u001B[38;5;132;01m%d\u001B[39;00m\u001B[38;5;124m is required\u001B[39m\u001B[38;5;132;01m%s\u001B[39;00m\u001B[38;5;124m.\u001B[39m\u001B[38;5;124m\"\u001B[39m\n\u001B[1;32m   1090\u001B[0m             \u001B[38;5;241m%\u001B[39m (n_samples, array\u001B[38;5;241m.\u001B[39mshape, ensure_min_samples, context)\n\u001B[1;32m   1091\u001B[0m         )\n\u001B[1;32m   1093\u001B[0m \u001B[38;5;28;01mif\u001B[39;00m ensure_min_features \u001B[38;5;241m>\u001B[39m \u001B[38;5;241m0\u001B[39m \u001B[38;5;129;01mand\u001B[39;00m array\u001B[38;5;241m.\u001B[39mndim \u001B[38;5;241m==\u001B[39m \u001B[38;5;241m2\u001B[39m:\n\u001B[1;32m   1094\u001B[0m     n_features \u001B[38;5;241m=\u001B[39m array\u001B[38;5;241m.\u001B[39mshape[\u001B[38;5;241m1\u001B[39m]\n",
      "\u001B[0;31mValueError\u001B[0m: Found array with 0 sample(s) (shape=(0, 1)) while a minimum of 1 is required by LinearRegression."
     ]
    }
   ],
   "execution_count": 107
  },
  {
   "cell_type": "markdown",
   "metadata": {},
   "source": [
    "## Fitting the Experiment {-}"
   ]
  },
  {
   "cell_type": "markdown",
   "metadata": {},
   "source": [
    "There are four regimes in a typical bomb calorimetry curve:\n",
    "* some shorter or longer transient regime at the beginning of the curve\n",
    "* a linear drift (with positive slope) in temperature in the pre-ignition part\n",
    "* an exponential growth during combustion\n",
    "* a linear drift (with positive or negative slope) in the post-ignition part\n",
    "\n",
    "Why these different trend? How do they affect our determination of the temperature jump?"
   ]
  },
  {
   "cell_type": "markdown",
   "metadata": {},
   "source": [
    "In the dictionary that we setup for our experiment there are four parameters that are related to the fitting procedure. \n",
    "* time_skip\n",
    "* time_ignition\n",
    "* time_exponential\n",
    "* time_post\n",
    "\n",
    "Each of these parameters is related to the different regimes we saw before. We designed functions to estimate these parameters in an automated way. However, nothing really works 100% of the times and it may be that you need to adjust some of these parameters to improve the fit."
   ]
  },
  {
   "attachments": {},
   "cell_type": "markdown",
   "metadata": {},
   "source": [
    "The very first part of the experiment is clearly not as clean and stable as we would need. We can assume there is an initial transient time that we need to wait before being able to use our data. Removing the transient part of the data will significantly improve the determination of the temperature jump. We can decide how much to skip by checking how well we can perform a linear fit of pre-ignition regime."
   ]
  },
  {
   "cell_type": "code",
   "execution_count": null,
   "metadata": {},
   "outputs": [],
   "source": [
    "# @title Try changing time_skip to see how good the fit becomes { display-mode: \"form\" }\n",
    "time_skip = 0 # @param {type:\"integer\"}\n",
    "file1['time_skip'] = time_skip\n",
    "check_time_skip(file1)"
   ]
  },
  {
   "cell_type": "markdown",
   "metadata": {},
   "source": [
    "Play with the commands above until you find a value of `time_skip` that you feel is adequate for your data. Once you have found it, try to re-run the calculation of the temperature jump and see how much it changed your results."
   ]
  },
  {
   "cell_type": "code",
   "execution_count": null,
   "metadata": {},
   "outputs": [],
   "source": [
    "get_deltaT(file1,verbose=True,plot=True)"
   ]
  },
  {
   "cell_type": "markdown",
   "metadata": {},
   "source": [
    "To find the ignition time we can use math and try to identify the part of the curve with a kink. Can you think at what property of the curve we can use?"
   ]
  },
  {
   "cell_type": "markdown",
   "metadata": {},
   "source": [
    "However, as stated above, sometimes errors in the calculations with a discrete dataset produce a not exact determination of the ignition time. It is a good practice to check that the value that you get by default is indeed the correct one."
   ]
  },
  {
   "cell_type": "code",
   "execution_count": null,
   "metadata": {},
   "outputs": [],
   "source": [
    "# @title Check if the default time_ignition looks good { display-mode: \"form\" }\n",
    "time_ignition = 0 # @param {type:\"integer\"}\n",
    "file1['time_ignition'] = time_ignition\n",
    "check_time_ignition(file1)"
   ]
  },
  {
   "cell_type": "markdown",
   "metadata": {},
   "source": [
    "The next regime of the experiment is a growth in the temperature that follows an exponential function: $T(t) = T_f - (T_f - T_i) e^{-k(t-t_i)}$. This is a non-linear function, but we can still perform a linear regression if we apply a transformation to linearize it, i.e., if we fit $\\log\\left({T_f-T(t)}\\right)$. Is this trick safe to play? What can go wrong?"
   ]
  },
  {
   "cell_type": "code",
   "execution_count": null,
   "metadata": {},
   "outputs": [],
   "source": [
    "# @title Adjust time_exponential { display-mode: \"form\" }\n",
    "time_exponential = 0 # @param {type:\"integer\"}\n",
    "semilog = False # @param {type:\"boolean\"}\n",
    "file1['time_exponential'] = time_exponential\n",
    "check_exponential_fit(file1,semilog=semilog)"
   ]
  },
  {
   "cell_type": "markdown",
   "metadata": {},
   "source": [
    "When you look at the fit in a semilog scale you will see that it gets worse towards the end. To improve the fit, we can select a better `time_exponential` to stop the fit. "
   ]
  },
  {
   "attachments": {},
   "cell_type": "markdown",
   "metadata": {},
   "source": [
    "Eventually, we need to select a point in the experiment (`time_post`) where the combustion is fully over and the temperature is again drifting with a linear slope. We can choose the post-ignition time as we like, provided it is in the linear drift region of the data. By default, the code will use the knowledge of the exponential decay rate to take a time when the exponential function is virtually zero. However, this point may fall outside of the range of times of your experiment or it may still not be good enough. "
   ]
  },
  {
   "cell_type": "code",
   "execution_count": null,
   "metadata": {},
   "outputs": [],
   "source": [
    "# @title Check if the default time_post looks good { display-mode: \"form\" }\n",
    "time_post = 0 # @param {type:\"integer\"}\n",
    "file1['time_post'] = time_post\n",
    "check_time_post(file1)"
   ]
  },
  {
   "cell_type": "markdown",
   "metadata": {},
   "source": [
    "Now that we have determined all the parameters of the fit, we can check again how much they change the final results."
   ]
  },
  {
   "cell_type": "code",
   "execution_count": null,
   "metadata": {},
   "outputs": [],
   "source": [
    "get_deltaT(file1,verbose=True,plot=True)"
   ]
  },
  {
   "cell_type": "markdown",
   "metadata": {},
   "source": [
    "## Check Each of Your Experiments"
   ]
  },
  {
   "cell_type": "markdown",
   "metadata": {},
   "source": [
    "Repeat this analysis for each one of your curves. Make sure to take note of the times that affect your analysis the most, you will need them in your worksheet. By selecting the type of check from the dropdown list, you can see the effect of the parameters on the whole fit or on the individual parts of the experiment."
   ]
  },
  {
   "cell_type": "code",
   "execution_count": null,
   "metadata": {},
   "outputs": [],
   "source": [
    "# @title Choose a new file and identify good values for the fitting times { display-mode: \"form\" }\n",
    "filename = '' # @param {type:\"string\"}\n",
    "time_skip = 0 # @param {type:\"integer\"}\n",
    "time_ignition = 0 # @param {type:\"integer\"}\n",
    "time_exponential = 0 # @param {type:\"integer\"}\n",
    "time_post = 0 # @param {type:\"integer\"}\n",
    "check_type = 'skip' # @param ['full','skip','ignition','exponential','post'] {allow-input: true}\n",
    "semilog = False # @param {type:\"boolean\"}\n",
    "newfile = {'path':path, 'name':filename, 'set':'calibration', 'mass':0., 'time_skip':time_skip, 'time_ignition': time_ignition, 'time_exponential': time_exponential, 'time_post': time_post}\n",
    "if check_type == 'full':\n",
    "    get_deltaT(newfile,verbose=True,plot=True)\n",
    "elif check_type == 'skip':\n",
    "    check_time_skip(newfile)\n",
    "elif check_type == 'ignition':\n",
    "    check_time_ignition(newfile)\n",
    "elif check_type == 'exponential':\n",
    "    check_exponential_fit(newfile,semilog)\n",
    "elif check_type == 'post':\n",
    "    check_time_post(newfile)"
   ]
  }
 ],
 "metadata": {
  "kernelspec": {
   "display_name": "Python 3",
   "language": "python",
   "name": "python3"
  },
  "language_info": {
   "codemirror_mode": {
    "name": "ipython",
    "version": 3
   },
   "file_extension": ".py",
   "mimetype": "text/x-python",
   "name": "python",
   "nbconvert_exporter": "python",
   "pygments_lexer": "ipython3"
  },
  "vscode": {
   "interpreter": {
    "hash": "949777d72b0d2535278d3dc13498b2535136f6dfe0678499012e853ee9abcab1"
   }
  }
 },
 "nbformat": 4,
 "nbformat_minor": 2
}
